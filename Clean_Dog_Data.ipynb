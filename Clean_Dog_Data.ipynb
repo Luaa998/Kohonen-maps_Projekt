{
 "cells": [
  {
   "cell_type": "markdown",
   "metadata": {},
   "source": [
    "\n",
    " Import the libraries\n"
   ]
  },
  {
   "cell_type": "code",
   "execution_count": 1,
   "metadata": {},
   "outputs": [],
   "source": [
    "#Data handling libraries\n",
    "import pandas"
   ]
  },
  {
   "cell_type": "code",
   "execution_count": 2,
   "metadata": {},
   "outputs": [
    {
     "name": "stdout",
     "output_type": "stream",
     "text": [
      "<class 'pandas.core.frame.DataFrame'>\n",
      "RangeIndex: 846 entries, 0 to 845\n",
      "Data columns (total 19 columns):\n",
      " #   Column                   Non-Null Count  Dtype  \n",
      "---  ------                   --------------  -----  \n",
      " 0   size_dog                 846 non-null    int64  \n",
      " 1   eye_circularity          841 non-null    float64\n",
      " 2   skull_circularity        842 non-null    float64\n",
      " 3   ear_size                 840 non-null    float64\n",
      " 4   eyes_distance            844 non-null    float64\n",
      " 5   ear_form                 846 non-null    int64  \n",
      " 6   hair_tone                845 non-null    float64\n",
      " 7   nose_elongatedness       845 non-null    float64\n",
      " 8   weight_dog               843 non-null    float64\n",
      " 9   muzzle_form              846 non-null    int64  \n",
      " 10  skin_tone_main           843 non-null    float64\n",
      " 11  skin_pattern_complexity  844 non-null    float64\n",
      " 12  body_length              844 non-null    float64\n",
      " 13  tail_length              842 non-null    float64\n",
      " 14  hair_curlness            840 non-null    float64\n",
      " 15  hair_length              845 non-null    float64\n",
      " 16  leg_front_number         845 non-null    float64\n",
      " 17  leg_back_number          846 non-null    int64  \n",
      " 18  breuni_class             846 non-null    object \n",
      "dtypes: float64(14), int64(4), object(1)\n",
      "memory usage: 125.7+ KB\n"
     ]
    }
   ],
   "source": [
    "# Read the csv file\n",
    "df = pandas.read_csv('data_dog.csv')\n",
    "df.info()"
   ]
  }
 ],
 "metadata": {
  "kernelspec": {
   "display_name": "Python 3.10.7 64-bit",
   "language": "python",
   "name": "python3"
  },
  "language_info": {
   "codemirror_mode": {
    "name": "ipython",
    "version": 3
   },
   "file_extension": ".py",
   "mimetype": "text/x-python",
   "name": "python",
   "nbconvert_exporter": "python",
   "pygments_lexer": "ipython3",
   "version": "3.10.7"
  },
  "orig_nbformat": 4,
  "vscode": {
   "interpreter": {
    "hash": "aee8b7b246df8f9039afb4144a1f6fd8d2ca17a180786b69acc140d282b71a49"
   }
  }
 },
 "nbformat": 4,
 "nbformat_minor": 2
}
