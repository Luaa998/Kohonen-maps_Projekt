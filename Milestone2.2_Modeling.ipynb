{
 "cells": [
  {
   "cell_type": "code",
   "execution_count": 86,
   "metadata": {},
   "outputs": [],
   "source": [
    "import pandas as pd\n",
    "import seaborn as sns\n",
    "from sklearn.ensemble import  RandomForestClassifier\n",
    "from sklearn.model_selection import train_test_split\n",
    "from sklearn.neighbors import KNeighborsClassifier\n",
    "from sklearn.metrics import accuracy_score\n",
    "from sklearn import metrics"
   ]
  },
  {
   "cell_type": "code",
   "execution_count": 87,
   "metadata": {},
   "outputs": [],
   "source": [
    "# empty df for the results\n",
    "df_score = pd.DataFrame(columns = ['ModelType', 'RFC Accuracy', 'KNC Accuracy'])"
   ]
  },
  {
   "cell_type": "markdown",
   "metadata": {},
   "source": [
    "<h1>Test-Training-Split for V1</h1>"
   ]
  },
  {
   "cell_type": "code",
   "execution_count": 88,
   "metadata": {},
   "outputs": [
    {
     "data": {
      "text/html": [
       "<div>\n",
       "<style scoped>\n",
       "    .dataframe tbody tr th:only-of-type {\n",
       "        vertical-align: middle;\n",
       "    }\n",
       "\n",
       "    .dataframe tbody tr th {\n",
       "        vertical-align: top;\n",
       "    }\n",
       "\n",
       "    .dataframe thead th {\n",
       "        text-align: right;\n",
       "    }\n",
       "</style>\n",
       "<table border=\"1\" class=\"dataframe\">\n",
       "  <thead>\n",
       "    <tr style=\"text-align: right;\">\n",
       "      <th></th>\n",
       "      <th>size_dog</th>\n",
       "      <th>eye_circularity</th>\n",
       "      <th>skull_circularity</th>\n",
       "      <th>ear_size</th>\n",
       "      <th>eyes_distance</th>\n",
       "      <th>ear_form</th>\n",
       "      <th>hair_tone</th>\n",
       "      <th>nose_elongatedness</th>\n",
       "      <th>weight_dog</th>\n",
       "      <th>muzzle_form</th>\n",
       "      <th>skin_tone_main</th>\n",
       "      <th>skin_pattern_complexity</th>\n",
       "      <th>body_length</th>\n",
       "      <th>tail_length</th>\n",
       "      <th>hair_curlness</th>\n",
       "      <th>hair_length</th>\n",
       "      <th>leg_front_number</th>\n",
       "      <th>leg_back_number</th>\n",
       "      <th>breuni_class</th>\n",
       "    </tr>\n",
       "  </thead>\n",
       "  <tbody>\n",
       "    <tr>\n",
       "      <th>0</th>\n",
       "      <td>95.0</td>\n",
       "      <td>48.0</td>\n",
       "      <td>83.0</td>\n",
       "      <td>178.0</td>\n",
       "      <td>72.0</td>\n",
       "      <td>10.0</td>\n",
       "      <td>162.0</td>\n",
       "      <td>42.0</td>\n",
       "      <td>20.0</td>\n",
       "      <td>159.0</td>\n",
       "      <td>176.0</td>\n",
       "      <td>379.0</td>\n",
       "      <td>184.0</td>\n",
       "      <td>70.0</td>\n",
       "      <td>6.0</td>\n",
       "      <td>16.0</td>\n",
       "      <td>187.0</td>\n",
       "      <td>197.0</td>\n",
       "      <td>fashion_lifestyle_elite</td>\n",
       "    </tr>\n",
       "    <tr>\n",
       "      <th>1</th>\n",
       "      <td>91.0</td>\n",
       "      <td>41.0</td>\n",
       "      <td>84.0</td>\n",
       "      <td>141.0</td>\n",
       "      <td>57.0</td>\n",
       "      <td>9.0</td>\n",
       "      <td>149.0</td>\n",
       "      <td>45.0</td>\n",
       "      <td>19.0</td>\n",
       "      <td>143.0</td>\n",
       "      <td>170.0</td>\n",
       "      <td>330.0</td>\n",
       "      <td>158.0</td>\n",
       "      <td>72.0</td>\n",
       "      <td>9.0</td>\n",
       "      <td>14.0</td>\n",
       "      <td>189.0</td>\n",
       "      <td>199.0</td>\n",
       "      <td>fashion_lifestyle_elite</td>\n",
       "    </tr>\n",
       "    <tr>\n",
       "      <th>2</th>\n",
       "      <td>104.0</td>\n",
       "      <td>50.0</td>\n",
       "      <td>106.0</td>\n",
       "      <td>209.0</td>\n",
       "      <td>66.0</td>\n",
       "      <td>10.0</td>\n",
       "      <td>207.0</td>\n",
       "      <td>32.0</td>\n",
       "      <td>23.0</td>\n",
       "      <td>158.0</td>\n",
       "      <td>223.0</td>\n",
       "      <td>635.0</td>\n",
       "      <td>220.0</td>\n",
       "      <td>73.0</td>\n",
       "      <td>14.0</td>\n",
       "      <td>9.0</td>\n",
       "      <td>188.0</td>\n",
       "      <td>196.0</td>\n",
       "      <td>main_stream</td>\n",
       "    </tr>\n",
       "    <tr>\n",
       "      <th>3</th>\n",
       "      <td>93.0</td>\n",
       "      <td>41.0</td>\n",
       "      <td>82.0</td>\n",
       "      <td>159.0</td>\n",
       "      <td>63.0</td>\n",
       "      <td>9.0</td>\n",
       "      <td>144.0</td>\n",
       "      <td>46.0</td>\n",
       "      <td>19.0</td>\n",
       "      <td>143.0</td>\n",
       "      <td>160.0</td>\n",
       "      <td>309.0</td>\n",
       "      <td>127.0</td>\n",
       "      <td>63.0</td>\n",
       "      <td>6.0</td>\n",
       "      <td>10.0</td>\n",
       "      <td>199.0</td>\n",
       "      <td>207.0</td>\n",
       "      <td>fashion_lifestyle_elite</td>\n",
       "    </tr>\n",
       "    <tr>\n",
       "      <th>4</th>\n",
       "      <td>85.0</td>\n",
       "      <td>44.0</td>\n",
       "      <td>70.0</td>\n",
       "      <td>205.0</td>\n",
       "      <td>103.0</td>\n",
       "      <td>52.0</td>\n",
       "      <td>149.0</td>\n",
       "      <td>45.0</td>\n",
       "      <td>19.0</td>\n",
       "      <td>144.0</td>\n",
       "      <td>241.0</td>\n",
       "      <td>325.0</td>\n",
       "      <td>188.0</td>\n",
       "      <td>127.0</td>\n",
       "      <td>9.0</td>\n",
       "      <td>11.0</td>\n",
       "      <td>180.0</td>\n",
       "      <td>183.0</td>\n",
       "      <td>trendy</td>\n",
       "    </tr>\n",
       "  </tbody>\n",
       "</table>\n",
       "</div>"
      ],
      "text/plain": [
       "   size_dog  eye_circularity  skull_circularity  ear_size  eyes_distance  \\\n",
       "0      95.0             48.0               83.0     178.0           72.0   \n",
       "1      91.0             41.0               84.0     141.0           57.0   \n",
       "2     104.0             50.0              106.0     209.0           66.0   \n",
       "3      93.0             41.0               82.0     159.0           63.0   \n",
       "4      85.0             44.0               70.0     205.0          103.0   \n",
       "\n",
       "   ear_form  hair_tone  nose_elongatedness  weight_dog  muzzle_form  \\\n",
       "0      10.0      162.0                42.0        20.0        159.0   \n",
       "1       9.0      149.0                45.0        19.0        143.0   \n",
       "2      10.0      207.0                32.0        23.0        158.0   \n",
       "3       9.0      144.0                46.0        19.0        143.0   \n",
       "4      52.0      149.0                45.0        19.0        144.0   \n",
       "\n",
       "   skin_tone_main  skin_pattern_complexity  body_length  tail_length  \\\n",
       "0           176.0                    379.0        184.0         70.0   \n",
       "1           170.0                    330.0        158.0         72.0   \n",
       "2           223.0                    635.0        220.0         73.0   \n",
       "3           160.0                    309.0        127.0         63.0   \n",
       "4           241.0                    325.0        188.0        127.0   \n",
       "\n",
       "   hair_curlness  hair_length  leg_front_number  leg_back_number  \\\n",
       "0            6.0         16.0             187.0            197.0   \n",
       "1            9.0         14.0             189.0            199.0   \n",
       "2           14.0          9.0             188.0            196.0   \n",
       "3            6.0         10.0             199.0            207.0   \n",
       "4            9.0         11.0             180.0            183.0   \n",
       "\n",
       "              breuni_class  \n",
       "0  fashion_lifestyle_elite  \n",
       "1  fashion_lifestyle_elite  \n",
       "2              main_stream  \n",
       "3  fashion_lifestyle_elite  \n",
       "4                   trendy  "
      ]
     },
     "execution_count": 88,
     "metadata": {},
     "output_type": "execute_result"
    }
   ],
   "source": [
    "df1 = pd.read_csv('data/test_and_training_data/v1_data_dog_normal.csv')\n",
    "df1.head()"
   ]
  },
  {
   "cell_type": "code",
   "execution_count": 89,
   "metadata": {},
   "outputs": [
    {
     "name": "stdout",
     "output_type": "stream",
     "text": [
      "(846, 18) (846,)\n",
      "(592, 18) (254, 18) (592,) (254,)\n"
     ]
    }
   ],
   "source": [
    "data = df1.values\n",
    "X, y = data[:, :-1], data[:, -1]\n",
    "print(X.shape, y.shape)\n",
    "# using the train test split function\n",
    "X_train, X_test, y_train, y_test = train_test_split(X, y, test_size=0.30, random_state=1)\n",
    "print(X_train.shape, X_test.shape, y_train.shape, y_test.shape)"
   ]
  },
  {
   "cell_type": "code",
   "execution_count": 90,
   "metadata": {},
   "outputs": [
    {
     "name": "stdout",
     "output_type": "stream",
     "text": [
      "Accuracy: 0.949\n"
     ]
    }
   ],
   "source": [
    "# Random Forest Classifier:\n",
    "model = RandomForestClassifier(random_state=1)\n",
    "model.fit(X_train, y_train)\n",
    "# make predictions\n",
    "yhat = model.predict(X_test)\n",
    "# evaluate predictions\n",
    "acc = accuracy_score(y_test, yhat)\n",
    "print('Accuracy: %.3f' % acc)"
   ]
  },
  {
   "cell_type": "code",
   "execution_count": 91,
   "metadata": {},
   "outputs": [
    {
     "name": "stdout",
     "output_type": "stream",
     "text": [
      "Accuracy: 0.8188976377952756\n"
     ]
    }
   ],
   "source": [
    "# K Nearest Neighbor Classification:\n",
    "knn = KNeighborsClassifier(n_neighbors=5)\n",
    "knn.fit(X_train, y_train)\n",
    "# make predictions\n",
    "y_pred = knn.predict(X_test)\n",
    "# evaluate predictions\n",
    "print('Accuracy:', metrics.accuracy_score(y_test, y_pred))"
   ]
  },
  {
   "cell_type": "code",
   "execution_count": 92,
   "metadata": {},
   "outputs": [],
   "source": [
    "# Append Scores in the df_score Dataframe\n",
    "df_score.loc[0]=[\"v1: normal\", acc, metrics.accuracy_score(y_test, y_pred)]"
   ]
  },
  {
   "cell_type": "markdown",
   "metadata": {},
   "source": [
    "<h1>Test-Training-Split for V2</h1>"
   ]
  },
  {
   "cell_type": "code",
   "execution_count": 93,
   "metadata": {},
   "outputs": [
    {
     "data": {
      "text/html": [
       "<div>\n",
       "<style scoped>\n",
       "    .dataframe tbody tr th:only-of-type {\n",
       "        vertical-align: middle;\n",
       "    }\n",
       "\n",
       "    .dataframe tbody tr th {\n",
       "        vertical-align: top;\n",
       "    }\n",
       "\n",
       "    .dataframe thead th {\n",
       "        text-align: right;\n",
       "    }\n",
       "</style>\n",
       "<table border=\"1\" class=\"dataframe\">\n",
       "  <thead>\n",
       "    <tr style=\"text-align: right;\">\n",
       "      <th></th>\n",
       "      <th>0</th>\n",
       "      <th>1</th>\n",
       "      <th>2</th>\n",
       "      <th>3</th>\n",
       "      <th>4</th>\n",
       "      <th>breuni_class</th>\n",
       "    </tr>\n",
       "  </thead>\n",
       "  <tbody>\n",
       "    <tr>\n",
       "      <th>0</th>\n",
       "      <td>0.329746</td>\n",
       "      <td>-0.215835</td>\n",
       "      <td>0.997248</td>\n",
       "      <td>0.171485</td>\n",
       "      <td>0.081948</td>\n",
       "      <td>fashion_lifestyle_elite</td>\n",
       "    </tr>\n",
       "    <tr>\n",
       "      <th>1</th>\n",
       "      <td>-1.594478</td>\n",
       "      <td>-0.422979</td>\n",
       "      <td>-0.370002</td>\n",
       "      <td>0.231497</td>\n",
       "      <td>0.691322</td>\n",
       "      <td>fashion_lifestyle_elite</td>\n",
       "    </tr>\n",
       "    <tr>\n",
       "      <th>2</th>\n",
       "      <td>3.760799</td>\n",
       "      <td>0.186851</td>\n",
       "      <td>0.087971</td>\n",
       "      <td>1.202770</td>\n",
       "      <td>0.729704</td>\n",
       "      <td>main_stream</td>\n",
       "    </tr>\n",
       "    <tr>\n",
       "      <th>3</th>\n",
       "      <td>-1.742311</td>\n",
       "      <td>-2.825632</td>\n",
       "      <td>0.111181</td>\n",
       "      <td>0.374927</td>\n",
       "      <td>-0.370714</td>\n",
       "      <td>fashion_lifestyle_elite</td>\n",
       "    </tr>\n",
       "    <tr>\n",
       "      <th>4</th>\n",
       "      <td>0.549668</td>\n",
       "      <td>4.764098</td>\n",
       "      <td>11.689234</td>\n",
       "      <td>0.163830</td>\n",
       "      <td>3.257210</td>\n",
       "      <td>trendy</td>\n",
       "    </tr>\n",
       "  </tbody>\n",
       "</table>\n",
       "</div>"
      ],
      "text/plain": [
       "          0         1          2         3         4             breuni_class\n",
       "0  0.329746 -0.215835   0.997248  0.171485  0.081948  fashion_lifestyle_elite\n",
       "1 -1.594478 -0.422979  -0.370002  0.231497  0.691322  fashion_lifestyle_elite\n",
       "2  3.760799  0.186851   0.087971  1.202770  0.729704              main_stream\n",
       "3 -1.742311 -2.825632   0.111181  0.374927 -0.370714  fashion_lifestyle_elite\n",
       "4  0.549668  4.764098  11.689234  0.163830  3.257210                   trendy"
      ]
     },
     "execution_count": 93,
     "metadata": {},
     "output_type": "execute_result"
    }
   ],
   "source": [
    "df2 = pd.read_csv('data/test_and_training_data/v2_data_dog_PCA+standardized.csv')\n",
    "df2.head()"
   ]
  },
  {
   "cell_type": "code",
   "execution_count": 94,
   "metadata": {},
   "outputs": [
    {
     "name": "stdout",
     "output_type": "stream",
     "text": [
      "(846, 5) (846,)\n",
      "(592, 5) (254, 5) (592,) (254,)\n"
     ]
    }
   ],
   "source": [
    "data = df2.values\n",
    "X, y = data[:, :-1], data[:, -1]\n",
    "print(X.shape, y.shape)\n",
    "# using the train test split function\n",
    "X_train, X_test, y_train, y_test = train_test_split(X, y, test_size=0.30, random_state=1)\n",
    "print(X_train.shape, X_test.shape, y_train.shape, y_test.shape)"
   ]
  },
  {
   "cell_type": "code",
   "execution_count": 95,
   "metadata": {},
   "outputs": [
    {
     "name": "stdout",
     "output_type": "stream",
     "text": [
      "Accuracy: 0.783\n"
     ]
    }
   ],
   "source": [
    "# Random Forest Classifier:\n",
    "model = RandomForestClassifier(random_state=1)\n",
    "model.fit(X_train, y_train)\n",
    "# make predictions\n",
    "yhat = model.predict(X_test)\n",
    "# evaluate predictions\n",
    "acc = accuracy_score(y_test, yhat)\n",
    "print('Accuracy: %.3f' % acc)"
   ]
  },
  {
   "cell_type": "code",
   "execution_count": 96,
   "metadata": {},
   "outputs": [
    {
     "name": "stdout",
     "output_type": "stream",
     "text": [
      "Accuracy: 0.7283464566929134\n"
     ]
    }
   ],
   "source": [
    "# K Nearest Neighbor Classification:\n",
    "knn = KNeighborsClassifier(n_neighbors=5)\n",
    "knn.fit(X_train, y_train)\n",
    "# make predictions\n",
    "y_pred = knn.predict(X_test)\n",
    "# evaluate predictions\n",
    "print('Accuracy:', metrics.accuracy_score(y_test, y_pred))"
   ]
  },
  {
   "cell_type": "code",
   "execution_count": 97,
   "metadata": {},
   "outputs": [],
   "source": [
    "# Append Scores in the df_score Dataframe\n",
    "df_score.loc[1]=[\"v2: PCA + standardized\", acc, metrics.accuracy_score(y_test, y_pred)]"
   ]
  },
  {
   "cell_type": "markdown",
   "metadata": {},
   "source": [
    "<h1>Test-Training-Split for V3</h1>"
   ]
  },
  {
   "cell_type": "code",
   "execution_count": 98,
   "metadata": {},
   "outputs": [
    {
     "data": {
      "text/html": [
       "<div>\n",
       "<style scoped>\n",
       "    .dataframe tbody tr th:only-of-type {\n",
       "        vertical-align: middle;\n",
       "    }\n",
       "\n",
       "    .dataframe tbody tr th {\n",
       "        vertical-align: top;\n",
       "    }\n",
       "\n",
       "    .dataframe thead th {\n",
       "        text-align: right;\n",
       "    }\n",
       "</style>\n",
       "<table border=\"1\" class=\"dataframe\">\n",
       "  <thead>\n",
       "    <tr style=\"text-align: right;\">\n",
       "      <th></th>\n",
       "      <th>0</th>\n",
       "      <th>breuni_class</th>\n",
       "    </tr>\n",
       "  </thead>\n",
       "  <tbody>\n",
       "    <tr>\n",
       "      <th>0</th>\n",
       "      <td>-57.332839</td>\n",
       "      <td>fashion_lifestyle_elite</td>\n",
       "    </tr>\n",
       "    <tr>\n",
       "      <th>1</th>\n",
       "      <td>-116.911811</td>\n",
       "      <td>fashion_lifestyle_elite</td>\n",
       "    </tr>\n",
       "    <tr>\n",
       "      <th>2</th>\n",
       "      <td>211.526976</td>\n",
       "      <td>main_stream</td>\n",
       "    </tr>\n",
       "    <tr>\n",
       "      <th>3</th>\n",
       "      <td>-141.291488</td>\n",
       "      <td>fashion_lifestyle_elite</td>\n",
       "    </tr>\n",
       "    <tr>\n",
       "      <th>4</th>\n",
       "      <td>-98.423682</td>\n",
       "      <td>trendy</td>\n",
       "    </tr>\n",
       "  </tbody>\n",
       "</table>\n",
       "</div>"
      ],
      "text/plain": [
       "            0             breuni_class\n",
       "0  -57.332839  fashion_lifestyle_elite\n",
       "1 -116.911811  fashion_lifestyle_elite\n",
       "2  211.526976              main_stream\n",
       "3 -141.291488  fashion_lifestyle_elite\n",
       "4  -98.423682                   trendy"
      ]
     },
     "execution_count": 98,
     "metadata": {},
     "output_type": "execute_result"
    }
   ],
   "source": [
    "df3 = pd.read_csv('data/test_and_training_data/v3_data_dog_PCA-standardized.csv')\n",
    "df3.head()"
   ]
  },
  {
   "cell_type": "code",
   "execution_count": 99,
   "metadata": {},
   "outputs": [
    {
     "name": "stdout",
     "output_type": "stream",
     "text": [
      "(846, 1) (846,)\n",
      "(592, 1) (254, 1) (592,) (254,)\n"
     ]
    }
   ],
   "source": [
    "data = df3.values\n",
    "X, y = data[:, :-1], data[:, -1]\n",
    "print(X.shape, y.shape)\n",
    "# using the train test split function\n",
    "X_train, X_test, y_train, y_test = train_test_split(X, y, test_size=0.30, random_state=1)\n",
    "print(X_train.shape, X_test.shape, y_train.shape, y_test.shape)"
   ]
  },
  {
   "cell_type": "code",
   "execution_count": 100,
   "metadata": {},
   "outputs": [
    {
     "name": "stdout",
     "output_type": "stream",
     "text": [
      "Accuracy: 0.630\n"
     ]
    }
   ],
   "source": [
    "# Random Forest Classifier:\n",
    "model = RandomForestClassifier(random_state=1)\n",
    "model.fit(X_train, y_train)\n",
    "# make predictions\n",
    "yhat = model.predict(X_test)\n",
    "# evaluate predictions\n",
    "acc = accuracy_score(y_test, yhat)\n",
    "print('Accuracy: %.3f' % acc)"
   ]
  },
  {
   "cell_type": "code",
   "execution_count": 101,
   "metadata": {},
   "outputs": [
    {
     "name": "stdout",
     "output_type": "stream",
     "text": [
      "Accuracy: 0.6614173228346457\n"
     ]
    }
   ],
   "source": [
    "# K Nearest Neighbor Classification:\n",
    "knn = KNeighborsClassifier(n_neighbors=5)\n",
    "knn.fit(X_train, y_train)\n",
    "# make predictions\n",
    "y_pred = knn.predict(X_test)\n",
    "# evaluate predictions\n",
    "print('Accuracy:', metrics.accuracy_score(y_test, y_pred))"
   ]
  },
  {
   "cell_type": "code",
   "execution_count": 102,
   "metadata": {},
   "outputs": [],
   "source": [
    "# Append Scores in the df_score Dataframe\n",
    "df_score.loc[2]=[\"v3: PCA - standardized\", acc, metrics.accuracy_score(y_test, y_pred)]"
   ]
  },
  {
   "cell_type": "markdown",
   "metadata": {},
   "source": [
    "<h1>Test-Training-Split for V4 with 1 Component</h1>"
   ]
  },
  {
   "cell_type": "code",
   "execution_count": 103,
   "metadata": {},
   "outputs": [
    {
     "data": {
      "text/html": [
       "<div>\n",
       "<style scoped>\n",
       "    .dataframe tbody tr th:only-of-type {\n",
       "        vertical-align: middle;\n",
       "    }\n",
       "\n",
       "    .dataframe tbody tr th {\n",
       "        vertical-align: top;\n",
       "    }\n",
       "\n",
       "    .dataframe thead th {\n",
       "        text-align: right;\n",
       "    }\n",
       "</style>\n",
       "<table border=\"1\" class=\"dataframe\">\n",
       "  <thead>\n",
       "    <tr style=\"text-align: right;\">\n",
       "      <th></th>\n",
       "      <th>0</th>\n",
       "      <th>breuni_class</th>\n",
       "    </tr>\n",
       "  </thead>\n",
       "  <tbody>\n",
       "    <tr>\n",
       "      <th>0</th>\n",
       "      <td>-61.777979</td>\n",
       "      <td>fashion_lifestyle_elite</td>\n",
       "    </tr>\n",
       "    <tr>\n",
       "      <th>1</th>\n",
       "      <td>-163.733415</td>\n",
       "      <td>fashion_lifestyle_elite</td>\n",
       "    </tr>\n",
       "    <tr>\n",
       "      <th>2</th>\n",
       "      <td>339.649554</td>\n",
       "      <td>main_stream</td>\n",
       "    </tr>\n",
       "    <tr>\n",
       "      <th>3</th>\n",
       "      <td>-193.022682</td>\n",
       "      <td>fashion_lifestyle_elite</td>\n",
       "    </tr>\n",
       "    <tr>\n",
       "      <th>4</th>\n",
       "      <td>-238.553359</td>\n",
       "      <td>trendy</td>\n",
       "    </tr>\n",
       "  </tbody>\n",
       "</table>\n",
       "</div>"
      ],
      "text/plain": [
       "            0             breuni_class\n",
       "0  -61.777979  fashion_lifestyle_elite\n",
       "1 -163.733415  fashion_lifestyle_elite\n",
       "2  339.649554              main_stream\n",
       "3 -193.022682  fashion_lifestyle_elite\n",
       "4 -238.553359                   trendy"
      ]
     },
     "execution_count": 103,
     "metadata": {},
     "output_type": "execute_result"
    }
   ],
   "source": [
    "df4 = pd.read_csv('data/test_and_training_data/v4.1_data_dog_IsoMaps.csv')\n",
    "df4.head()"
   ]
  },
  {
   "cell_type": "code",
   "execution_count": 104,
   "metadata": {},
   "outputs": [
    {
     "name": "stdout",
     "output_type": "stream",
     "text": [
      "(846, 1) (846,)\n",
      "(592, 1) (254, 1) (592,) (254,)\n"
     ]
    }
   ],
   "source": [
    "data = df4.values\n",
    "X, y = data[:, :-1], data[:, -1]\n",
    "print(X.shape, y.shape)\n",
    "# using the train test split function\n",
    "X_train, X_test, y_train, y_test = train_test_split(X, y, test_size=0.30, random_state=1)\n",
    "print(X_train.shape, X_test.shape, y_train.shape, y_test.shape)"
   ]
  },
  {
   "cell_type": "code",
   "execution_count": 105,
   "metadata": {},
   "outputs": [
    {
     "name": "stdout",
     "output_type": "stream",
     "text": [
      "Accuracy: 0.630\n"
     ]
    }
   ],
   "source": [
    "# Random Forest Classifier:\n",
    "model = RandomForestClassifier(random_state=1)\n",
    "model.fit(X_train, y_train)\n",
    "# make predictions\n",
    "yhat = model.predict(X_test)\n",
    "# evaluate predictions\n",
    "acc = accuracy_score(y_test, yhat)\n",
    "print('Accuracy: %.3f' % acc)"
   ]
  },
  {
   "cell_type": "code",
   "execution_count": 106,
   "metadata": {},
   "outputs": [
    {
     "name": "stdout",
     "output_type": "stream",
     "text": [
      "Accuracy: 0.6220472440944882\n"
     ]
    }
   ],
   "source": [
    "# K Nearest Neighbor Classification:\n",
    "knn = KNeighborsClassifier(n_neighbors=5)\n",
    "knn.fit(X_train, y_train)\n",
    "# make predictions\n",
    "y_pred = knn.predict(X_test)\n",
    "# evaluate predictions\n",
    "print('Accuracy:', metrics.accuracy_score(y_test, y_pred))"
   ]
  },
  {
   "cell_type": "code",
   "execution_count": 107,
   "metadata": {},
   "outputs": [],
   "source": [
    "# Append Scores in the df_score Dataframe\n",
    "df_score.loc[3]=[\"v4: IsoMaps with 1 Component\", acc, metrics.accuracy_score(y_test, y_pred)]"
   ]
  },
  {
   "cell_type": "markdown",
   "metadata": {},
   "source": [
    "<h1>Test-Training-Split for V4 with 2 Component</h1>"
   ]
  },
  {
   "cell_type": "code",
   "execution_count": 108,
   "metadata": {},
   "outputs": [
    {
     "data": {
      "text/html": [
       "<div>\n",
       "<style scoped>\n",
       "    .dataframe tbody tr th:only-of-type {\n",
       "        vertical-align: middle;\n",
       "    }\n",
       "\n",
       "    .dataframe tbody tr th {\n",
       "        vertical-align: top;\n",
       "    }\n",
       "\n",
       "    .dataframe thead th {\n",
       "        text-align: right;\n",
       "    }\n",
       "</style>\n",
       "<table border=\"1\" class=\"dataframe\">\n",
       "  <thead>\n",
       "    <tr style=\"text-align: right;\">\n",
       "      <th></th>\n",
       "      <th>0</th>\n",
       "      <th>1</th>\n",
       "      <th>breuni_class</th>\n",
       "    </tr>\n",
       "  </thead>\n",
       "  <tbody>\n",
       "    <tr>\n",
       "      <th>0</th>\n",
       "      <td>-61.777979</td>\n",
       "      <td>78.625284</td>\n",
       "      <td>fashion_lifestyle_elite</td>\n",
       "    </tr>\n",
       "    <tr>\n",
       "      <th>1</th>\n",
       "      <td>-163.733415</td>\n",
       "      <td>30.556835</td>\n",
       "      <td>fashion_lifestyle_elite</td>\n",
       "    </tr>\n",
       "    <tr>\n",
       "      <th>2</th>\n",
       "      <td>339.649554</td>\n",
       "      <td>30.058836</td>\n",
       "      <td>main_stream</td>\n",
       "    </tr>\n",
       "    <tr>\n",
       "      <th>3</th>\n",
       "      <td>-193.022682</td>\n",
       "      <td>-4.488933</td>\n",
       "      <td>fashion_lifestyle_elite</td>\n",
       "    </tr>\n",
       "    <tr>\n",
       "      <th>4</th>\n",
       "      <td>-238.553359</td>\n",
       "      <td>136.040289</td>\n",
       "      <td>trendy</td>\n",
       "    </tr>\n",
       "  </tbody>\n",
       "</table>\n",
       "</div>"
      ],
      "text/plain": [
       "            0           1             breuni_class\n",
       "0  -61.777979   78.625284  fashion_lifestyle_elite\n",
       "1 -163.733415   30.556835  fashion_lifestyle_elite\n",
       "2  339.649554   30.058836              main_stream\n",
       "3 -193.022682   -4.488933  fashion_lifestyle_elite\n",
       "4 -238.553359  136.040289                   trendy"
      ]
     },
     "execution_count": 108,
     "metadata": {},
     "output_type": "execute_result"
    }
   ],
   "source": [
    "df4 = pd.read_csv('data/test_and_training_data/v4.2_data_dog_IsoMaps.csv')\n",
    "df4.head()"
   ]
  },
  {
   "cell_type": "code",
   "execution_count": 109,
   "metadata": {},
   "outputs": [
    {
     "name": "stdout",
     "output_type": "stream",
     "text": [
      "(846, 2) (846,)\n",
      "(592, 2) (254, 2) (592,) (254,)\n"
     ]
    }
   ],
   "source": [
    "data = df4.values\n",
    "X, y = data[:, :-1], data[:, -1]\n",
    "print(X.shape, y.shape)\n",
    "# using the train test split function\n",
    "X_train, X_test, y_train, y_test = train_test_split(X, y, test_size=0.30, random_state=1)\n",
    "print(X_train.shape, X_test.shape, y_train.shape, y_test.shape)"
   ]
  },
  {
   "cell_type": "code",
   "execution_count": 110,
   "metadata": {},
   "outputs": [
    {
     "name": "stdout",
     "output_type": "stream",
     "text": [
      "Accuracy: 0.685\n"
     ]
    }
   ],
   "source": [
    "# Random Forest Classifier:\n",
    "model = RandomForestClassifier(random_state=1)\n",
    "model.fit(X_train, y_train)\n",
    "# make predictions\n",
    "yhat = model.predict(X_test)\n",
    "# evaluate predictions\n",
    "acc = accuracy_score(y_test, yhat)\n",
    "print('Accuracy: %.3f' % acc)"
   ]
  },
  {
   "cell_type": "code",
   "execution_count": 111,
   "metadata": {},
   "outputs": [
    {
     "name": "stdout",
     "output_type": "stream",
     "text": [
      "Accuracy: 0.6811023622047244\n"
     ]
    }
   ],
   "source": [
    "# K Nearest Neighbor Classification:\n",
    "knn = KNeighborsClassifier(n_neighbors=5)\n",
    "knn.fit(X_train, y_train)\n",
    "# make predictions\n",
    "y_pred = knn.predict(X_test)\n",
    "# evaluate predictions\n",
    "print('Accuracy:', metrics.accuracy_score(y_test, y_pred))"
   ]
  },
  {
   "cell_type": "code",
   "execution_count": 112,
   "metadata": {},
   "outputs": [],
   "source": [
    "# Append Scores in the df_score Dataframe\n",
    "df_score.loc[4]=[\"v4: IsoMaps with 2 Component\", acc, metrics.accuracy_score(y_test, y_pred)]"
   ]
  },
  {
   "cell_type": "markdown",
   "metadata": {},
   "source": [
    "<h1>Test-Training-Split for V4 with 3 Component</h1>"
   ]
  },
  {
   "cell_type": "code",
   "execution_count": 113,
   "metadata": {},
   "outputs": [
    {
     "data": {
      "text/html": [
       "<div>\n",
       "<style scoped>\n",
       "    .dataframe tbody tr th:only-of-type {\n",
       "        vertical-align: middle;\n",
       "    }\n",
       "\n",
       "    .dataframe tbody tr th {\n",
       "        vertical-align: top;\n",
       "    }\n",
       "\n",
       "    .dataframe thead th {\n",
       "        text-align: right;\n",
       "    }\n",
       "</style>\n",
       "<table border=\"1\" class=\"dataframe\">\n",
       "  <thead>\n",
       "    <tr style=\"text-align: right;\">\n",
       "      <th></th>\n",
       "      <th>0</th>\n",
       "      <th>1</th>\n",
       "      <th>2</th>\n",
       "      <th>breuni_class</th>\n",
       "    </tr>\n",
       "  </thead>\n",
       "  <tbody>\n",
       "    <tr>\n",
       "      <th>0</th>\n",
       "      <td>-61.777979</td>\n",
       "      <td>78.625284</td>\n",
       "      <td>-13.698127</td>\n",
       "      <td>fashion_lifestyle_elite</td>\n",
       "    </tr>\n",
       "    <tr>\n",
       "      <th>1</th>\n",
       "      <td>-163.733415</td>\n",
       "      <td>30.556835</td>\n",
       "      <td>-17.965218</td>\n",
       "      <td>fashion_lifestyle_elite</td>\n",
       "    </tr>\n",
       "    <tr>\n",
       "      <th>2</th>\n",
       "      <td>339.649554</td>\n",
       "      <td>30.058836</td>\n",
       "      <td>-22.726038</td>\n",
       "      <td>main_stream</td>\n",
       "    </tr>\n",
       "    <tr>\n",
       "      <th>3</th>\n",
       "      <td>-193.022682</td>\n",
       "      <td>-4.488933</td>\n",
       "      <td>34.104053</td>\n",
       "      <td>fashion_lifestyle_elite</td>\n",
       "    </tr>\n",
       "    <tr>\n",
       "      <th>4</th>\n",
       "      <td>-238.553359</td>\n",
       "      <td>136.040289</td>\n",
       "      <td>-64.845005</td>\n",
       "      <td>trendy</td>\n",
       "    </tr>\n",
       "  </tbody>\n",
       "</table>\n",
       "</div>"
      ],
      "text/plain": [
       "            0           1          2             breuni_class\n",
       "0  -61.777979   78.625284 -13.698127  fashion_lifestyle_elite\n",
       "1 -163.733415   30.556835 -17.965218  fashion_lifestyle_elite\n",
       "2  339.649554   30.058836 -22.726038              main_stream\n",
       "3 -193.022682   -4.488933  34.104053  fashion_lifestyle_elite\n",
       "4 -238.553359  136.040289 -64.845005                   trendy"
      ]
     },
     "execution_count": 113,
     "metadata": {},
     "output_type": "execute_result"
    }
   ],
   "source": [
    "df4 = pd.read_csv('data/test_and_training_data/v4.3_data_dog_IsoMaps.csv')\n",
    "df4.head()"
   ]
  },
  {
   "cell_type": "code",
   "execution_count": 114,
   "metadata": {},
   "outputs": [
    {
     "name": "stdout",
     "output_type": "stream",
     "text": [
      "(846, 3) (846,)\n",
      "(592, 3) (254, 3) (592,) (254,)\n"
     ]
    }
   ],
   "source": [
    "data = df4.values\n",
    "X, y = data[:, :-1], data[:, -1]\n",
    "print(X.shape, y.shape)\n",
    "# using the train test split function\n",
    "X_train, X_test, y_train, y_test = train_test_split(X, y, test_size=0.30, random_state=1)\n",
    "print(X_train.shape, X_test.shape, y_train.shape, y_test.shape)"
   ]
  },
  {
   "cell_type": "code",
   "execution_count": 115,
   "metadata": {},
   "outputs": [
    {
     "name": "stdout",
     "output_type": "stream",
     "text": [
      "Accuracy: 0.685\n"
     ]
    }
   ],
   "source": [
    "# Random Forest Classifier:\n",
    "model = RandomForestClassifier(random_state=1)\n",
    "model.fit(X_train, y_train)\n",
    "# make predictions\n",
    "yhat = model.predict(X_test)\n",
    "# evaluate predictions\n",
    "acc = accuracy_score(y_test, yhat)\n",
    "print('Accuracy: %.3f' % acc)"
   ]
  },
  {
   "cell_type": "code",
   "execution_count": 116,
   "metadata": {},
   "outputs": [
    {
     "name": "stdout",
     "output_type": "stream",
     "text": [
      "Accuracy: 0.6850393700787402\n"
     ]
    }
   ],
   "source": [
    "# K Nearest Neighbor Classification:\n",
    "knn = KNeighborsClassifier(n_neighbors=5)\n",
    "knn.fit(X_train, y_train)\n",
    "# make predictions\n",
    "y_pred = knn.predict(X_test)\n",
    "# evaluate predictions\n",
    "print('Accuracy:', metrics.accuracy_score(y_test, y_pred))"
   ]
  },
  {
   "cell_type": "code",
   "execution_count": 117,
   "metadata": {},
   "outputs": [],
   "source": [
    "# Append Scores in the df_score Dataframe\n",
    "df_score.loc[5]=[\"v4: IsoMaps with 3 Component\", acc, metrics.accuracy_score(y_test, y_pred)]"
   ]
  },
  {
   "cell_type": "markdown",
   "metadata": {},
   "source": [
    "<h1>Test-Training-Split for V4 with 4 Component</h1>"
   ]
  },
  {
   "cell_type": "code",
   "execution_count": 118,
   "metadata": {},
   "outputs": [
    {
     "data": {
      "text/html": [
       "<div>\n",
       "<style scoped>\n",
       "    .dataframe tbody tr th:only-of-type {\n",
       "        vertical-align: middle;\n",
       "    }\n",
       "\n",
       "    .dataframe tbody tr th {\n",
       "        vertical-align: top;\n",
       "    }\n",
       "\n",
       "    .dataframe thead th {\n",
       "        text-align: right;\n",
       "    }\n",
       "</style>\n",
       "<table border=\"1\" class=\"dataframe\">\n",
       "  <thead>\n",
       "    <tr style=\"text-align: right;\">\n",
       "      <th></th>\n",
       "      <th>0</th>\n",
       "      <th>1</th>\n",
       "      <th>2</th>\n",
       "      <th>3</th>\n",
       "      <th>breuni_class</th>\n",
       "    </tr>\n",
       "  </thead>\n",
       "  <tbody>\n",
       "    <tr>\n",
       "      <th>0</th>\n",
       "      <td>-61.777979</td>\n",
       "      <td>78.625284</td>\n",
       "      <td>-13.698127</td>\n",
       "      <td>-10.399359</td>\n",
       "      <td>fashion_lifestyle_elite</td>\n",
       "    </tr>\n",
       "    <tr>\n",
       "      <th>1</th>\n",
       "      <td>-163.733415</td>\n",
       "      <td>30.556835</td>\n",
       "      <td>-17.965218</td>\n",
       "      <td>-8.527538</td>\n",
       "      <td>fashion_lifestyle_elite</td>\n",
       "    </tr>\n",
       "    <tr>\n",
       "      <th>2</th>\n",
       "      <td>339.649554</td>\n",
       "      <td>30.058836</td>\n",
       "      <td>-22.726038</td>\n",
       "      <td>-20.168460</td>\n",
       "      <td>main_stream</td>\n",
       "    </tr>\n",
       "    <tr>\n",
       "      <th>3</th>\n",
       "      <td>-193.022682</td>\n",
       "      <td>-4.488933</td>\n",
       "      <td>34.104053</td>\n",
       "      <td>12.204135</td>\n",
       "      <td>fashion_lifestyle_elite</td>\n",
       "    </tr>\n",
       "    <tr>\n",
       "      <th>4</th>\n",
       "      <td>-238.553359</td>\n",
       "      <td>136.040289</td>\n",
       "      <td>-64.845005</td>\n",
       "      <td>167.891177</td>\n",
       "      <td>trendy</td>\n",
       "    </tr>\n",
       "  </tbody>\n",
       "</table>\n",
       "</div>"
      ],
      "text/plain": [
       "            0           1          2           3             breuni_class\n",
       "0  -61.777979   78.625284 -13.698127  -10.399359  fashion_lifestyle_elite\n",
       "1 -163.733415   30.556835 -17.965218   -8.527538  fashion_lifestyle_elite\n",
       "2  339.649554   30.058836 -22.726038  -20.168460              main_stream\n",
       "3 -193.022682   -4.488933  34.104053   12.204135  fashion_lifestyle_elite\n",
       "4 -238.553359  136.040289 -64.845005  167.891177                   trendy"
      ]
     },
     "execution_count": 118,
     "metadata": {},
     "output_type": "execute_result"
    }
   ],
   "source": [
    "df4 = pd.read_csv('data/test_and_training_data/v4.4_data_dog_IsoMaps.csv')\n",
    "df4.head()"
   ]
  },
  {
   "cell_type": "code",
   "execution_count": 119,
   "metadata": {},
   "outputs": [
    {
     "name": "stdout",
     "output_type": "stream",
     "text": [
      "(846, 4) (846,)\n",
      "(592, 4) (254, 4) (592,) (254,)\n"
     ]
    }
   ],
   "source": [
    "data = df4.values\n",
    "X, y = data[:, :-1], data[:, -1]\n",
    "print(X.shape, y.shape)\n",
    "# using the train test split function\n",
    "X_train, X_test, y_train, y_test = train_test_split(X, y, test_size=0.30, random_state=1)\n",
    "print(X_train.shape, X_test.shape, y_train.shape, y_test.shape)"
   ]
  },
  {
   "cell_type": "code",
   "execution_count": 120,
   "metadata": {},
   "outputs": [
    {
     "name": "stdout",
     "output_type": "stream",
     "text": [
      "Accuracy: 0.736\n"
     ]
    }
   ],
   "source": [
    "# Random Forest Classifier:\n",
    "model = RandomForestClassifier(random_state=1)\n",
    "model.fit(X_train, y_train)\n",
    "# make predictions\n",
    "yhat = model.predict(X_test)\n",
    "# evaluate predictions\n",
    "acc = accuracy_score(y_test, yhat)\n",
    "print('Accuracy: %.3f' % acc)"
   ]
  },
  {
   "cell_type": "code",
   "execution_count": 121,
   "metadata": {},
   "outputs": [
    {
     "name": "stdout",
     "output_type": "stream",
     "text": [
      "Accuracy: 0.7125984251968503\n"
     ]
    }
   ],
   "source": [
    "# K Nearest Neighbor Classification:\n",
    "knn = KNeighborsClassifier(n_neighbors=5)\n",
    "knn.fit(X_train, y_train)\n",
    "# make predictions\n",
    "y_pred = knn.predict(X_test)\n",
    "# evaluate predictions\n",
    "print('Accuracy:', metrics.accuracy_score(y_test, y_pred))"
   ]
  },
  {
   "cell_type": "code",
   "execution_count": 122,
   "metadata": {},
   "outputs": [],
   "source": [
    "# Append Scores in the df_score Dataframe\n",
    "df_score.loc[6]=[\"v4: IsoMaps with 4 Component\", acc, metrics.accuracy_score(y_test, y_pred)]"
   ]
  },
  {
   "cell_type": "markdown",
   "metadata": {},
   "source": [
    "<h1>Test-Training-Split for V4 with 5 Component</h1>"
   ]
  },
  {
   "cell_type": "code",
   "execution_count": 123,
   "metadata": {},
   "outputs": [
    {
     "data": {
      "text/html": [
       "<div>\n",
       "<style scoped>\n",
       "    .dataframe tbody tr th:only-of-type {\n",
       "        vertical-align: middle;\n",
       "    }\n",
       "\n",
       "    .dataframe tbody tr th {\n",
       "        vertical-align: top;\n",
       "    }\n",
       "\n",
       "    .dataframe thead th {\n",
       "        text-align: right;\n",
       "    }\n",
       "</style>\n",
       "<table border=\"1\" class=\"dataframe\">\n",
       "  <thead>\n",
       "    <tr style=\"text-align: right;\">\n",
       "      <th></th>\n",
       "      <th>0</th>\n",
       "      <th>1</th>\n",
       "      <th>2</th>\n",
       "      <th>3</th>\n",
       "      <th>4</th>\n",
       "      <th>breuni_class</th>\n",
       "    </tr>\n",
       "  </thead>\n",
       "  <tbody>\n",
       "    <tr>\n",
       "      <th>0</th>\n",
       "      <td>-61.777979</td>\n",
       "      <td>78.625284</td>\n",
       "      <td>-13.698127</td>\n",
       "      <td>-10.399359</td>\n",
       "      <td>-1.130246</td>\n",
       "      <td>fashion_lifestyle_elite</td>\n",
       "    </tr>\n",
       "    <tr>\n",
       "      <th>1</th>\n",
       "      <td>-163.733415</td>\n",
       "      <td>30.556835</td>\n",
       "      <td>-17.965218</td>\n",
       "      <td>-8.527538</td>\n",
       "      <td>-14.374997</td>\n",
       "      <td>fashion_lifestyle_elite</td>\n",
       "    </tr>\n",
       "    <tr>\n",
       "      <th>2</th>\n",
       "      <td>339.649554</td>\n",
       "      <td>30.058836</td>\n",
       "      <td>-22.726038</td>\n",
       "      <td>-20.168460</td>\n",
       "      <td>19.279665</td>\n",
       "      <td>main_stream</td>\n",
       "    </tr>\n",
       "    <tr>\n",
       "      <th>3</th>\n",
       "      <td>-193.022682</td>\n",
       "      <td>-4.488933</td>\n",
       "      <td>34.104053</td>\n",
       "      <td>12.204135</td>\n",
       "      <td>9.239095</td>\n",
       "      <td>fashion_lifestyle_elite</td>\n",
       "    </tr>\n",
       "    <tr>\n",
       "      <th>4</th>\n",
       "      <td>-238.553359</td>\n",
       "      <td>136.040289</td>\n",
       "      <td>-64.845005</td>\n",
       "      <td>167.891177</td>\n",
       "      <td>29.834851</td>\n",
       "      <td>trendy</td>\n",
       "    </tr>\n",
       "  </tbody>\n",
       "</table>\n",
       "</div>"
      ],
      "text/plain": [
       "            0           1          2           3          4  \\\n",
       "0  -61.777979   78.625284 -13.698127  -10.399359  -1.130246   \n",
       "1 -163.733415   30.556835 -17.965218   -8.527538 -14.374997   \n",
       "2  339.649554   30.058836 -22.726038  -20.168460  19.279665   \n",
       "3 -193.022682   -4.488933  34.104053   12.204135   9.239095   \n",
       "4 -238.553359  136.040289 -64.845005  167.891177  29.834851   \n",
       "\n",
       "              breuni_class  \n",
       "0  fashion_lifestyle_elite  \n",
       "1  fashion_lifestyle_elite  \n",
       "2              main_stream  \n",
       "3  fashion_lifestyle_elite  \n",
       "4                   trendy  "
      ]
     },
     "execution_count": 123,
     "metadata": {},
     "output_type": "execute_result"
    }
   ],
   "source": [
    "df4 = pd.read_csv('data/test_and_training_data/v4.5_data_dog_IsoMaps.csv')\n",
    "df4.head()"
   ]
  },
  {
   "cell_type": "code",
   "execution_count": 124,
   "metadata": {},
   "outputs": [
    {
     "name": "stdout",
     "output_type": "stream",
     "text": [
      "(846, 5) (846,)\n",
      "(592, 5) (254, 5) (592,) (254,)\n"
     ]
    }
   ],
   "source": [
    "data = df4.values\n",
    "X, y = data[:, :-1], data[:, -1]\n",
    "print(X.shape, y.shape)\n",
    "# using the train test split function\n",
    "X_train, X_test, y_train, y_test = train_test_split(X, y, test_size=0.30, random_state=1)\n",
    "print(X_train.shape, X_test.shape, y_train.shape, y_test.shape)"
   ]
  },
  {
   "cell_type": "code",
   "execution_count": 125,
   "metadata": {},
   "outputs": [
    {
     "name": "stdout",
     "output_type": "stream",
     "text": [
      "Accuracy: 0.756\n"
     ]
    }
   ],
   "source": [
    "# Random Forest Classifier:\n",
    "model = RandomForestClassifier(random_state=1)\n",
    "model.fit(X_train, y_train)\n",
    "# make predictions\n",
    "yhat = model.predict(X_test)\n",
    "# evaluate predictions\n",
    "acc = accuracy_score(y_test, yhat)\n",
    "print('Accuracy: %.3f' % acc)"
   ]
  },
  {
   "cell_type": "code",
   "execution_count": 126,
   "metadata": {},
   "outputs": [
    {
     "name": "stdout",
     "output_type": "stream",
     "text": [
      "Accuracy: 0.7559055118110236\n"
     ]
    }
   ],
   "source": [
    "# K Nearest Neighbor Classification:\n",
    "knn = KNeighborsClassifier(n_neighbors=5)\n",
    "knn.fit(X_train, y_train)\n",
    "# make predictions\n",
    "y_pred = knn.predict(X_test)\n",
    "# evaluate predictions\n",
    "print('Accuracy:', metrics.accuracy_score(y_test, y_pred))"
   ]
  },
  {
   "cell_type": "code",
   "execution_count": 127,
   "metadata": {},
   "outputs": [],
   "source": [
    "# Append Scores in the df_score Dataframe\n",
    "df_score.loc[7]=[\"v4: IsoMaps with 5 Component\", acc, metrics.accuracy_score(y_test, y_pred)]"
   ]
  },
  {
   "cell_type": "markdown",
   "metadata": {},
   "source": [
    "<h1>Test-Training-Split for V5 with 1 Component</h1>"
   ]
  },
  {
   "cell_type": "code",
   "execution_count": 128,
   "metadata": {},
   "outputs": [
    {
     "data": {
      "text/html": [
       "<div>\n",
       "<style scoped>\n",
       "    .dataframe tbody tr th:only-of-type {\n",
       "        vertical-align: middle;\n",
       "    }\n",
       "\n",
       "    .dataframe tbody tr th {\n",
       "        vertical-align: top;\n",
       "    }\n",
       "\n",
       "    .dataframe thead th {\n",
       "        text-align: right;\n",
       "    }\n",
       "</style>\n",
       "<table border=\"1\" class=\"dataframe\">\n",
       "  <thead>\n",
       "    <tr style=\"text-align: right;\">\n",
       "      <th></th>\n",
       "      <th>0</th>\n",
       "      <th>breuni_class</th>\n",
       "    </tr>\n",
       "  </thead>\n",
       "  <tbody>\n",
       "    <tr>\n",
       "      <th>0</th>\n",
       "      <td>0.034879</td>\n",
       "      <td>fashion_lifestyle_elite</td>\n",
       "    </tr>\n",
       "    <tr>\n",
       "      <th>1</th>\n",
       "      <td>0.034879</td>\n",
       "      <td>fashion_lifestyle_elite</td>\n",
       "    </tr>\n",
       "    <tr>\n",
       "      <th>2</th>\n",
       "      <td>0.034879</td>\n",
       "      <td>main_stream</td>\n",
       "    </tr>\n",
       "    <tr>\n",
       "      <th>3</th>\n",
       "      <td>0.034879</td>\n",
       "      <td>fashion_lifestyle_elite</td>\n",
       "    </tr>\n",
       "    <tr>\n",
       "      <th>4</th>\n",
       "      <td>0.034879</td>\n",
       "      <td>trendy</td>\n",
       "    </tr>\n",
       "  </tbody>\n",
       "</table>\n",
       "</div>"
      ],
      "text/plain": [
       "          0             breuni_class\n",
       "0  0.034879  fashion_lifestyle_elite\n",
       "1  0.034879  fashion_lifestyle_elite\n",
       "2  0.034879              main_stream\n",
       "3  0.034879  fashion_lifestyle_elite\n",
       "4  0.034879                   trendy"
      ]
     },
     "execution_count": 128,
     "metadata": {},
     "output_type": "execute_result"
    }
   ],
   "source": [
    "df5 = pd.read_csv('data/test_and_training_data/v5.1_data_dog_LLE.csv')\n",
    "df5.head()"
   ]
  },
  {
   "cell_type": "code",
   "execution_count": 129,
   "metadata": {},
   "outputs": [
    {
     "name": "stdout",
     "output_type": "stream",
     "text": [
      "(846, 1) (846,)\n",
      "(592, 1) (254, 1) (592,) (254,)\n"
     ]
    }
   ],
   "source": [
    "data = df5.values\n",
    "X, y = data[:, :-1], data[:, -1]\n",
    "print(X.shape, y.shape)\n",
    "# using the train test split function\n",
    "X_train, X_test, y_train, y_test = train_test_split(X, y, test_size=0.30, random_state=1)\n",
    "print(X_train.shape, X_test.shape, y_train.shape, y_test.shape)"
   ]
  },
  {
   "cell_type": "code",
   "execution_count": 130,
   "metadata": {},
   "outputs": [
    {
     "name": "stdout",
     "output_type": "stream",
     "text": [
      "Accuracy: 0.539\n"
     ]
    }
   ],
   "source": [
    "# Random Forest Classifier:\n",
    "model = RandomForestClassifier(random_state=1)\n",
    "model.fit(X_train, y_train)\n",
    "# make predictions\n",
    "yhat = model.predict(X_test)\n",
    "# evaluate predictions\n",
    "acc = accuracy_score(y_test, yhat)\n",
    "print('Accuracy: %.3f' % acc)"
   ]
  },
  {
   "cell_type": "code",
   "execution_count": 131,
   "metadata": {},
   "outputs": [
    {
     "name": "stdout",
     "output_type": "stream",
     "text": [
      "Accuracy: 0.6181102362204725\n"
     ]
    }
   ],
   "source": [
    "# K Nearest Neighbor Classification:\n",
    "knn = KNeighborsClassifier(n_neighbors=5)\n",
    "knn.fit(X_train, y_train)\n",
    "# make predictions\n",
    "y_pred = knn.predict(X_test)\n",
    "# evaluate predictions\n",
    "print('Accuracy:', metrics.accuracy_score(y_test, y_pred))"
   ]
  },
  {
   "cell_type": "code",
   "execution_count": 132,
   "metadata": {},
   "outputs": [],
   "source": [
    "# Append Scores in the df_score Dataframe\n",
    "df_score.loc[8]=[\"v5: LLE with 1 Component\", acc, metrics.accuracy_score(y_test, y_pred)]"
   ]
  },
  {
   "cell_type": "markdown",
   "metadata": {},
   "source": [
    "<h1>Test-Training-Split for V5 with 2 Component</h1>"
   ]
  },
  {
   "cell_type": "code",
   "execution_count": 133,
   "metadata": {},
   "outputs": [
    {
     "data": {
      "text/html": [
       "<div>\n",
       "<style scoped>\n",
       "    .dataframe tbody tr th:only-of-type {\n",
       "        vertical-align: middle;\n",
       "    }\n",
       "\n",
       "    .dataframe tbody tr th {\n",
       "        vertical-align: top;\n",
       "    }\n",
       "\n",
       "    .dataframe thead th {\n",
       "        text-align: right;\n",
       "    }\n",
       "</style>\n",
       "<table border=\"1\" class=\"dataframe\">\n",
       "  <thead>\n",
       "    <tr style=\"text-align: right;\">\n",
       "      <th></th>\n",
       "      <th>0</th>\n",
       "      <th>1</th>\n",
       "      <th>breuni_class</th>\n",
       "    </tr>\n",
       "  </thead>\n",
       "  <tbody>\n",
       "    <tr>\n",
       "      <th>0</th>\n",
       "      <td>0.034879</td>\n",
       "      <td>-0.023564</td>\n",
       "      <td>fashion_lifestyle_elite</td>\n",
       "    </tr>\n",
       "    <tr>\n",
       "      <th>1</th>\n",
       "      <td>0.034879</td>\n",
       "      <td>-0.024841</td>\n",
       "      <td>fashion_lifestyle_elite</td>\n",
       "    </tr>\n",
       "    <tr>\n",
       "      <th>2</th>\n",
       "      <td>0.034879</td>\n",
       "      <td>0.053092</td>\n",
       "      <td>main_stream</td>\n",
       "    </tr>\n",
       "    <tr>\n",
       "      <th>3</th>\n",
       "      <td>0.034879</td>\n",
       "      <td>-0.025692</td>\n",
       "      <td>fashion_lifestyle_elite</td>\n",
       "    </tr>\n",
       "    <tr>\n",
       "      <th>4</th>\n",
       "      <td>0.034879</td>\n",
       "      <td>-0.022901</td>\n",
       "      <td>trendy</td>\n",
       "    </tr>\n",
       "  </tbody>\n",
       "</table>\n",
       "</div>"
      ],
      "text/plain": [
       "          0         1             breuni_class\n",
       "0  0.034879 -0.023564  fashion_lifestyle_elite\n",
       "1  0.034879 -0.024841  fashion_lifestyle_elite\n",
       "2  0.034879  0.053092              main_stream\n",
       "3  0.034879 -0.025692  fashion_lifestyle_elite\n",
       "4  0.034879 -0.022901                   trendy"
      ]
     },
     "execution_count": 133,
     "metadata": {},
     "output_type": "execute_result"
    }
   ],
   "source": [
    "df5 = pd.read_csv('data/test_and_training_data/v5.2_data_dog_LLE.csv')\n",
    "df5.head()"
   ]
  },
  {
   "cell_type": "code",
   "execution_count": 134,
   "metadata": {},
   "outputs": [
    {
     "name": "stdout",
     "output_type": "stream",
     "text": [
      "(846, 2) (846,)\n",
      "(592, 2) (254, 2) (592,) (254,)\n"
     ]
    }
   ],
   "source": [
    "data = df5.values\n",
    "X, y = data[:, :-1], data[:, -1]\n",
    "print(X.shape, y.shape)\n",
    "# using the train test split function\n",
    "X_train, X_test, y_train, y_test = train_test_split(X, y, test_size=0.30, random_state=1)\n",
    "print(X_train.shape, X_test.shape, y_train.shape, y_test.shape)"
   ]
  },
  {
   "cell_type": "code",
   "execution_count": 135,
   "metadata": {},
   "outputs": [
    {
     "name": "stdout",
     "output_type": "stream",
     "text": [
      "Accuracy: 0.673\n"
     ]
    }
   ],
   "source": [
    "# Random Forest Classifier:\n",
    "model = RandomForestClassifier(random_state=1)\n",
    "model.fit(X_train, y_train)\n",
    "# make predictions\n",
    "yhat = model.predict(X_test)\n",
    "# evaluate predictions\n",
    "acc = accuracy_score(y_test, yhat)\n",
    "print('Accuracy: %.3f' % acc)"
   ]
  },
  {
   "cell_type": "code",
   "execution_count": 136,
   "metadata": {},
   "outputs": [
    {
     "name": "stdout",
     "output_type": "stream",
     "text": [
      "Accuracy: 0.7047244094488189\n"
     ]
    }
   ],
   "source": [
    "# K Nearest Neighbor Classification:\n",
    "knn = KNeighborsClassifier(n_neighbors=5)\n",
    "knn.fit(X_train, y_train)\n",
    "# make predictions\n",
    "y_pred = knn.predict(X_test)\n",
    "# evaluate predictions\n",
    "print('Accuracy:', metrics.accuracy_score(y_test, y_pred))"
   ]
  },
  {
   "cell_type": "code",
   "execution_count": 137,
   "metadata": {},
   "outputs": [],
   "source": [
    "# Append Scores in the df_score Dataframe\n",
    "df_score.loc[9]=[\"v5: LLE with 2 Component\", acc, metrics.accuracy_score(y_test, y_pred)]"
   ]
  },
  {
   "cell_type": "markdown",
   "metadata": {},
   "source": [
    "<h1>Test-Training-Split for V5 with 3 Component</h1>"
   ]
  },
  {
   "cell_type": "code",
   "execution_count": 138,
   "metadata": {},
   "outputs": [
    {
     "data": {
      "text/html": [
       "<div>\n",
       "<style scoped>\n",
       "    .dataframe tbody tr th:only-of-type {\n",
       "        vertical-align: middle;\n",
       "    }\n",
       "\n",
       "    .dataframe tbody tr th {\n",
       "        vertical-align: top;\n",
       "    }\n",
       "\n",
       "    .dataframe thead th {\n",
       "        text-align: right;\n",
       "    }\n",
       "</style>\n",
       "<table border=\"1\" class=\"dataframe\">\n",
       "  <thead>\n",
       "    <tr style=\"text-align: right;\">\n",
       "      <th></th>\n",
       "      <th>0</th>\n",
       "      <th>1</th>\n",
       "      <th>2</th>\n",
       "      <th>breuni_class</th>\n",
       "    </tr>\n",
       "  </thead>\n",
       "  <tbody>\n",
       "    <tr>\n",
       "      <th>0</th>\n",
       "      <td>0.034879</td>\n",
       "      <td>-0.023564</td>\n",
       "      <td>-0.039200</td>\n",
       "      <td>fashion_lifestyle_elite</td>\n",
       "    </tr>\n",
       "    <tr>\n",
       "      <th>1</th>\n",
       "      <td>0.034879</td>\n",
       "      <td>-0.024841</td>\n",
       "      <td>-0.014966</td>\n",
       "      <td>fashion_lifestyle_elite</td>\n",
       "    </tr>\n",
       "    <tr>\n",
       "      <th>2</th>\n",
       "      <td>0.034879</td>\n",
       "      <td>0.053092</td>\n",
       "      <td>0.001533</td>\n",
       "      <td>main_stream</td>\n",
       "    </tr>\n",
       "    <tr>\n",
       "      <th>3</th>\n",
       "      <td>0.034879</td>\n",
       "      <td>-0.025692</td>\n",
       "      <td>0.009967</td>\n",
       "      <td>fashion_lifestyle_elite</td>\n",
       "    </tr>\n",
       "    <tr>\n",
       "      <th>4</th>\n",
       "      <td>0.034879</td>\n",
       "      <td>-0.022901</td>\n",
       "      <td>-0.015385</td>\n",
       "      <td>trendy</td>\n",
       "    </tr>\n",
       "  </tbody>\n",
       "</table>\n",
       "</div>"
      ],
      "text/plain": [
       "          0         1         2             breuni_class\n",
       "0  0.034879 -0.023564 -0.039200  fashion_lifestyle_elite\n",
       "1  0.034879 -0.024841 -0.014966  fashion_lifestyle_elite\n",
       "2  0.034879  0.053092  0.001533              main_stream\n",
       "3  0.034879 -0.025692  0.009967  fashion_lifestyle_elite\n",
       "4  0.034879 -0.022901 -0.015385                   trendy"
      ]
     },
     "execution_count": 138,
     "metadata": {},
     "output_type": "execute_result"
    }
   ],
   "source": [
    "df5 = pd.read_csv('data/test_and_training_data/v5.3_data_dog_LLE.csv')\n",
    "df5.head()"
   ]
  },
  {
   "cell_type": "code",
   "execution_count": 139,
   "metadata": {},
   "outputs": [
    {
     "name": "stdout",
     "output_type": "stream",
     "text": [
      "(846, 3) (846,)\n",
      "(592, 3) (254, 3) (592,) (254,)\n"
     ]
    }
   ],
   "source": [
    "data = df5.values\n",
    "X, y = data[:, :-1], data[:, -1]\n",
    "print(X.shape, y.shape)\n",
    "# using the train test split function\n",
    "X_train, X_test, y_train, y_test = train_test_split(X, y, test_size=0.30, random_state=1)\n",
    "print(X_train.shape, X_test.shape, y_train.shape, y_test.shape)"
   ]
  },
  {
   "cell_type": "code",
   "execution_count": 140,
   "metadata": {},
   "outputs": [
    {
     "name": "stdout",
     "output_type": "stream",
     "text": [
      "Accuracy: 0.701\n"
     ]
    }
   ],
   "source": [
    "# Random Forest Classifier:\n",
    "model = RandomForestClassifier(random_state=1)\n",
    "model.fit(X_train, y_train)\n",
    "# make predictions\n",
    "yhat = model.predict(X_test)\n",
    "# evaluate predictions\n",
    "acc = accuracy_score(y_test, yhat)\n",
    "print('Accuracy: %.3f' % acc)"
   ]
  },
  {
   "cell_type": "code",
   "execution_count": 141,
   "metadata": {},
   "outputs": [
    {
     "name": "stdout",
     "output_type": "stream",
     "text": [
      "Accuracy: 0.6653543307086615\n"
     ]
    }
   ],
   "source": [
    "# K Nearest Neighbor Classification:\n",
    "knn = KNeighborsClassifier(n_neighbors=5)\n",
    "knn.fit(X_train, y_train)\n",
    "# make predictions\n",
    "y_pred = knn.predict(X_test)\n",
    "# evaluate predictions\n",
    "print('Accuracy:', metrics.accuracy_score(y_test, y_pred))"
   ]
  },
  {
   "cell_type": "code",
   "execution_count": 142,
   "metadata": {},
   "outputs": [],
   "source": [
    "# Append Scores in the df_score Dataframe\n",
    "df_score.loc[10]=[\"v5: LLE with 3 Component\", acc, metrics.accuracy_score(y_test, y_pred)]"
   ]
  },
  {
   "cell_type": "markdown",
   "metadata": {},
   "source": [
    "<h1>Test-Training-Split for V5 with 4 Component</h1>"
   ]
  },
  {
   "cell_type": "code",
   "execution_count": 143,
   "metadata": {},
   "outputs": [
    {
     "data": {
      "text/html": [
       "<div>\n",
       "<style scoped>\n",
       "    .dataframe tbody tr th:only-of-type {\n",
       "        vertical-align: middle;\n",
       "    }\n",
       "\n",
       "    .dataframe tbody tr th {\n",
       "        vertical-align: top;\n",
       "    }\n",
       "\n",
       "    .dataframe thead th {\n",
       "        text-align: right;\n",
       "    }\n",
       "</style>\n",
       "<table border=\"1\" class=\"dataframe\">\n",
       "  <thead>\n",
       "    <tr style=\"text-align: right;\">\n",
       "      <th></th>\n",
       "      <th>0</th>\n",
       "      <th>1</th>\n",
       "      <th>2</th>\n",
       "      <th>3</th>\n",
       "      <th>breuni_class</th>\n",
       "    </tr>\n",
       "  </thead>\n",
       "  <tbody>\n",
       "    <tr>\n",
       "      <th>0</th>\n",
       "      <td>-0.034879</td>\n",
       "      <td>-0.023564</td>\n",
       "      <td>0.039196</td>\n",
       "      <td>-0.068211</td>\n",
       "      <td>fashion_lifestyle_elite</td>\n",
       "    </tr>\n",
       "    <tr>\n",
       "      <th>1</th>\n",
       "      <td>-0.034879</td>\n",
       "      <td>-0.024841</td>\n",
       "      <td>0.014977</td>\n",
       "      <td>-0.020476</td>\n",
       "      <td>fashion_lifestyle_elite</td>\n",
       "    </tr>\n",
       "    <tr>\n",
       "      <th>2</th>\n",
       "      <td>-0.034879</td>\n",
       "      <td>0.053092</td>\n",
       "      <td>-0.001505</td>\n",
       "      <td>0.000626</td>\n",
       "      <td>main_stream</td>\n",
       "    </tr>\n",
       "    <tr>\n",
       "      <th>3</th>\n",
       "      <td>-0.034879</td>\n",
       "      <td>-0.025692</td>\n",
       "      <td>-0.009999</td>\n",
       "      <td>0.013911</td>\n",
       "      <td>fashion_lifestyle_elite</td>\n",
       "    </tr>\n",
       "    <tr>\n",
       "      <th>4</th>\n",
       "      <td>-0.034879</td>\n",
       "      <td>-0.022901</td>\n",
       "      <td>0.015413</td>\n",
       "      <td>0.008583</td>\n",
       "      <td>trendy</td>\n",
       "    </tr>\n",
       "  </tbody>\n",
       "</table>\n",
       "</div>"
      ],
      "text/plain": [
       "          0         1         2         3             breuni_class\n",
       "0 -0.034879 -0.023564  0.039196 -0.068211  fashion_lifestyle_elite\n",
       "1 -0.034879 -0.024841  0.014977 -0.020476  fashion_lifestyle_elite\n",
       "2 -0.034879  0.053092 -0.001505  0.000626              main_stream\n",
       "3 -0.034879 -0.025692 -0.009999  0.013911  fashion_lifestyle_elite\n",
       "4 -0.034879 -0.022901  0.015413  0.008583                   trendy"
      ]
     },
     "execution_count": 143,
     "metadata": {},
     "output_type": "execute_result"
    }
   ],
   "source": [
    "df5 = pd.read_csv('data/test_and_training_data/v5.4_data_dog_LLE.csv')\n",
    "df5.head()"
   ]
  },
  {
   "cell_type": "code",
   "execution_count": 144,
   "metadata": {},
   "outputs": [
    {
     "name": "stdout",
     "output_type": "stream",
     "text": [
      "(846, 4) (846,)\n",
      "(592, 4) (254, 4) (592,) (254,)\n"
     ]
    }
   ],
   "source": [
    "data = df5.values\n",
    "X, y = data[:, :-1], data[:, -1]\n",
    "print(X.shape, y.shape)\n",
    "# using the train test split function\n",
    "X_train, X_test, y_train, y_test = train_test_split(X, y, test_size=0.30, random_state=1)\n",
    "print(X_train.shape, X_test.shape, y_train.shape, y_test.shape)"
   ]
  },
  {
   "cell_type": "code",
   "execution_count": 145,
   "metadata": {},
   "outputs": [
    {
     "name": "stdout",
     "output_type": "stream",
     "text": [
      "Accuracy: 0.768\n"
     ]
    }
   ],
   "source": [
    "# Random Forest Classifier:\n",
    "model = RandomForestClassifier(random_state=1)\n",
    "model.fit(X_train, y_train)\n",
    "# make predictions\n",
    "yhat = model.predict(X_test)\n",
    "# evaluate predictions\n",
    "acc = accuracy_score(y_test, yhat)\n",
    "print('Accuracy: %.3f' % acc)"
   ]
  },
  {
   "cell_type": "code",
   "execution_count": 146,
   "metadata": {},
   "outputs": [
    {
     "name": "stdout",
     "output_type": "stream",
     "text": [
      "Accuracy: 0.7086614173228346\n"
     ]
    }
   ],
   "source": [
    "# K Nearest Neighbor Classification:\n",
    "knn = KNeighborsClassifier(n_neighbors=5)\n",
    "knn.fit(X_train, y_train)\n",
    "# make predictions\n",
    "y_pred = knn.predict(X_test)\n",
    "# evaluate predictions\n",
    "print('Accuracy:', metrics.accuracy_score(y_test, y_pred))"
   ]
  },
  {
   "cell_type": "code",
   "execution_count": 147,
   "metadata": {},
   "outputs": [],
   "source": [
    "# Append Scores in the df_score Dataframe\n",
    "df_score.loc[11]=[\"v5: LLE with 4 Component\", acc, metrics.accuracy_score(y_test, y_pred)]"
   ]
  },
  {
   "cell_type": "markdown",
   "metadata": {},
   "source": [
    "<h1>Test-Training-Split for V5 with 5 Component</h1>"
   ]
  },
  {
   "cell_type": "code",
   "execution_count": 148,
   "metadata": {},
   "outputs": [
    {
     "data": {
      "text/html": [
       "<div>\n",
       "<style scoped>\n",
       "    .dataframe tbody tr th:only-of-type {\n",
       "        vertical-align: middle;\n",
       "    }\n",
       "\n",
       "    .dataframe tbody tr th {\n",
       "        vertical-align: top;\n",
       "    }\n",
       "\n",
       "    .dataframe thead th {\n",
       "        text-align: right;\n",
       "    }\n",
       "</style>\n",
       "<table border=\"1\" class=\"dataframe\">\n",
       "  <thead>\n",
       "    <tr style=\"text-align: right;\">\n",
       "      <th></th>\n",
       "      <th>0</th>\n",
       "      <th>1</th>\n",
       "      <th>2</th>\n",
       "      <th>3</th>\n",
       "      <th>4</th>\n",
       "      <th>breuni_class</th>\n",
       "    </tr>\n",
       "  </thead>\n",
       "  <tbody>\n",
       "    <tr>\n",
       "      <th>0</th>\n",
       "      <td>0.034879</td>\n",
       "      <td>0.023564</td>\n",
       "      <td>0.039196</td>\n",
       "      <td>-0.068207</td>\n",
       "      <td>-0.000024</td>\n",
       "      <td>fashion_lifestyle_elite</td>\n",
       "    </tr>\n",
       "    <tr>\n",
       "      <th>1</th>\n",
       "      <td>0.034879</td>\n",
       "      <td>0.024841</td>\n",
       "      <td>0.014977</td>\n",
       "      <td>-0.020472</td>\n",
       "      <td>-0.000018</td>\n",
       "      <td>fashion_lifestyle_elite</td>\n",
       "    </tr>\n",
       "    <tr>\n",
       "      <th>2</th>\n",
       "      <td>0.034879</td>\n",
       "      <td>-0.053092</td>\n",
       "      <td>-0.001504</td>\n",
       "      <td>0.000620</td>\n",
       "      <td>0.000009</td>\n",
       "      <td>main_stream</td>\n",
       "    </tr>\n",
       "    <tr>\n",
       "      <th>3</th>\n",
       "      <td>0.034879</td>\n",
       "      <td>0.025692</td>\n",
       "      <td>-0.009998</td>\n",
       "      <td>0.013904</td>\n",
       "      <td>0.000025</td>\n",
       "      <td>fashion_lifestyle_elite</td>\n",
       "    </tr>\n",
       "    <tr>\n",
       "      <th>4</th>\n",
       "      <td>0.034879</td>\n",
       "      <td>0.022901</td>\n",
       "      <td>0.015413</td>\n",
       "      <td>0.008582</td>\n",
       "      <td>0.000013</td>\n",
       "      <td>trendy</td>\n",
       "    </tr>\n",
       "  </tbody>\n",
       "</table>\n",
       "</div>"
      ],
      "text/plain": [
       "          0         1         2         3         4             breuni_class\n",
       "0  0.034879  0.023564  0.039196 -0.068207 -0.000024  fashion_lifestyle_elite\n",
       "1  0.034879  0.024841  0.014977 -0.020472 -0.000018  fashion_lifestyle_elite\n",
       "2  0.034879 -0.053092 -0.001504  0.000620  0.000009              main_stream\n",
       "3  0.034879  0.025692 -0.009998  0.013904  0.000025  fashion_lifestyle_elite\n",
       "4  0.034879  0.022901  0.015413  0.008582  0.000013                   trendy"
      ]
     },
     "execution_count": 148,
     "metadata": {},
     "output_type": "execute_result"
    }
   ],
   "source": [
    "df5 = pd.read_csv('data/test_and_training_data/v5.5_data_dog_LLE.csv')\n",
    "df5.head()"
   ]
  },
  {
   "cell_type": "code",
   "execution_count": 149,
   "metadata": {},
   "outputs": [
    {
     "name": "stdout",
     "output_type": "stream",
     "text": [
      "(846, 5) (846,)\n",
      "(592, 5) (254, 5) (592,) (254,)\n"
     ]
    }
   ],
   "source": [
    "data = df5.values\n",
    "X, y = data[:, :-1], data[:, -1]\n",
    "print(X.shape, y.shape)\n",
    "# using the train test split function\n",
    "X_train, X_test, y_train, y_test = train_test_split(X, y, test_size=0.30, random_state=1)\n",
    "print(X_train.shape, X_test.shape, y_train.shape, y_test.shape)"
   ]
  },
  {
   "cell_type": "code",
   "execution_count": 150,
   "metadata": {},
   "outputs": [
    {
     "name": "stdout",
     "output_type": "stream",
     "text": [
      "Accuracy: 0.724\n"
     ]
    }
   ],
   "source": [
    "# Random Forest Classifier:\n",
    "model = RandomForestClassifier(random_state=1)\n",
    "model.fit(X_train, y_train)\n",
    "# make predictions\n",
    "yhat = model.predict(X_test)\n",
    "# evaluate predictions\n",
    "acc = accuracy_score(y_test, yhat)\n",
    "print('Accuracy: %.3f' % acc)"
   ]
  },
  {
   "cell_type": "code",
   "execution_count": 151,
   "metadata": {},
   "outputs": [
    {
     "name": "stdout",
     "output_type": "stream",
     "text": [
      "Accuracy: 0.7007874015748031\n"
     ]
    }
   ],
   "source": [
    "# K Nearest Neighbor Classification:\n",
    "knn = KNeighborsClassifier(n_neighbors=5)\n",
    "knn.fit(X_train, y_train)\n",
    "# make predictions\n",
    "y_pred = knn.predict(X_test)\n",
    "# evaluate predictions\n",
    "print('Accuracy:', metrics.accuracy_score(y_test, y_pred))"
   ]
  },
  {
   "cell_type": "code",
   "execution_count": 152,
   "metadata": {},
   "outputs": [],
   "source": [
    "# Append Scores in the df_score Dataframe\n",
    "df_score.loc[12]=[\"v5: LLE with 5 Component\", acc, metrics.accuracy_score(y_test, y_pred)]"
   ]
  },
  {
   "cell_type": "markdown",
   "metadata": {},
   "source": [
    "<h2>Export finished Score Dataset</h2>"
   ]
  },
  {
   "cell_type": "code",
   "execution_count": 153,
   "metadata": {},
   "outputs": [
    {
     "data": {
      "text/html": [
       "<div>\n",
       "<style scoped>\n",
       "    .dataframe tbody tr th:only-of-type {\n",
       "        vertical-align: middle;\n",
       "    }\n",
       "\n",
       "    .dataframe tbody tr th {\n",
       "        vertical-align: top;\n",
       "    }\n",
       "\n",
       "    .dataframe thead th {\n",
       "        text-align: right;\n",
       "    }\n",
       "</style>\n",
       "<table border=\"1\" class=\"dataframe\">\n",
       "  <thead>\n",
       "    <tr style=\"text-align: right;\">\n",
       "      <th></th>\n",
       "      <th>ModelType</th>\n",
       "      <th>RFC Accuracy</th>\n",
       "      <th>KNC Accuracy</th>\n",
       "    </tr>\n",
       "  </thead>\n",
       "  <tbody>\n",
       "    <tr>\n",
       "      <th>0</th>\n",
       "      <td>v1: normal</td>\n",
       "      <td>0.948819</td>\n",
       "      <td>0.818898</td>\n",
       "    </tr>\n",
       "    <tr>\n",
       "      <th>1</th>\n",
       "      <td>v2: PCA + standardized</td>\n",
       "      <td>0.783465</td>\n",
       "      <td>0.728346</td>\n",
       "    </tr>\n",
       "    <tr>\n",
       "      <th>2</th>\n",
       "      <td>v3: PCA - standardized</td>\n",
       "      <td>0.629921</td>\n",
       "      <td>0.661417</td>\n",
       "    </tr>\n",
       "    <tr>\n",
       "      <th>3</th>\n",
       "      <td>v4: IsoMaps with 1 Component</td>\n",
       "      <td>0.629921</td>\n",
       "      <td>0.622047</td>\n",
       "    </tr>\n",
       "    <tr>\n",
       "      <th>4</th>\n",
       "      <td>v4: IsoMaps with 2 Component</td>\n",
       "      <td>0.685039</td>\n",
       "      <td>0.681102</td>\n",
       "    </tr>\n",
       "    <tr>\n",
       "      <th>5</th>\n",
       "      <td>v4: IsoMaps with 3 Component</td>\n",
       "      <td>0.685039</td>\n",
       "      <td>0.685039</td>\n",
       "    </tr>\n",
       "    <tr>\n",
       "      <th>6</th>\n",
       "      <td>v4: IsoMaps with 4 Component</td>\n",
       "      <td>0.736220</td>\n",
       "      <td>0.712598</td>\n",
       "    </tr>\n",
       "    <tr>\n",
       "      <th>7</th>\n",
       "      <td>v4: IsoMaps with 5 Component</td>\n",
       "      <td>0.755906</td>\n",
       "      <td>0.755906</td>\n",
       "    </tr>\n",
       "    <tr>\n",
       "      <th>8</th>\n",
       "      <td>v5: LLE with 1 Component</td>\n",
       "      <td>0.539370</td>\n",
       "      <td>0.618110</td>\n",
       "    </tr>\n",
       "    <tr>\n",
       "      <th>9</th>\n",
       "      <td>v5: LLE with 2 Component</td>\n",
       "      <td>0.673228</td>\n",
       "      <td>0.704724</td>\n",
       "    </tr>\n",
       "    <tr>\n",
       "      <th>10</th>\n",
       "      <td>v5: LLE with 3 Component</td>\n",
       "      <td>0.700787</td>\n",
       "      <td>0.665354</td>\n",
       "    </tr>\n",
       "    <tr>\n",
       "      <th>11</th>\n",
       "      <td>v5: LLE with 4 Component</td>\n",
       "      <td>0.767717</td>\n",
       "      <td>0.708661</td>\n",
       "    </tr>\n",
       "    <tr>\n",
       "      <th>12</th>\n",
       "      <td>v5: LLE with 5 Component</td>\n",
       "      <td>0.724409</td>\n",
       "      <td>0.700787</td>\n",
       "    </tr>\n",
       "  </tbody>\n",
       "</table>\n",
       "</div>"
      ],
      "text/plain": [
       "                       ModelType  RFC Accuracy  KNC Accuracy\n",
       "0                     v1: normal      0.948819      0.818898\n",
       "1         v2: PCA + standardized      0.783465      0.728346\n",
       "2         v3: PCA - standardized      0.629921      0.661417\n",
       "3   v4: IsoMaps with 1 Component      0.629921      0.622047\n",
       "4   v4: IsoMaps with 2 Component      0.685039      0.681102\n",
       "5   v4: IsoMaps with 3 Component      0.685039      0.685039\n",
       "6   v4: IsoMaps with 4 Component      0.736220      0.712598\n",
       "7   v4: IsoMaps with 5 Component      0.755906      0.755906\n",
       "8       v5: LLE with 1 Component      0.539370      0.618110\n",
       "9       v5: LLE with 2 Component      0.673228      0.704724\n",
       "10      v5: LLE with 3 Component      0.700787      0.665354\n",
       "11      v5: LLE with 4 Component      0.767717      0.708661\n",
       "12      v5: LLE with 5 Component      0.724409      0.700787"
      ]
     },
     "execution_count": 153,
     "metadata": {},
     "output_type": "execute_result"
    }
   ],
   "source": [
    "df_score"
   ]
  },
  {
   "cell_type": "code",
   "execution_count": 154,
   "metadata": {},
   "outputs": [],
   "source": [
    "df_score.to_csv('data/test_and_training_data/Score_results.csv', index=False)"
   ]
  },
  {
   "cell_type": "markdown",
   "metadata": {},
   "source": [
    "<h2>Read and analyse results</h2>"
   ]
  },
  {
   "cell_type": "code",
   "execution_count": 155,
   "metadata": {},
   "outputs": [
    {
     "data": {
      "text/html": [
       "<div>\n",
       "<style scoped>\n",
       "    .dataframe tbody tr th:only-of-type {\n",
       "        vertical-align: middle;\n",
       "    }\n",
       "\n",
       "    .dataframe tbody tr th {\n",
       "        vertical-align: top;\n",
       "    }\n",
       "\n",
       "    .dataframe thead th {\n",
       "        text-align: right;\n",
       "    }\n",
       "</style>\n",
       "<table border=\"1\" class=\"dataframe\">\n",
       "  <thead>\n",
       "    <tr style=\"text-align: right;\">\n",
       "      <th></th>\n",
       "      <th>ModelType</th>\n",
       "      <th>RFC Accuracy</th>\n",
       "      <th>KNC Accuracy</th>\n",
       "    </tr>\n",
       "  </thead>\n",
       "  <tbody>\n",
       "    <tr>\n",
       "      <th>0</th>\n",
       "      <td>v1: normal</td>\n",
       "      <td>0.948819</td>\n",
       "      <td>0.818898</td>\n",
       "    </tr>\n",
       "    <tr>\n",
       "      <th>1</th>\n",
       "      <td>v2: PCA + standardized</td>\n",
       "      <td>0.783465</td>\n",
       "      <td>0.728346</td>\n",
       "    </tr>\n",
       "    <tr>\n",
       "      <th>2</th>\n",
       "      <td>v3: PCA - standardized</td>\n",
       "      <td>0.629921</td>\n",
       "      <td>0.661417</td>\n",
       "    </tr>\n",
       "    <tr>\n",
       "      <th>3</th>\n",
       "      <td>v4: IsoMaps with 1 Component</td>\n",
       "      <td>0.629921</td>\n",
       "      <td>0.622047</td>\n",
       "    </tr>\n",
       "    <tr>\n",
       "      <th>4</th>\n",
       "      <td>v4: IsoMaps with 2 Component</td>\n",
       "      <td>0.685039</td>\n",
       "      <td>0.681102</td>\n",
       "    </tr>\n",
       "    <tr>\n",
       "      <th>5</th>\n",
       "      <td>v4: IsoMaps with 3 Component</td>\n",
       "      <td>0.685039</td>\n",
       "      <td>0.685039</td>\n",
       "    </tr>\n",
       "    <tr>\n",
       "      <th>6</th>\n",
       "      <td>v4: IsoMaps with 4 Component</td>\n",
       "      <td>0.736220</td>\n",
       "      <td>0.712598</td>\n",
       "    </tr>\n",
       "    <tr>\n",
       "      <th>7</th>\n",
       "      <td>v4: IsoMaps with 5 Component</td>\n",
       "      <td>0.755906</td>\n",
       "      <td>0.755906</td>\n",
       "    </tr>\n",
       "    <tr>\n",
       "      <th>8</th>\n",
       "      <td>v5: LLE with 1 Component</td>\n",
       "      <td>0.539370</td>\n",
       "      <td>0.618110</td>\n",
       "    </tr>\n",
       "    <tr>\n",
       "      <th>9</th>\n",
       "      <td>v5: LLE with 2 Component</td>\n",
       "      <td>0.673228</td>\n",
       "      <td>0.704724</td>\n",
       "    </tr>\n",
       "    <tr>\n",
       "      <th>10</th>\n",
       "      <td>v5: LLE with 3 Component</td>\n",
       "      <td>0.700787</td>\n",
       "      <td>0.665354</td>\n",
       "    </tr>\n",
       "    <tr>\n",
       "      <th>11</th>\n",
       "      <td>v5: LLE with 4 Component</td>\n",
       "      <td>0.767717</td>\n",
       "      <td>0.708661</td>\n",
       "    </tr>\n",
       "    <tr>\n",
       "      <th>12</th>\n",
       "      <td>v5: LLE with 5 Component</td>\n",
       "      <td>0.724409</td>\n",
       "      <td>0.700787</td>\n",
       "    </tr>\n",
       "  </tbody>\n",
       "</table>\n",
       "</div>"
      ],
      "text/plain": [
       "                       ModelType  RFC Accuracy  KNC Accuracy\n",
       "0                     v1: normal      0.948819      0.818898\n",
       "1         v2: PCA + standardized      0.783465      0.728346\n",
       "2         v3: PCA - standardized      0.629921      0.661417\n",
       "3   v4: IsoMaps with 1 Component      0.629921      0.622047\n",
       "4   v4: IsoMaps with 2 Component      0.685039      0.681102\n",
       "5   v4: IsoMaps with 3 Component      0.685039      0.685039\n",
       "6   v4: IsoMaps with 4 Component      0.736220      0.712598\n",
       "7   v4: IsoMaps with 5 Component      0.755906      0.755906\n",
       "8       v5: LLE with 1 Component      0.539370      0.618110\n",
       "9       v5: LLE with 2 Component      0.673228      0.704724\n",
       "10      v5: LLE with 3 Component      0.700787      0.665354\n",
       "11      v5: LLE with 4 Component      0.767717      0.708661\n",
       "12      v5: LLE with 5 Component      0.724409      0.700787"
      ]
     },
     "execution_count": 155,
     "metadata": {},
     "output_type": "execute_result"
    }
   ],
   "source": [
    "df_score"
   ]
  },
  {
   "cell_type": "code",
   "execution_count": 158,
   "metadata": {},
   "outputs": [
    {
     "data": {
      "text/plain": [
       "<AxesSubplot:xlabel='ModelType', ylabel='Count'>"
      ]
     },
     "execution_count": 158,
     "metadata": {},
     "output_type": "execute_result"
    },
    {
     "data": {
      "image/png": "[encoded data removed]",
      "text/plain": [
       "<Figure size 432x288 with 1 Axes>"
      ]
     },
     "metadata": {
      "needs_background": "light"
     },
     "output_type": "display_data"
    }
   ],
   "source": [
    "sns.histplot(data=df_score, x=\"ModelType\", hue=\"ModelType\", bins=20)"
   ]
  },
  {
   "cell_type": "code",
   "execution_count": null,
   "metadata": {},
   "outputs": [],
   "source": []
  }
 ],
 "metadata": {
  "kernelspec": {
   "display_name": "Python 3.9.7 ('base')",
   "language": "python",
   "name": "python3"
  },
  "language_info": {
   "codemirror_mode": {
    "name": "ipython",
    "version": 3
   },
   "file_extension": ".py",
   "mimetype": "text/x-python",
   "name": "python",
   "nbconvert_exporter": "python",
   "pygments_lexer": "ipython3",
   "version": "3.9.7"
  },
  "orig_nbformat": 4,
  "vscode": {
   "interpreter": {
    "hash": "53ba14780de18afc6d3ba1d1c833f3946c675e288ab3ee7b657b4ff2d7f38778"
   }
  }
 },
 "nbformat": 4,
 "nbformat_minor": 2
}
