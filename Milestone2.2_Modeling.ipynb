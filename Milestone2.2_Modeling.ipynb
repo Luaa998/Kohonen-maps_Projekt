{
 "cells": [
  {
   "cell_type": "code",
   "execution_count": 1,
   "metadata": {},
   "outputs": [],
   "source": [
    "import matplotlib.pyplot as plt\n",
    "import numpy as np\n",
    "import pandas as pd\n",
    "import seaborn as sns\n",
    "from sklearn.base import BaseEstimator, TransformerMixin\n",
    "from sklearn.cluster import DBSCAN, KMeans\n",
    "from sklearn.compose import make_column_transformer\n",
    "from sklearn.datasets import load_sample_image, make_blobs\n",
    "from sklearn.decomposition import PCA\n",
    "from sklearn.ensemble import BaggingClassifier, BaggingRegressor, GradientBoostingClassifier, GradientBoostingRegressor, RandomForestClassifier, RandomForestRegressor, StackingClassifier, StackingRegressor\n",
    "from sklearn.impute import KNNImputer, SimpleImputer\n",
    "from sklearn.inspection import permutation_importance\n",
    "from sklearn.linear_model import Lasso, LinearRegression, LogisticRegression, Ridge\n",
    "from sklearn.manifold import Isomap, LocallyLinearEmbedding, MDS\n",
    "from sklearn.metrics import auc, confusion_matrix, ConfusionMatrixDisplay, davies_bouldin_score, rand_score, roc_auc_score, roc_curve, silhouette_samples, silhouette_score \n",
    "from sklearn.model_selection import train_test_split, cross_validate, GridSearchCV\n",
    "from sklearn.naive_bayes import GaussianNB\n",
    "from sklearn.neighbors import KNeighborsClassifier, KNeighborsRegressor\n",
    "from sklearn.pipeline import make_pipeline\n",
    "from sklearn.preprocessing import OneHotEncoder, OrdinalEncoder, PolynomialFeatures, StandardScaler\n",
    "from sklearn.svm import SVC\n",
    "from sklearn.tree import DecisionTreeClassifier, DecisionTreeRegressor, plot_tree\n",
    "import statsmodels.api as sm\n",
    "from sklearn.metrics import accuracy_score\n",
    "from sklearn import metrics"
   ]
  },
  {
   "cell_type": "markdown",
   "metadata": {},
   "source": [
    "<h1>Test-Training-Split for V1</h1>"
   ]
  },
  {
   "cell_type": "code",
   "execution_count": 2,
   "metadata": {},
   "outputs": [
    {
     "data": {
      "text/html": [
       "<div>\n",
       "<style scoped>\n",
       "    .dataframe tbody tr th:only-of-type {\n",
       "        vertical-align: middle;\n",
       "    }\n",
       "\n",
       "    .dataframe tbody tr th {\n",
       "        vertical-align: top;\n",
       "    }\n",
       "\n",
       "    .dataframe thead th {\n",
       "        text-align: right;\n",
       "    }\n",
       "</style>\n",
       "<table border=\"1\" class=\"dataframe\">\n",
       "  <thead>\n",
       "    <tr style=\"text-align: right;\">\n",
       "      <th></th>\n",
       "      <th>size_dog</th>\n",
       "      <th>eye_circularity</th>\n",
       "      <th>skull_circularity</th>\n",
       "      <th>ear_size</th>\n",
       "      <th>eyes_distance</th>\n",
       "      <th>ear_form</th>\n",
       "      <th>hair_tone</th>\n",
       "      <th>nose_elongatedness</th>\n",
       "      <th>weight_dog</th>\n",
       "      <th>muzzle_form</th>\n",
       "      <th>skin_tone_main</th>\n",
       "      <th>skin_pattern_complexity</th>\n",
       "      <th>body_length</th>\n",
       "      <th>tail_length</th>\n",
       "      <th>hair_curlness</th>\n",
       "      <th>hair_length</th>\n",
       "      <th>leg_front_number</th>\n",
       "      <th>leg_back_number</th>\n",
       "      <th>breuni_class</th>\n",
       "    </tr>\n",
       "  </thead>\n",
       "  <tbody>\n",
       "    <tr>\n",
       "      <th>0</th>\n",
       "      <td>95.0</td>\n",
       "      <td>48.0</td>\n",
       "      <td>83.0</td>\n",
       "      <td>178.0</td>\n",
       "      <td>72.0</td>\n",
       "      <td>10.0</td>\n",
       "      <td>162.0</td>\n",
       "      <td>42.0</td>\n",
       "      <td>20.0</td>\n",
       "      <td>159.0</td>\n",
       "      <td>176.0</td>\n",
       "      <td>379.0</td>\n",
       "      <td>184.0</td>\n",
       "      <td>70.0</td>\n",
       "      <td>6.0</td>\n",
       "      <td>16.0</td>\n",
       "      <td>187.0</td>\n",
       "      <td>197.0</td>\n",
       "      <td>fashion_lifestyle_elite</td>\n",
       "    </tr>\n",
       "    <tr>\n",
       "      <th>1</th>\n",
       "      <td>91.0</td>\n",
       "      <td>41.0</td>\n",
       "      <td>84.0</td>\n",
       "      <td>141.0</td>\n",
       "      <td>57.0</td>\n",
       "      <td>9.0</td>\n",
       "      <td>149.0</td>\n",
       "      <td>45.0</td>\n",
       "      <td>19.0</td>\n",
       "      <td>143.0</td>\n",
       "      <td>170.0</td>\n",
       "      <td>330.0</td>\n",
       "      <td>158.0</td>\n",
       "      <td>72.0</td>\n",
       "      <td>9.0</td>\n",
       "      <td>14.0</td>\n",
       "      <td>189.0</td>\n",
       "      <td>199.0</td>\n",
       "      <td>fashion_lifestyle_elite</td>\n",
       "    </tr>\n",
       "    <tr>\n",
       "      <th>2</th>\n",
       "      <td>104.0</td>\n",
       "      <td>50.0</td>\n",
       "      <td>106.0</td>\n",
       "      <td>209.0</td>\n",
       "      <td>66.0</td>\n",
       "      <td>10.0</td>\n",
       "      <td>207.0</td>\n",
       "      <td>32.0</td>\n",
       "      <td>23.0</td>\n",
       "      <td>158.0</td>\n",
       "      <td>223.0</td>\n",
       "      <td>635.0</td>\n",
       "      <td>220.0</td>\n",
       "      <td>73.0</td>\n",
       "      <td>14.0</td>\n",
       "      <td>9.0</td>\n",
       "      <td>188.0</td>\n",
       "      <td>196.0</td>\n",
       "      <td>main_stream</td>\n",
       "    </tr>\n",
       "    <tr>\n",
       "      <th>3</th>\n",
       "      <td>93.0</td>\n",
       "      <td>41.0</td>\n",
       "      <td>82.0</td>\n",
       "      <td>159.0</td>\n",
       "      <td>63.0</td>\n",
       "      <td>9.0</td>\n",
       "      <td>144.0</td>\n",
       "      <td>46.0</td>\n",
       "      <td>19.0</td>\n",
       "      <td>143.0</td>\n",
       "      <td>160.0</td>\n",
       "      <td>309.0</td>\n",
       "      <td>127.0</td>\n",
       "      <td>63.0</td>\n",
       "      <td>6.0</td>\n",
       "      <td>10.0</td>\n",
       "      <td>199.0</td>\n",
       "      <td>207.0</td>\n",
       "      <td>fashion_lifestyle_elite</td>\n",
       "    </tr>\n",
       "    <tr>\n",
       "      <th>4</th>\n",
       "      <td>85.0</td>\n",
       "      <td>44.0</td>\n",
       "      <td>70.0</td>\n",
       "      <td>205.0</td>\n",
       "      <td>103.0</td>\n",
       "      <td>52.0</td>\n",
       "      <td>149.0</td>\n",
       "      <td>45.0</td>\n",
       "      <td>19.0</td>\n",
       "      <td>144.0</td>\n",
       "      <td>241.0</td>\n",
       "      <td>325.0</td>\n",
       "      <td>188.0</td>\n",
       "      <td>127.0</td>\n",
       "      <td>9.0</td>\n",
       "      <td>11.0</td>\n",
       "      <td>180.0</td>\n",
       "      <td>183.0</td>\n",
       "      <td>trendy</td>\n",
       "    </tr>\n",
       "  </tbody>\n",
       "</table>\n",
       "</div>"
      ],
      "text/plain": [
       "   size_dog  eye_circularity  skull_circularity  ear_size  eyes_distance  \\\n",
       "0      95.0             48.0               83.0     178.0           72.0   \n",
       "1      91.0             41.0               84.0     141.0           57.0   \n",
       "2     104.0             50.0              106.0     209.0           66.0   \n",
       "3      93.0             41.0               82.0     159.0           63.0   \n",
       "4      85.0             44.0               70.0     205.0          103.0   \n",
       "\n",
       "   ear_form  hair_tone  nose_elongatedness  weight_dog  muzzle_form  \\\n",
       "0      10.0      162.0                42.0        20.0        159.0   \n",
       "1       9.0      149.0                45.0        19.0        143.0   \n",
       "2      10.0      207.0                32.0        23.0        158.0   \n",
       "3       9.0      144.0                46.0        19.0        143.0   \n",
       "4      52.0      149.0                45.0        19.0        144.0   \n",
       "\n",
       "   skin_tone_main  skin_pattern_complexity  body_length  tail_length  \\\n",
       "0           176.0                    379.0        184.0         70.0   \n",
       "1           170.0                    330.0        158.0         72.0   \n",
       "2           223.0                    635.0        220.0         73.0   \n",
       "3           160.0                    309.0        127.0         63.0   \n",
       "4           241.0                    325.0        188.0        127.0   \n",
       "\n",
       "   hair_curlness  hair_length  leg_front_number  leg_back_number  \\\n",
       "0            6.0         16.0             187.0            197.0   \n",
       "1            9.0         14.0             189.0            199.0   \n",
       "2           14.0          9.0             188.0            196.0   \n",
       "3            6.0         10.0             199.0            207.0   \n",
       "4            9.0         11.0             180.0            183.0   \n",
       "\n",
       "              breuni_class  \n",
       "0  fashion_lifestyle_elite  \n",
       "1  fashion_lifestyle_elite  \n",
       "2              main_stream  \n",
       "3  fashion_lifestyle_elite  \n",
       "4                   trendy  "
      ]
     },
     "execution_count": 2,
     "metadata": {},
     "output_type": "execute_result"
    }
   ],
   "source": [
    "df1 = pd.read_csv('v1_data_dog_normal.csv')\n",
    "df1.head()"
   ]
  },
  {
   "cell_type": "code",
   "execution_count": 49,
   "metadata": {},
   "outputs": [
    {
     "name": "stdout",
     "output_type": "stream",
     "text": [
      "(846, 18) (846,)\n",
      "(566, 18) (280, 18) (566,) (280,)\n",
      "Accuracy: 0.939\n"
     ]
    }
   ],
   "source": [
    "# Random Forest Classifier:\n",
    "data = df1.values\n",
    "X, y = data[:, :-1], data[:, -1]\n",
    "print(X.shape, y.shape)\n",
    "# using the train test split function\n",
    "X_train, X_test, y_train, y_test = train_test_split(X, y, test_size=0.33, random_state=1)\n",
    "print(X_train.shape, X_test.shape, y_train.shape, y_test.shape)\n",
    "model = RandomForestClassifier(random_state=1)\n",
    "model.fit(X_train, y_train)\n",
    "# make predictions\n",
    "yhat = model.predict(X_test)\n",
    "# evaluate predictions\n",
    "acc = accuracy_score(y_test, yhat)\n",
    "print('Accuracy: %.3f' % acc)"
   ]
  },
  {
   "cell_type": "code",
   "execution_count": 4,
   "metadata": {},
   "outputs": [
    {
     "name": "stdout",
     "output_type": "stream",
     "text": [
      "(846, 18) (846,)\n",
      "(566, 18) (280, 18) (566,) (280,)\n",
      "1 Accuracy: 0.8571428571428571\n"
     ]
    }
   ],
   "source": [
    "# K Nearest Neighbor Classification:\n",
    "data = df1.values\n",
    "X, y = data[:, :-1], data[:, -1]\n",
    "print(X.shape, y.shape)\n",
    "# using the train test split function\n",
    "X_train, X_test, y_train, y_test = train_test_split(X, y, test_size=0.33, random_state=1)\n",
    "print(X_train.shape, X_test.shape, y_train.shape, y_test.shape)\n",
    "i = 1\n",
    "z = 0\n",
    "while i < 100:\n",
    "    knn = KNeighborsClassifier(n_neighbors=i)\n",
    "    knn.fit(X_train, y_train)\n",
    "    # make predictions\n",
    "    y_pred = knn.predict(X_test)\n",
    "    # evaluate predictions\n",
    "    x = metrics.accuracy_score(y_test, y_pred)\n",
    "    if x > z:\n",
    "        z = metrics.accuracy_score(y_test, y_pred)\n",
    "        print(i,\"Accuracy:\",z)\n",
    "    i += 1"
   ]
  },
  {
   "cell_type": "markdown",
   "metadata": {},
   "source": [
    "<h1>Test-Training-Split for V2</h1>"
   ]
  },
  {
   "cell_type": "code",
   "execution_count": 3,
   "metadata": {},
   "outputs": [
    {
     "data": {
      "text/html": [
       "<div>\n",
       "<style scoped>\n",
       "    .dataframe tbody tr th:only-of-type {\n",
       "        vertical-align: middle;\n",
       "    }\n",
       "\n",
       "    .dataframe tbody tr th {\n",
       "        vertical-align: top;\n",
       "    }\n",
       "\n",
       "    .dataframe thead th {\n",
       "        text-align: right;\n",
       "    }\n",
       "</style>\n",
       "<table border=\"1\" class=\"dataframe\">\n",
       "  <thead>\n",
       "    <tr style=\"text-align: right;\">\n",
       "      <th></th>\n",
       "      <th>0</th>\n",
       "      <th>1</th>\n",
       "      <th>2</th>\n",
       "      <th>3</th>\n",
       "      <th>4</th>\n",
       "      <th>breuni_class</th>\n",
       "    </tr>\n",
       "  </thead>\n",
       "  <tbody>\n",
       "    <tr>\n",
       "      <th>0</th>\n",
       "      <td>0.329746</td>\n",
       "      <td>-0.215835</td>\n",
       "      <td>0.997248</td>\n",
       "      <td>0.171485</td>\n",
       "      <td>0.081947</td>\n",
       "      <td>fashion_lifestyle_elite</td>\n",
       "    </tr>\n",
       "    <tr>\n",
       "      <th>1</th>\n",
       "      <td>-1.594478</td>\n",
       "      <td>-0.422979</td>\n",
       "      <td>-0.370002</td>\n",
       "      <td>0.231497</td>\n",
       "      <td>0.691322</td>\n",
       "      <td>fashion_lifestyle_elite</td>\n",
       "    </tr>\n",
       "    <tr>\n",
       "      <th>2</th>\n",
       "      <td>3.760799</td>\n",
       "      <td>0.186851</td>\n",
       "      <td>0.087971</td>\n",
       "      <td>1.202770</td>\n",
       "      <td>0.729704</td>\n",
       "      <td>main_stream</td>\n",
       "    </tr>\n",
       "    <tr>\n",
       "      <th>3</th>\n",
       "      <td>-1.742311</td>\n",
       "      <td>-2.825632</td>\n",
       "      <td>0.111181</td>\n",
       "      <td>0.374927</td>\n",
       "      <td>-0.370714</td>\n",
       "      <td>fashion_lifestyle_elite</td>\n",
       "    </tr>\n",
       "    <tr>\n",
       "      <th>4</th>\n",
       "      <td>0.549668</td>\n",
       "      <td>4.764098</td>\n",
       "      <td>11.689234</td>\n",
       "      <td>0.163830</td>\n",
       "      <td>3.257210</td>\n",
       "      <td>trendy</td>\n",
       "    </tr>\n",
       "  </tbody>\n",
       "</table>\n",
       "</div>"
      ],
      "text/plain": [
       "          0         1          2         3         4             breuni_class\n",
       "0  0.329746 -0.215835   0.997248  0.171485  0.081947  fashion_lifestyle_elite\n",
       "1 -1.594478 -0.422979  -0.370002  0.231497  0.691322  fashion_lifestyle_elite\n",
       "2  3.760799  0.186851   0.087971  1.202770  0.729704              main_stream\n",
       "3 -1.742311 -2.825632   0.111181  0.374927 -0.370714  fashion_lifestyle_elite\n",
       "4  0.549668  4.764098  11.689234  0.163830  3.257210                   trendy"
      ]
     },
     "execution_count": 3,
     "metadata": {},
     "output_type": "execute_result"
    }
   ],
   "source": [
    "df2 = pd.read_csv('v2_data_dog_PCA+standardized.csv')\n",
    "df2.head()"
   ]
  },
  {
   "cell_type": "code",
   "execution_count": 61,
   "metadata": {},
   "outputs": [
    {
     "name": "stdout",
     "output_type": "stream",
     "text": [
      "(846, 5) (846,)\n",
      "(566, 5) (280, 5) (566,) (280,)\n",
      "Accuracy: 0.796\n"
     ]
    }
   ],
   "source": [
    "# Random Forest Classifier:\n",
    "data = df2.values\n",
    "X, y = data[:, :-1], data[:, -1]\n",
    "print(X.shape, y.shape)\n",
    "# using the train test split function\n",
    "X_train, X_test, y_train, y_test = train_test_split(X, y, test_size=0.33, random_state=1)\n",
    "print(X_train.shape, X_test.shape, y_train.shape, y_test.shape)\n",
    "model = RandomForestClassifier(random_state=1)\n",
    "model.fit(X_train, y_train)\n",
    "# make predictions\n",
    "yhat = model.predict(X_test)\n",
    "# evaluate predictions\n",
    "acc = accuracy_score(y_test, yhat)\n",
    "print('Accuracy: %.3f' % acc)"
   ]
  },
  {
   "cell_type": "code",
   "execution_count": 88,
   "metadata": {},
   "outputs": [
    {
     "name": "stdout",
     "output_type": "stream",
     "text": [
      "(846, 5) (846,)\n",
      "(566, 5) (280, 5) (566,) (280,)\n",
      "1 Accuracy: 0.7571428571428571\n",
      "3 Accuracy: 0.7642857142857142\n",
      "8 Accuracy: 0.7678571428571429\n",
      "9 Accuracy: 0.7714285714285715\n",
      "11 Accuracy: 0.7821428571428571\n"
     ]
    }
   ],
   "source": [
    "# K Nearest Neighbor Classification:\n",
    "data = df2.values\n",
    "X, y = data[:, :-1], data[:, -1]\n",
    "print(X.shape, y.shape)\n",
    "# using the train test split function\n",
    "X_train, X_test, y_train, y_test = train_test_split(X, y, test_size=0.33, random_state=1)\n",
    "print(X_train.shape, X_test.shape, y_train.shape, y_test.shape)\n",
    "i = 1\n",
    "z = 0\n",
    "while i < 100:\n",
    "    knn = KNeighborsClassifier(n_neighbors=i)\n",
    "    knn.fit(X_train, y_train)\n",
    "    # make predictions\n",
    "    y_pred = knn.predict(X_test)\n",
    "    # evaluate predictions\n",
    "    x = metrics.accuracy_score(y_test, y_pred)\n",
    "    if x > z:\n",
    "        z = metrics.accuracy_score(y_test, y_pred)\n",
    "        print(i,\"Accuracy:\",z)\n",
    "    i += 1"
   ]
  },
  {
   "cell_type": "markdown",
   "metadata": {},
   "source": [
    "<h1>Test-Training-Split for V3</h1>"
   ]
  },
  {
   "cell_type": "code",
   "execution_count": 5,
   "metadata": {},
   "outputs": [
    {
     "data": {
      "text/html": [
       "<div>\n",
       "<style scoped>\n",
       "    .dataframe tbody tr th:only-of-type {\n",
       "        vertical-align: middle;\n",
       "    }\n",
       "\n",
       "    .dataframe tbody tr th {\n",
       "        vertical-align: top;\n",
       "    }\n",
       "\n",
       "    .dataframe thead th {\n",
       "        text-align: right;\n",
       "    }\n",
       "</style>\n",
       "<table border=\"1\" class=\"dataframe\">\n",
       "  <thead>\n",
       "    <tr style=\"text-align: right;\">\n",
       "      <th></th>\n",
       "      <th>0</th>\n",
       "      <th>1</th>\n",
       "      <th>breuni_class</th>\n",
       "    </tr>\n",
       "  </thead>\n",
       "  <tbody>\n",
       "    <tr>\n",
       "      <th>0</th>\n",
       "      <td>-57.332839</td>\n",
       "      <td>12.411256</td>\n",
       "      <td>fashion_lifestyle_elite</td>\n",
       "    </tr>\n",
       "    <tr>\n",
       "      <th>1</th>\n",
       "      <td>-116.911811</td>\n",
       "      <td>-9.414613</td>\n",
       "      <td>fashion_lifestyle_elite</td>\n",
       "    </tr>\n",
       "    <tr>\n",
       "      <th>2</th>\n",
       "      <td>211.526976</td>\n",
       "      <td>7.911040</td>\n",
       "      <td>main_stream</td>\n",
       "    </tr>\n",
       "    <tr>\n",
       "      <th>3</th>\n",
       "      <td>-141.291488</td>\n",
       "      <td>20.490169</td>\n",
       "      <td>fashion_lifestyle_elite</td>\n",
       "    </tr>\n",
       "    <tr>\n",
       "      <th>4</th>\n",
       "      <td>-98.423682</td>\n",
       "      <td>50.854161</td>\n",
       "      <td>trendy</td>\n",
       "    </tr>\n",
       "  </tbody>\n",
       "</table>\n",
       "</div>"
      ],
      "text/plain": [
       "            0          1             breuni_class\n",
       "0  -57.332839  12.411256  fashion_lifestyle_elite\n",
       "1 -116.911811  -9.414613  fashion_lifestyle_elite\n",
       "2  211.526976   7.911040              main_stream\n",
       "3 -141.291488  20.490169  fashion_lifestyle_elite\n",
       "4  -98.423682  50.854161                   trendy"
      ]
     },
     "execution_count": 5,
     "metadata": {},
     "output_type": "execute_result"
    }
   ],
   "source": [
    "df3 = pd.read_csv('v3_data_dog_PCA-standardized.csv')\n",
    "df3.head()"
   ]
  },
  {
   "cell_type": "code",
   "execution_count": 76,
   "metadata": {},
   "outputs": [
    {
     "name": "stdout",
     "output_type": "stream",
     "text": [
      "(846, 2) (846,)\n",
      "(566, 2) (280, 2) (566,) (280,)\n",
      "Accuracy: 0.661\n"
     ]
    }
   ],
   "source": [
    "# Random Forest Classifier:\n",
    "data = df3.values\n",
    "X, y = data[:, :-1], data[:, -1]\n",
    "print(X.shape, y.shape)\n",
    "# using the train test split function\n",
    "X_train, X_test, y_train, y_test = train_test_split(X, y, test_size=0.33, random_state=1)\n",
    "print(X_train.shape, X_test.shape, y_train.shape, y_test.shape)\n",
    "model = RandomForestClassifier(random_state=1)\n",
    "model.fit(X_train, y_train)\n",
    "# make predictions\n",
    "yhat = model.predict(X_test)\n",
    "# evaluate predictions\n",
    "acc = accuracy_score(y_test, yhat)\n",
    "print('Accuracy: %.3f' % acc)"
   ]
  },
  {
   "cell_type": "code",
   "execution_count": 86,
   "metadata": {},
   "outputs": [
    {
     "name": "stdout",
     "output_type": "stream",
     "text": [
      "(846, 2) (846,)\n",
      "(566, 2) (280, 2) (566,) (280,)\n",
      "1 Accuracy: 0.6678571428571428\n",
      "2 Accuracy: 0.6821428571428572\n",
      "17 Accuracy: 0.6857142857142857\n"
     ]
    }
   ],
   "source": [
    "# K Nearest Neighbor Classification:\n",
    "data = df3.values\n",
    "X, y = data[:, :-1], data[:, -1]\n",
    "print(X.shape, y.shape)\n",
    "# using the train test split function\n",
    "X_train, X_test, y_train, y_test = train_test_split(X, y, test_size=0.33, random_state=1)\n",
    "print(X_train.shape, X_test.shape, y_train.shape, y_test.shape)\n",
    "i = 1\n",
    "z = 0\n",
    "while i < 100:\n",
    "    knn = KNeighborsClassifier(n_neighbors=i)\n",
    "    knn.fit(X_train, y_train)\n",
    "    # make predictions\n",
    "    y_pred = knn.predict(X_test)\n",
    "    # evaluate predictions\n",
    "    x = metrics.accuracy_score(y_test, y_pred)\n",
    "    if x > z:\n",
    "        z = metrics.accuracy_score(y_test, y_pred)\n",
    "        print(i,\"Accuracy:\",z)\n",
    "    i += 1\n"
   ]
  },
  {
   "cell_type": "markdown",
   "metadata": {},
   "source": [
    "<h1>Test-Training-Split for V4</h1>"
   ]
  },
  {
   "cell_type": "code",
   "execution_count": 6,
   "metadata": {},
   "outputs": [
    {
     "data": {
      "text/html": [
       "<div>\n",
       "<style scoped>\n",
       "    .dataframe tbody tr th:only-of-type {\n",
       "        vertical-align: middle;\n",
       "    }\n",
       "\n",
       "    .dataframe tbody tr th {\n",
       "        vertical-align: top;\n",
       "    }\n",
       "\n",
       "    .dataframe thead th {\n",
       "        text-align: right;\n",
       "    }\n",
       "</style>\n",
       "<table border=\"1\" class=\"dataframe\">\n",
       "  <thead>\n",
       "    <tr style=\"text-align: right;\">\n",
       "      <th></th>\n",
       "      <th>data_to_neuron</th>\n",
       "      <th>neuron_to_neighbour</th>\n",
       "      <th>breuni_class</th>\n",
       "    </tr>\n",
       "  </thead>\n",
       "  <tbody>\n",
       "    <tr>\n",
       "      <th>0</th>\n",
       "      <td>0.255732</td>\n",
       "      <td>0.314266</td>\n",
       "      <td>fashion_lifestyle_elite</td>\n",
       "    </tr>\n",
       "    <tr>\n",
       "      <th>1</th>\n",
       "      <td>0.234393</td>\n",
       "      <td>0.314266</td>\n",
       "      <td>fashion_lifestyle_elite</td>\n",
       "    </tr>\n",
       "    <tr>\n",
       "      <th>2</th>\n",
       "      <td>0.195993</td>\n",
       "      <td>0.314266</td>\n",
       "      <td>main_stream</td>\n",
       "    </tr>\n",
       "    <tr>\n",
       "      <th>3</th>\n",
       "      <td>0.354151</td>\n",
       "      <td>0.314266</td>\n",
       "      <td>fashion_lifestyle_elite</td>\n",
       "    </tr>\n",
       "    <tr>\n",
       "      <th>4</th>\n",
       "      <td>0.305593</td>\n",
       "      <td>0.314266</td>\n",
       "      <td>trendy</td>\n",
       "    </tr>\n",
       "  </tbody>\n",
       "</table>\n",
       "</div>"
      ],
      "text/plain": [
       "   data_to_neuron  neuron_to_neighbour             breuni_class\n",
       "0        0.255732             0.314266  fashion_lifestyle_elite\n",
       "1        0.234393             0.314266  fashion_lifestyle_elite\n",
       "2        0.195993             0.314266              main_stream\n",
       "3        0.354151             0.314266  fashion_lifestyle_elite\n",
       "4        0.305593             0.314266                   trendy"
      ]
     },
     "execution_count": 6,
     "metadata": {},
     "output_type": "execute_result"
    }
   ],
   "source": [
    "df4 = pd.read_csv('v4_data_dog_KM.csv')\n",
    "df4.head()"
   ]
  },
  {
   "cell_type": "code",
   "execution_count": 91,
   "metadata": {},
   "outputs": [
    {
     "name": "stdout",
     "output_type": "stream",
     "text": [
      "(846, 2) (846,)\n",
      "(566, 2) (280, 2) (566,) (280,)\n",
      "Accuracy: 0.450\n"
     ]
    }
   ],
   "source": [
    "# Random Forest Classifier:\n",
    "data = df4.values\n",
    "X, y = data[:, :-1], data[:, -1]\n",
    "print(X.shape, y.shape)\n",
    "# using the train test split function\n",
    "X_train, X_test, y_train, y_test = train_test_split(X, y, test_size=0.33, random_state=1)\n",
    "print(X_train.shape, X_test.shape, y_train.shape, y_test.shape)\n",
    "model = RandomForestClassifier(random_state=1)\n",
    "model.fit(X_train, y_train)\n",
    "# make predictions\n",
    "yhat = model.predict(X_test)\n",
    "# evaluate predictions\n",
    "acc = accuracy_score(y_test, yhat)\n",
    "print('Accuracy: %.3f' % acc)"
   ]
  },
  {
   "cell_type": "code",
   "execution_count": 92,
   "metadata": {},
   "outputs": [
    {
     "name": "stdout",
     "output_type": "stream",
     "text": [
      "(846, 2) (846,)\n",
      "(566, 2) (280, 2) (566,) (280,)\n",
      "1 Accuracy: 0.43214285714285716\n",
      "7 Accuracy: 0.4357142857142857\n",
      "9 Accuracy: 0.45\n",
      "10 Accuracy: 0.4642857142857143\n",
      "16 Accuracy: 0.4714285714285714\n",
      "18 Accuracy: 0.48214285714285715\n",
      "20 Accuracy: 0.5\n",
      "22 Accuracy: 0.5142857142857142\n",
      "30 Accuracy: 0.5178571428571429\n",
      "39 Accuracy: 0.5214285714285715\n",
      "53 Accuracy: 0.525\n"
     ]
    }
   ],
   "source": [
    "# K Nearest Neighbor Classification:\n",
    "data = df4.values\n",
    "X, y = data[:, :-1], data[:, -1]\n",
    "print(X.shape, y.shape)\n",
    "# using the train test split function\n",
    "X_train, X_test, y_train, y_test = train_test_split(X, y, test_size=0.33, random_state=1)\n",
    "print(X_train.shape, X_test.shape, y_train.shape, y_test.shape)\n",
    "i = 1\n",
    "z = 0\n",
    "while i < 100:\n",
    "    knn = KNeighborsClassifier(n_neighbors=i)\n",
    "    knn.fit(X_train, y_train)\n",
    "    # make predictions\n",
    "    y_pred = knn.predict(X_test)\n",
    "    # evaluate predictions\n",
    "    x = metrics.accuracy_score(y_test, y_pred)\n",
    "    if x > z:\n",
    "        z = metrics.accuracy_score(y_test, y_pred)\n",
    "        print(i,\"Accuracy:\",z)\n",
    "    i += 1"
   ]
  },
  {
   "cell_type": "markdown",
   "metadata": {},
   "source": [
    "<h1>Test-Training-Split for V5</h1>"
   ]
  },
  {
   "cell_type": "code",
   "execution_count": 7,
   "metadata": {},
   "outputs": [
    {
     "data": {
      "text/html": [
       "<div>\n",
       "<style scoped>\n",
       "    .dataframe tbody tr th:only-of-type {\n",
       "        vertical-align: middle;\n",
       "    }\n",
       "\n",
       "    .dataframe tbody tr th {\n",
       "        vertical-align: top;\n",
       "    }\n",
       "\n",
       "    .dataframe thead th {\n",
       "        text-align: right;\n",
       "    }\n",
       "</style>\n",
       "<table border=\"1\" class=\"dataframe\">\n",
       "  <thead>\n",
       "    <tr style=\"text-align: right;\">\n",
       "      <th></th>\n",
       "      <th>0</th>\n",
       "      <th>1</th>\n",
       "      <th>breuni_class</th>\n",
       "    </tr>\n",
       "  </thead>\n",
       "  <tbody>\n",
       "    <tr>\n",
       "      <th>0</th>\n",
       "      <td>-61.777979</td>\n",
       "      <td>78.625284</td>\n",
       "      <td>fashion_lifestyle_elite</td>\n",
       "    </tr>\n",
       "    <tr>\n",
       "      <th>1</th>\n",
       "      <td>-163.733415</td>\n",
       "      <td>30.556835</td>\n",
       "      <td>fashion_lifestyle_elite</td>\n",
       "    </tr>\n",
       "    <tr>\n",
       "      <th>2</th>\n",
       "      <td>339.649554</td>\n",
       "      <td>30.058836</td>\n",
       "      <td>main_stream</td>\n",
       "    </tr>\n",
       "    <tr>\n",
       "      <th>3</th>\n",
       "      <td>-193.022682</td>\n",
       "      <td>-4.488933</td>\n",
       "      <td>fashion_lifestyle_elite</td>\n",
       "    </tr>\n",
       "    <tr>\n",
       "      <th>4</th>\n",
       "      <td>-238.553359</td>\n",
       "      <td>136.040289</td>\n",
       "      <td>trendy</td>\n",
       "    </tr>\n",
       "  </tbody>\n",
       "</table>\n",
       "</div>"
      ],
      "text/plain": [
       "            0           1             breuni_class\n",
       "0  -61.777979   78.625284  fashion_lifestyle_elite\n",
       "1 -163.733415   30.556835  fashion_lifestyle_elite\n",
       "2  339.649554   30.058836              main_stream\n",
       "3 -193.022682   -4.488933  fashion_lifestyle_elite\n",
       "4 -238.553359  136.040289                   trendy"
      ]
     },
     "execution_count": 7,
     "metadata": {},
     "output_type": "execute_result"
    }
   ],
   "source": [
    "df5 = pd.read_csv('v5_data_dog_IsoMaps.csv')\n",
    "df5.head()"
   ]
  },
  {
   "cell_type": "code",
   "execution_count": 93,
   "metadata": {},
   "outputs": [
    {
     "name": "stdout",
     "output_type": "stream",
     "text": [
      "(846, 2) (846,)\n",
      "(566, 2) (280, 2) (566,) (280,)\n",
      "Accuracy: 0.689\n"
     ]
    }
   ],
   "source": [
    "# Random Forest Classifier:\n",
    "data = df5.values\n",
    "X, y = data[:, :-1], data[:, -1]\n",
    "print(X.shape, y.shape)\n",
    "# using the train test split function\n",
    "X_train, X_test, y_train, y_test = train_test_split(X, y, test_size=0.33, random_state=1)\n",
    "print(X_train.shape, X_test.shape, y_train.shape, y_test.shape)\n",
    "model = RandomForestClassifier(random_state=1)\n",
    "model.fit(X_train, y_train)\n",
    "# make predictions\n",
    "yhat = model.predict(X_test)\n",
    "# evaluate predictions\n",
    "acc = accuracy_score(y_test, yhat)\n",
    "print('Accuracy: %.3f' % acc)"
   ]
  },
  {
   "cell_type": "code",
   "execution_count": 95,
   "metadata": {},
   "outputs": [
    {
     "name": "stdout",
     "output_type": "stream",
     "text": [
      "(846, 2) (846,)\n",
      "(566, 2) (280, 2) (566,) (280,)\n",
      "1 Accuracy: 0.6678571428571428\n",
      "2 Accuracy: 0.7035714285714286\n"
     ]
    }
   ],
   "source": [
    "# K Nearest Neighbor Classification:\n",
    "data = df5.values\n",
    "X, y = data[:, :-1], data[:, -1]\n",
    "print(X.shape, y.shape)\n",
    "# using the train test split function\n",
    "X_train, X_test, y_train, y_test = train_test_split(X, y, test_size=0.33, random_state=1)\n",
    "print(X_train.shape, X_test.shape, y_train.shape, y_test.shape)\n",
    "i = 1\n",
    "z = 0\n",
    "while i < 100:\n",
    "    knn = KNeighborsClassifier(n_neighbors=i)\n",
    "    knn.fit(X_train, y_train)\n",
    "    # make predictions\n",
    "    y_pred = knn.predict(X_test)\n",
    "    # evaluate predictions\n",
    "    x = metrics.accuracy_score(y_test, y_pred)\n",
    "    if x > z:\n",
    "        z = metrics.accuracy_score(y_test, y_pred)\n",
    "        print(i,\"Accuracy:\",z)\n",
    "    i += 1"
   ]
  },
  {
   "cell_type": "markdown",
   "metadata": {},
   "source": [
    "<h1>Test-Training-Split for V6</h1>"
   ]
  },
  {
   "cell_type": "code",
   "execution_count": 8,
   "metadata": {},
   "outputs": [
    {
     "data": {
      "text/html": [
       "<div>\n",
       "<style scoped>\n",
       "    .dataframe tbody tr th:only-of-type {\n",
       "        vertical-align: middle;\n",
       "    }\n",
       "\n",
       "    .dataframe tbody tr th {\n",
       "        vertical-align: top;\n",
       "    }\n",
       "\n",
       "    .dataframe thead th {\n",
       "        text-align: right;\n",
       "    }\n",
       "</style>\n",
       "<table border=\"1\" class=\"dataframe\">\n",
       "  <thead>\n",
       "    <tr style=\"text-align: right;\">\n",
       "      <th></th>\n",
       "      <th>0</th>\n",
       "      <th>1</th>\n",
       "      <th>breuni_class</th>\n",
       "    </tr>\n",
       "  </thead>\n",
       "  <tbody>\n",
       "    <tr>\n",
       "      <th>0</th>\n",
       "      <td>0.034879</td>\n",
       "      <td>-0.023564</td>\n",
       "      <td>fashion_lifestyle_elite</td>\n",
       "    </tr>\n",
       "    <tr>\n",
       "      <th>1</th>\n",
       "      <td>0.034879</td>\n",
       "      <td>-0.024841</td>\n",
       "      <td>fashion_lifestyle_elite</td>\n",
       "    </tr>\n",
       "    <tr>\n",
       "      <th>2</th>\n",
       "      <td>0.034879</td>\n",
       "      <td>0.053092</td>\n",
       "      <td>main_stream</td>\n",
       "    </tr>\n",
       "    <tr>\n",
       "      <th>3</th>\n",
       "      <td>0.034879</td>\n",
       "      <td>-0.025692</td>\n",
       "      <td>fashion_lifestyle_elite</td>\n",
       "    </tr>\n",
       "    <tr>\n",
       "      <th>4</th>\n",
       "      <td>0.034879</td>\n",
       "      <td>-0.022901</td>\n",
       "      <td>trendy</td>\n",
       "    </tr>\n",
       "  </tbody>\n",
       "</table>\n",
       "</div>"
      ],
      "text/plain": [
       "          0         1             breuni_class\n",
       "0  0.034879 -0.023564  fashion_lifestyle_elite\n",
       "1  0.034879 -0.024841  fashion_lifestyle_elite\n",
       "2  0.034879  0.053092              main_stream\n",
       "3  0.034879 -0.025692  fashion_lifestyle_elite\n",
       "4  0.034879 -0.022901                   trendy"
      ]
     },
     "execution_count": 8,
     "metadata": {},
     "output_type": "execute_result"
    }
   ],
   "source": [
    "df6 = pd.read_csv('v6_data_dog_LLE.csv')\n",
    "df6.head()"
   ]
  },
  {
   "cell_type": "code",
   "execution_count": 96,
   "metadata": {},
   "outputs": [
    {
     "name": "stdout",
     "output_type": "stream",
     "text": [
      "(846, 2) (846,)\n",
      "(566, 2) (280, 2) (566,) (280,)\n",
      "Accuracy: 0.675\n"
     ]
    }
   ],
   "source": [
    "# Random Forest Classifier:\n",
    "data = df6.values\n",
    "X, y = data[:, :-1], data[:, -1]\n",
    "print(X.shape, y.shape)\n",
    "# using the train test split function\n",
    "X_train, X_test, y_train, y_test = train_test_split(X, y, test_size=0.33, random_state=1)\n",
    "print(X_train.shape, X_test.shape, y_train.shape, y_test.shape)\n",
    "model = RandomForestClassifier(random_state=1)\n",
    "model.fit(X_train, y_train)\n",
    "# make predictions\n",
    "yhat = model.predict(X_test)\n",
    "# evaluate predictions\n",
    "acc = accuracy_score(y_test, yhat)\n",
    "print('Accuracy: %.3f' % acc)"
   ]
  },
  {
   "cell_type": "code",
   "execution_count": 97,
   "metadata": {},
   "outputs": [
    {
     "name": "stdout",
     "output_type": "stream",
     "text": [
      "(846, 2) (846,)\n",
      "(566, 2) (280, 2) (566,) (280,)\n",
      "1 Accuracy: 0.675\n",
      "2 Accuracy: 0.7035714285714286\n",
      "5 Accuracy: 0.7142857142857143\n",
      "7 Accuracy: 0.7178571428571429\n",
      "8 Accuracy: 0.7321428571428571\n"
     ]
    }
   ],
   "source": [
    "# K Nearest Neighbor Classification:\n",
    "data = df6.values\n",
    "X, y = data[:, :-1], data[:, -1]\n",
    "print(X.shape, y.shape)\n",
    "# using the train test split function\n",
    "X_train, X_test, y_train, y_test = train_test_split(X, y, test_size=0.33, random_state=1)\n",
    "print(X_train.shape, X_test.shape, y_train.shape, y_test.shape)\n",
    "i = 1\n",
    "z = 0\n",
    "while i < 100:\n",
    "    knn = KNeighborsClassifier(n_neighbors=i)\n",
    "    knn.fit(X_train, y_train)\n",
    "    # make predictions\n",
    "    y_pred = knn.predict(X_test)\n",
    "    # evaluate predictions\n",
    "    x = metrics.accuracy_score(y_test, y_pred)\n",
    "    if x > z:\n",
    "        z = metrics.accuracy_score(y_test, y_pred)\n",
    "        print(i,\"Accuracy:\",z)\n",
    "    i += 1"
   ]
  }
 ],
 "metadata": {
  "kernelspec": {
   "display_name": "Python 3.9.7 ('base')",
   "language": "python",
   "name": "python3"
  },
  "language_info": {
   "codemirror_mode": {
    "name": "ipython",
    "version": 3
   },
   "file_extension": ".py",
   "mimetype": "text/x-python",
   "name": "python",
   "nbconvert_exporter": "python",
   "pygments_lexer": "ipython3",
   "version": "3.9.7"
  },
  "orig_nbformat": 4,
  "vscode": {
   "interpreter": {
    "hash": "53ba14780de18afc6d3ba1d1c833f3946c675e288ab3ee7b657b4ff2d7f38778"
   }
  }
 },
 "nbformat": 4,
 "nbformat_minor": 2
}
