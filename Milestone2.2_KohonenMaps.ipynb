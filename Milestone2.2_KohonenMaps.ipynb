{
 "cells": [
  {
   "cell_type": "code",
   "execution_count": 1,
   "metadata": {},
   "outputs": [],
   "source": [
    "import matplotlib.pyplot as plt\n",
    "import numpy as np\n",
    "import pandas as pd\n",
    "import seaborn as sns\n",
    "\n",
    "from sklearn.base import BaseEstimator, TransformerMixin\n",
    "from sklearn.cluster import DBSCAN, KMeans\n",
    "from sklearn.compose import make_column_transformer\n",
    "from sklearn.datasets import load_sample_image, make_blobs\n",
    "from sklearn.decomposition import PCA\n",
    "from sklearn.ensemble import BaggingClassifier, BaggingRegressor, GradientBoostingClassifier, GradientBoostingRegressor, RandomForestClassifier, RandomForestRegressor, StackingClassifier, StackingRegressor\n",
    "from sklearn.impute import KNNImputer, SimpleImputer\n",
    "from sklearn.inspection import permutation_importance\n",
    "from sklearn.linear_model import Lasso, LinearRegression, LogisticRegression, Ridge\n",
    "from sklearn.manifold import Isomap, LocallyLinearEmbedding, MDS\n",
    "from sklearn.metrics import auc, confusion_matrix, ConfusionMatrixDisplay, davies_bouldin_score, rand_score, roc_auc_score, roc_curve, silhouette_samples, silhouette_score \n",
    "from sklearn.model_selection import train_test_split, cross_validate, GridSearchCV\n",
    "from sklearn.naive_bayes import GaussianNB\n",
    "from sklearn.neighbors import KNeighborsClassifier, KNeighborsRegressor\n",
    "from sklearn.pipeline import make_pipeline\n",
    "from sklearn.preprocessing import OneHotEncoder, OrdinalEncoder, PolynomialFeatures, StandardScaler\n",
    "from sklearn.svm import SVC\n",
    "from sklearn.tree import DecisionTreeClassifier, DecisionTreeRegressor, plot_tree\n",
    "import statsmodels.api as sm\n",
    "from sklearn.metrics import accuracy_score\n",
    "from sklearn import metrics"
   ]
  },
  {
   "cell_type": "code",
   "execution_count": 2,
   "metadata": {},
   "outputs": [
    {
     "ename": "SyntaxError",
     "evalue": "invalid syntax (3754290720.py, line 1)",
     "output_type": "error",
     "traceback": [
      "\u001b[0;36m  Cell \u001b[0;32mIn [2], line 1\u001b[0;36m\u001b[0m\n\u001b[0;31m    curl -X 'POST'\u001b[0m\n\u001b[0m            ^\u001b[0m\n\u001b[0;31mSyntaxError\u001b[0m\u001b[0;31m:\u001b[0m invalid syntax\n"
     ]
    }
   ],
   "source": [
    "curl -X : \n",
    "  'https://jazz-yt67mbf5eq-ey.a.run.app/implement_som' \n",
    "  -H 'accept: application/json' \n",
    "  -H 'Content-Type: multipart/form-data' \n",
    "  -F 'jazz_file=@bond_movies_domain_file.jazz' \n",
    "  -F 'csv_file=@data_dog_prepared.csv;type=text/csv'"
   ]
  },
  {
   "cell_type": "code",
   "execution_count": 32,
   "metadata": {},
   "outputs": [],
   "source": [
    "\n",
    "import requests\n",
    "headers = {\n",
    "    'Accept': 'application/json',\n",
    "    'Content-Type': 'multipart/form-data'\n",
    "    'jazz_file=@bond_movies_domain_file.jazz' \n",
    "    'csv_file=@data_dog_prepared.csv;type=text/csv'\n",
    "}\n",
    "data = open('/Users/christian/Desktop/Bräuniger/bond_movies_domain_file.jazz','rb').read()\n",
    "\n",
    "response = requests.post('https://jazz-yt67mbf5eq-ey.a.run.app/implement_som' , headers=headers, data=data)\n",
    "\n"
   ]
  },
  {
   "cell_type": "code",
   "execution_count": null,
   "metadata": {},
   "outputs": [],
   "source": []
  },
  {
   "cell_type": "code",
   "execution_count": 37,
   "metadata": {},
   "outputs": [],
   "source": [
    "import requests\n",
    "headers = {\n",
    "    'Accept': 'application/json',\n",
    "    'Content-Type': 'multipart/form-data'\n",
    "    'jazz_file=@bond_movies_domain_file.jazz' \n",
    "    'csv_file=@data_dog_prepared.csv;type=text/csv'\n",
    "}\n",
    "data = open(file='/Users/christian/Desktop/Bräuniger/bond_movies_domain_file.jazz').read()\n",
    "data= open(file='/Users/christian/Desktop/Bräuniger/data_dog_prepared.csv').read()\n",
    "response = requests.post('https://jazz-yt67mbf5eq-ey.a.run.app/implement_som' , headers=headers, data=data)\n",
    "\n"
   ]
  },
  {
   "cell_type": "code",
   "execution_count": null,
   "metadata": {},
   "outputs": [],
   "source": [
    "response = requests.get('https://jazz-yt67mbf5eq-ey.a.run.app/implement_som',headers=headers, data=data)"
   ]
  }
 ],
 "metadata": {
  "kernelspec": {
   "display_name": "Python 3.10.7 64-bit",
   "language": "python",
   "name": "python3"
  },
  "language_info": {
   "codemirror_mode": {
    "name": "ipython",
    "version": 3
   },
   "file_extension": ".py",
   "mimetype": "text/x-python",
   "name": "python",
   "nbconvert_exporter": "python",
   "pygments_lexer": "ipython3",
   "version": "3.10.7"
  },
  "orig_nbformat": 4,
  "vscode": {
   "interpreter": {
    "hash": "aee8b7b246df8f9039afb4144a1f6fd8d2ca17a180786b69acc140d282b71a49"
   }
  }
 },
 "nbformat": 4,
 "nbformat_minor": 2
}
