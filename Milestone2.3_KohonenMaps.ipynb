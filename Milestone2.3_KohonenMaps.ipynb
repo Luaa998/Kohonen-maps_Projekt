{
 "cells": [
  {
   "cell_type": "code",
   "execution_count": 22,
   "metadata": {},
   "outputs": [],
   "source": [
    "import pandas as pd\n",
    "import time\n",
    "import requests\n",
    "import os\n",
    "import zipfile\n",
    "from os import listdir\n",
    "from os.path import isfile, join\n",
    "from sklearn.ensemble import RandomForestClassifier\n",
    "from sklearn.model_selection import train_test_split\n",
    "from sklearn.neighbors import KNeighborsClassifier\n",
    "from sklearn.metrics import accuracy_score\n",
    "from sklearn import metrics"
   ]
  },
  {
   "cell_type": "code",
   "execution_count": 2,
   "metadata": {},
   "outputs": [
    {
     "data": {
      "text/plain": [
       "200"
      ]
     },
     "execution_count": 2,
     "metadata": {},
     "output_type": "execute_result"
    }
   ],
   "source": [
    "response = requests.get('https://jazz-yt67mbf5eq-ey.a.run.app')\n",
    "response.status_code"
   ]
  },
  {
   "cell_type": "code",
   "execution_count": 34,
   "metadata": {},
   "outputs": [],
   "source": [
    "url = 'https://jazz-yt67mbf5eq-ey.a.run.app/implement_som'\n",
    "\n",
    "counter = 1\n",
    "\n",
    "while counter <= 5:\n",
    "\n",
    "    files = {\n",
    "    \"jazz_file\": open('Kohonen-Maps/Jazz_Files/data_dog_domain_file_'+str(counter)+'.jazz', 'rb'), \n",
    "    \"csv_file\": open('Kohonen-Maps/data_dog_prepared.csv','rb')\n",
    "    }\n",
    "\n",
    "    response = requests.post(url, files=files)\n",
    "\n",
    "    filename = url.split('/')[-1] + '_result.zip'\n",
    "    with open(os.path.join('Kohonen-Maps', filename), \"wb\") as output_file:\n",
    "        output_file.write(response.content)\n",
    "\n",
    "    with zipfile.ZipFile('Kohonen-Maps/implement_som_result.zip', 'r') as zip_ref:\n",
    "        name = zip_ref.namelist()\n",
    "        # extract the \"dimension reduced\" csv file\n",
    "        zip_ref.extract(name[2])\n",
    "\n",
    "    onlyfiles = [f for f in listdir('data/processed') if isfile(join('data/processed', f))]\n",
    "    old_file = os.path.join('data//processed', onlyfiles[counter-1])\n",
    "    new_file = os.path.join('data//processed', 'dimension_reduced_0'+str(counter)+'.csv')\n",
    "    os.rename(old_file, new_file)\n",
    "\n",
    "    counter += 1"
   ]
  },
  {
   "cell_type": "markdown",
   "metadata": {},
   "source": [
    "<h1>Test-Training-Split for V6</h1>"
   ]
  },
  {
   "cell_type": "code",
   "execution_count": 35,
   "metadata": {},
   "outputs": [
    {
     "data": {
      "text/html": [
       "<div>\n",
       "<style scoped>\n",
       "    .dataframe tbody tr th:only-of-type {\n",
       "        vertical-align: middle;\n",
       "    }\n",
       "\n",
       "    .dataframe tbody tr th {\n",
       "        vertical-align: top;\n",
       "    }\n",
       "\n",
       "    .dataframe thead th {\n",
       "        text-align: right;\n",
       "    }\n",
       "</style>\n",
       "<table border=\"1\" class=\"dataframe\">\n",
       "  <thead>\n",
       "    <tr style=\"text-align: right;\">\n",
       "      <th></th>\n",
       "      <th>size_dog</th>\n",
       "      <th>eye_circularity</th>\n",
       "      <th>skull_circularity</th>\n",
       "      <th>ear_size</th>\n",
       "      <th>eyes_distance</th>\n",
       "      <th>ear_form</th>\n",
       "      <th>hair_tone</th>\n",
       "      <th>nose_elongatedness</th>\n",
       "      <th>weight_dog</th>\n",
       "      <th>muzzle_form</th>\n",
       "      <th>skin_tone_main</th>\n",
       "      <th>skin_pattern_complexity</th>\n",
       "      <th>body_length</th>\n",
       "      <th>tail_length</th>\n",
       "      <th>hair_curlness</th>\n",
       "      <th>hair_length</th>\n",
       "      <th>leg_front_number</th>\n",
       "      <th>leg_back_number</th>\n",
       "      <th>breuni_class</th>\n",
       "    </tr>\n",
       "  </thead>\n",
       "  <tbody>\n",
       "    <tr>\n",
       "      <th>0</th>\n",
       "      <td>-0.213402</td>\n",
       "      <td>0.125494</td>\n",
       "      <td>0.168467</td>\n",
       "      <td>1.995971</td>\n",
       "      <td>4.155209</td>\n",
       "      <td>4.604628</td>\n",
       "      <td>0.112969</td>\n",
       "      <td>0.394827</td>\n",
       "      <td>-0.069599</td>\n",
       "      <td>0.106257</td>\n",
       "      <td>1.358165</td>\n",
       "      <td>-0.338491</td>\n",
       "      <td>0.281004</td>\n",
       "      <td>3.150630</td>\n",
       "      <td>-0.861860</td>\n",
       "      <td>0.454387</td>\n",
       "      <td>-0.392876</td>\n",
       "      <td>-0.101937</td>\n",
       "      <td>fashion_lifestyle_elite</td>\n",
       "    </tr>\n",
       "    <tr>\n",
       "      <th>1</th>\n",
       "      <td>-0.074873</td>\n",
       "      <td>-0.109234</td>\n",
       "      <td>0.111949</td>\n",
       "      <td>0.602378</td>\n",
       "      <td>1.455808</td>\n",
       "      <td>1.755093</td>\n",
       "      <td>0.454189</td>\n",
       "      <td>0.383406</td>\n",
       "      <td>0.266451</td>\n",
       "      <td>-0.168195</td>\n",
       "      <td>0.483018</td>\n",
       "      <td>-0.193844</td>\n",
       "      <td>-0.036693</td>\n",
       "      <td>1.157513</td>\n",
       "      <td>-0.522307</td>\n",
       "      <td>0.502820</td>\n",
       "      <td>-0.210901</td>\n",
       "      <td>-0.024823</td>\n",
       "      <td>['main_stream' 'trendy']</td>\n",
       "    </tr>\n",
       "    <tr>\n",
       "      <th>2</th>\n",
       "      <td>-0.021847</td>\n",
       "      <td>-0.160417</td>\n",
       "      <td>0.091410</td>\n",
       "      <td>0.262266</td>\n",
       "      <td>0.808839</td>\n",
       "      <td>1.071884</td>\n",
       "      <td>0.514274</td>\n",
       "      <td>0.346454</td>\n",
       "      <td>0.320689</td>\n",
       "      <td>-0.220955</td>\n",
       "      <td>0.271665</td>\n",
       "      <td>-0.159504</td>\n",
       "      <td>-0.104362</td>\n",
       "      <td>0.681765</td>\n",
       "      <td>-0.445645</td>\n",
       "      <td>0.527719</td>\n",
       "      <td>-0.170320</td>\n",
       "      <td>-0.006165</td>\n",
       "      <td>main_stream</td>\n",
       "    </tr>\n",
       "    <tr>\n",
       "      <th>3</th>\n",
       "      <td>-0.042043</td>\n",
       "      <td>-0.109373</td>\n",
       "      <td>0.103349</td>\n",
       "      <td>0.587222</td>\n",
       "      <td>1.456644</td>\n",
       "      <td>1.763536</td>\n",
       "      <td>0.441451</td>\n",
       "      <td>0.340466</td>\n",
       "      <td>0.239100</td>\n",
       "      <td>-0.158088</td>\n",
       "      <td>0.481030</td>\n",
       "      <td>-0.198670</td>\n",
       "      <td>-0.030152</td>\n",
       "      <td>1.164377</td>\n",
       "      <td>-0.542648</td>\n",
       "      <td>0.544200</td>\n",
       "      <td>-0.220114</td>\n",
       "      <td>-0.023942</td>\n",
       "      <td>trendy</td>\n",
       "    </tr>\n",
       "    <tr>\n",
       "      <th>4</th>\n",
       "      <td>-0.045733</td>\n",
       "      <td>-0.086194</td>\n",
       "      <td>0.108780</td>\n",
       "      <td>0.749253</td>\n",
       "      <td>1.789809</td>\n",
       "      <td>2.123597</td>\n",
       "      <td>0.409625</td>\n",
       "      <td>0.333485</td>\n",
       "      <td>0.197341</td>\n",
       "      <td>-0.127777</td>\n",
       "      <td>0.588389</td>\n",
       "      <td>-0.221276</td>\n",
       "      <td>0.006654</td>\n",
       "      <td>1.414919</td>\n",
       "      <td>-0.601018</td>\n",
       "      <td>0.567907</td>\n",
       "      <td>-0.249038</td>\n",
       "      <td>-0.032685</td>\n",
       "      <td>trendy</td>\n",
       "    </tr>\n",
       "  </tbody>\n",
       "</table>\n",
       "</div>"
      ],
      "text/plain": [
       "   size_dog  eye_circularity  skull_circularity  ear_size  eyes_distance  \\\n",
       "0 -0.213402         0.125494           0.168467  1.995971       4.155209   \n",
       "1 -0.074873        -0.109234           0.111949  0.602378       1.455808   \n",
       "2 -0.021847        -0.160417           0.091410  0.262266       0.808839   \n",
       "3 -0.042043        -0.109373           0.103349  0.587222       1.456644   \n",
       "4 -0.045733        -0.086194           0.108780  0.749253       1.789809   \n",
       "\n",
       "   ear_form  hair_tone  nose_elongatedness  weight_dog  muzzle_form  \\\n",
       "0  4.604628   0.112969            0.394827   -0.069599     0.106257   \n",
       "1  1.755093   0.454189            0.383406    0.266451    -0.168195   \n",
       "2  1.071884   0.514274            0.346454    0.320689    -0.220955   \n",
       "3  1.763536   0.441451            0.340466    0.239100    -0.158088   \n",
       "4  2.123597   0.409625            0.333485    0.197341    -0.127777   \n",
       "\n",
       "   skin_tone_main  skin_pattern_complexity  body_length  tail_length  \\\n",
       "0        1.358165                -0.338491     0.281004     3.150630   \n",
       "1        0.483018                -0.193844    -0.036693     1.157513   \n",
       "2        0.271665                -0.159504    -0.104362     0.681765   \n",
       "3        0.481030                -0.198670    -0.030152     1.164377   \n",
       "4        0.588389                -0.221276     0.006654     1.414919   \n",
       "\n",
       "   hair_curlness  hair_length  leg_front_number  leg_back_number  \\\n",
       "0      -0.861860     0.454387         -0.392876        -0.101937   \n",
       "1      -0.522307     0.502820         -0.210901        -0.024823   \n",
       "2      -0.445645     0.527719         -0.170320        -0.006165   \n",
       "3      -0.542648     0.544200         -0.220114        -0.023942   \n",
       "4      -0.601018     0.567907         -0.249038        -0.032685   \n",
       "\n",
       "               breuni_class  \n",
       "0   fashion_lifestyle_elite  \n",
       "1  ['main_stream' 'trendy']  \n",
       "2               main_stream  \n",
       "3                    trendy  \n",
       "4                    trendy  "
      ]
     },
     "execution_count": 35,
     "metadata": {},
     "output_type": "execute_result"
    }
   ],
   "source": [
    "df6 = pd.read_csv('data\\processed\\dimension_reduced_01.csv')\n",
    "df6 = df6.drop('Unnamed: 0', axis=1)\n",
    "df6.head()"
   ]
  },
  {
   "cell_type": "code",
   "execution_count": 36,
   "metadata": {},
   "outputs": [
    {
     "name": "stdout",
     "output_type": "stream",
     "text": [
      "(299, 18) (299,)\n",
      "(209, 18) (90, 18) (209,) (90,)\n"
     ]
    }
   ],
   "source": [
    "data = df6.values\n",
    "X, y = data[:, :-1], data[:, -1]\n",
    "print(X.shape, y.shape)\n",
    "# using the train test split function\n",
    "X_train, X_test, y_train, y_test = train_test_split(X, y, test_size=0.30, random_state=1)\n",
    "print(X_train.shape, X_test.shape, y_train.shape, y_test.shape)"
   ]
  },
  {
   "cell_type": "code",
   "execution_count": 37,
   "metadata": {},
   "outputs": [
    {
     "name": "stdout",
     "output_type": "stream",
     "text": [
      "Accuracy: 0.567\n"
     ]
    }
   ],
   "source": [
    "# Random Forest Classifier:\n",
    "model = RandomForestClassifier(random_state=1)\n",
    "model.fit(X_train, y_train)\n",
    "# make predictions\n",
    "yhat = model.predict(X_test)\n",
    "# evaluate predictions\n",
    "acc = accuracy_score(y_test, yhat)\n",
    "print('Accuracy: %.3f' % acc)"
   ]
  },
  {
   "cell_type": "code",
   "execution_count": 38,
   "metadata": {},
   "outputs": [
    {
     "name": "stdout",
     "output_type": "stream",
     "text": [
      "Accuracy: 0.4444444444444444\n"
     ]
    }
   ],
   "source": [
    "# K Nearest Neighbor Classification:\n",
    "knn = KNeighborsClassifier(n_neighbors=5)\n",
    "knn.fit(X_train, y_train)\n",
    "# make predictions\n",
    "y_pred = knn.predict(X_test)\n",
    "# evaluate predictions\n",
    "print('Accuracy:', metrics.accuracy_score(y_test, y_pred))"
   ]
  },
  {
   "cell_type": "code",
   "execution_count": null,
   "metadata": {},
   "outputs": [],
   "source": []
  }
 ],
 "metadata": {
  "kernelspec": {
   "display_name": "Python 3.9.7 ('base')",
   "language": "python",
   "name": "python3"
  },
  "language_info": {
   "codemirror_mode": {
    "name": "ipython",
    "version": 3
   },
   "file_extension": ".py",
   "mimetype": "text/x-python",
   "name": "python",
   "nbconvert_exporter": "python",
   "pygments_lexer": "ipython3",
   "version": "3.9.7"
  },
  "orig_nbformat": 4,
  "vscode": {
   "interpreter": {
    "hash": "53ba14780de18afc6d3ba1d1c833f3946c675e288ab3ee7b657b4ff2d7f38778"
   }
  }
 },
 "nbformat": 4,
 "nbformat_minor": 2
}
