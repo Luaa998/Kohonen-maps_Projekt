{
 "cells": [
  {
   "cell_type": "code",
   "execution_count": null,
   "metadata": {},
   "outputs": [
    {
     "ename": "",
     "evalue": "",
     "output_type": "error",
     "traceback": [
      "\u001b[1;31mDer Kernel konnte nicht gestartet werden. \n",
      "\u001b[1;31mDer Kernel „base (Python 3.9.7)“ kann aufgrund eines Verbindungstimeouts nicht gestartet werden. \n",
      "\u001b[1;31mWeitere Details finden Sie im Jupyter-<a href='command:jupyter.viewOutput'>Protokoll</a>."
     ]
    }
   ],
   "source": [
    "import matplotlib.pyplot as plt\n",
    "import numpy as np\n",
    "import pandas as pd\n",
    "import seaborn as sns\n",
    "from sklearn.base import BaseEstimator, TransformerMixin\n",
    "from sklearn.cluster import DBSCAN, KMeans\n",
    "from sklearn.compose import make_column_transformer\n",
    "from sklearn.datasets import load_sample_image, make_blobs\n",
    "from sklearn.decomposition import PCA\n",
    "from sklearn.ensemble import BaggingClassifier, BaggingRegressor, GradientBoostingClassifier, GradientBoostingRegressor, RandomForestClassifier, RandomForestRegressor, StackingClassifier, StackingRegressor\n",
    "from sklearn.impute import KNNImputer, SimpleImputer\n",
    "from sklearn.inspection import permutation_importance\n",
    "from sklearn.linear_model import Lasso, LinearRegression, LogisticRegression, Ridge\n",
    "from sklearn.manifold import Isomap, LocallyLinearEmbedding, MDS\n",
    "from sklearn.metrics import auc, confusion_matrix, ConfusionMatrixDisplay, davies_bouldin_score, rand_score, roc_auc_score, roc_curve, silhouette_samples, silhouette_score \n",
    "from sklearn.model_selection import train_test_split, cross_validate, GridSearchCV\n",
    "from sklearn.naive_bayes import GaussianNB\n",
    "from sklearn.neighbors import KNeighborsClassifier, KNeighborsRegressor\n",
    "from sklearn.pipeline import make_pipeline\n",
    "from sklearn.preprocessing import OneHotEncoder, OrdinalEncoder, PolynomialFeatures, StandardScaler\n",
    "from sklearn.svm import SVC\n",
    "from sklearn.tree import DecisionTreeClassifier, DecisionTreeRegressor, plot_tree\n",
    "import statsmodels.api as sm"
   ]
  },
  {
   "cell_type": "markdown",
   "metadata": {},
   "source": [
    "<h1>Variante 1 \"Garnichts machen\" </h1>"
   ]
  },
  {
   "cell_type": "code",
   "execution_count": null,
   "metadata": {},
   "outputs": [
    {
     "ename": "",
     "evalue": "",
     "output_type": "error",
     "traceback": [
      "\u001b[1;31mDer Kernel konnte nicht gestartet werden. \n",
      "\u001b[1;31mDer Kernel „base (Python 3.9.7)“ kann aufgrund eines Verbindungstimeouts nicht gestartet werden. \n",
      "\u001b[1;31mWeitere Details finden Sie im Jupyter-<a href='command:jupyter.viewOutput'>Protokoll</a>."
     ]
    }
   ],
   "source": [
    "df1 = pd.read_csv('v1_data_dog_prepared.csv')\n",
    "df1.head()"
   ]
  },
  {
   "cell_type": "code",
   "execution_count": null,
   "metadata": {},
   "outputs": [
    {
     "ename": "",
     "evalue": "",
     "output_type": "error",
     "traceback": [
      "\u001b[1;31mDer Kernel konnte nicht gestartet werden. \n",
      "\u001b[1;31mDer Kernel „base (Python 3.9.7)“ kann aufgrund eines Verbindungstimeouts nicht gestartet werden. \n",
      "\u001b[1;31mWeitere Details finden Sie im Jupyter-<a href='command:jupyter.viewOutput'>Protokoll</a>."
     ]
    }
   ],
   "source": [
    "dogStr_df = df1[['breuni_class']]\n",
    "dogStr_df.head()"
   ]
  },
  {
   "cell_type": "code",
   "execution_count": null,
   "metadata": {},
   "outputs": [
    {
     "ename": "",
     "evalue": "",
     "output_type": "error",
     "traceback": [
      "\u001b[1;31mDer Kernel konnte nicht gestartet werden. \n",
      "\u001b[1;31mDer Kernel „base (Python 3.9.7)“ kann aufgrund eines Verbindungstimeouts nicht gestartet werden. \n",
      "\u001b[1;31mWeitere Details finden Sie im Jupyter-<a href='command:jupyter.viewOutput'>Protokoll</a>."
     ]
    }
   ],
   "source": [
    "dogNoStr_df = df1.drop(columns='breuni_class')\n",
    "dogNoStr_df.head()"
   ]
  },
  {
   "cell_type": "markdown",
   "metadata": {},
   "source": [
    "<h1>Variante 2 \"PCA mit Standardisierung\" </h1>"
   ]
  },
  {
   "cell_type": "code",
   "execution_count": null,
   "metadata": {},
   "outputs": [
    {
     "ename": "",
     "evalue": "",
     "output_type": "error",
     "traceback": [
      "\u001b[1;31mDer Kernel konnte nicht gestartet werden. \n",
      "\u001b[1;31mDer Kernel „base (Python 3.9.7)“ kann aufgrund eines Verbindungstimeouts nicht gestartet werden. \n",
      "\u001b[1;31mWeitere Details finden Sie im Jupyter-<a href='command:jupyter.viewOutput'>Protokoll</a>."
     ]
    }
   ],
   "source": [
    "pca2= make_pipeline(\n",
    "    StandardScaler(),PCA(n_components=18)\n",
    "    \n",
    ")\n",
    "pca2.fit_transform(dogNoStr_df)\n",
    "pca2['pca'].explained_variance_ratio_"
   ]
  },
  {
   "cell_type": "code",
   "execution_count": null,
   "metadata": {},
   "outputs": [
    {
     "ename": "",
     "evalue": "",
     "output_type": "error",
     "traceback": [
      "\u001b[1;31mDer Kernel konnte nicht gestartet werden. \n",
      "\u001b[1;31mDer Kernel „base (Python 3.9.7)“ kann aufgrund eines Verbindungstimeouts nicht gestartet werden. \n",
      "\u001b[1;31mWeitere Details finden Sie im Jupyter-<a href='command:jupyter.viewOutput'>Protokoll</a>."
     ]
    }
   ],
   "source": [
    "pca2['pca'].components_"
   ]
  },
  {
   "cell_type": "code",
   "execution_count": null,
   "metadata": {},
   "outputs": [
    {
     "ename": "",
     "evalue": "",
     "output_type": "error",
     "traceback": [
      "\u001b[1;31mDer Kernel konnte nicht gestartet werden. \n",
      "\u001b[1;31mDer Kernel „base (Python 3.9.7)“ kann aufgrund eines Verbindungstimeouts nicht gestartet werden. \n",
      "\u001b[1;31mWeitere Details finden Sie im Jupyter-<a href='command:jupyter.viewOutput'>Protokoll</a>."
     ]
    }
   ],
   "source": [
    "pca2= make_pipeline(\n",
    "    StandardScaler(),PCA(n_components=5)\n",
    "    \n",
    ")\n",
    "pca2.fit_transform(dogNoStr_df)\n",
    "pca2['pca'].explained_variance_ratio_"
   ]
  },
  {
   "cell_type": "code",
   "execution_count": null,
   "metadata": {},
   "outputs": [
    {
     "ename": "",
     "evalue": "",
     "output_type": "error",
     "traceback": [
      "\u001b[1;31mDer Kernel konnte nicht gestartet werden. \n",
      "\u001b[1;31mDer Kernel „base (Python 3.9.7)“ kann aufgrund eines Verbindungstimeouts nicht gestartet werden. \n",
      "\u001b[1;31mWeitere Details finden Sie im Jupyter-<a href='command:jupyter.viewOutput'>Protokoll</a>."
     ]
    }
   ],
   "source": [
    "df2 = pd.DataFrame(pca2.fit_transform(dogNoStr_df))\n",
    "df2['breuni_class'] = dogStr_df\n",
    "df2.head()"
   ]
  },
  {
   "cell_type": "code",
   "execution_count": null,
   "metadata": {},
   "outputs": [
    {
     "ename": "",
     "evalue": "",
     "output_type": "error",
     "traceback": [
      "\u001b[1;31mDer Kernel konnte nicht gestartet werden. \n",
      "\u001b[1;31mDer Kernel „base (Python 3.9.7)“ kann aufgrund eines Verbindungstimeouts nicht gestartet werden. \n",
      "\u001b[1;31mWeitere Details finden Sie im Jupyter-<a href='command:jupyter.viewOutput'>Protokoll</a>."
     ]
    }
   ],
   "source": [
    "df2.to_csv(r'C:\\Users\\nwbab\\OneDrive\\Dokumente\\GitHub\\Kohonen-maps_Projekt\\v2_data_dog_PCA+standardized.csv', index=False)"
   ]
  },
  {
   "cell_type": "markdown",
   "metadata": {},
   "source": [
    "<h1>Variante 3 \"PCA ohne Standardisierung\" </h1>"
   ]
  },
  {
   "cell_type": "code",
   "execution_count": null,
   "metadata": {},
   "outputs": [
    {
     "ename": "",
     "evalue": "",
     "output_type": "error",
     "traceback": [
      "\u001b[1;31mDer Kernel konnte nicht gestartet werden. \n",
      "\u001b[1;31mDer Kernel „base (Python 3.9.7)“ kann aufgrund eines Verbindungstimeouts nicht gestartet werden. \n",
      "\u001b[1;31mWeitere Details finden Sie im Jupyter-<a href='command:jupyter.viewOutput'>Protokoll</a>."
     ]
    }
   ],
   "source": [
    "pca3 = PCA(n_components=18)"
   ]
  },
  {
   "cell_type": "code",
   "execution_count": null,
   "metadata": {},
   "outputs": [
    {
     "ename": "",
     "evalue": "",
     "output_type": "error",
     "traceback": [
      "\u001b[1;31mDer Kernel konnte nicht gestartet werden. \n",
      "\u001b[1;31mDer Kernel „base (Python 3.9.7)“ kann aufgrund eines Verbindungstimeouts nicht gestartet werden. \n",
      "\u001b[1;31mWeitere Details finden Sie im Jupyter-<a href='command:jupyter.viewOutput'>Protokoll</a>."
     ]
    }
   ],
   "source": [
    "pca3.fit_transform(dogNoStr_df)\n",
    "pca3.explained_variance_ratio_"
   ]
  },
  {
   "cell_type": "markdown",
   "metadata": {},
   "source": [
    "1. 95,92%\n",
    "2. 1,79%\n",
    "3. 1,19%\n",
    "4. 0,39%"
   ]
  },
  {
   "cell_type": "code",
   "execution_count": null,
   "metadata": {},
   "outputs": [
    {
     "ename": "",
     "evalue": "",
     "output_type": "error",
     "traceback": [
      "\u001b[1;31mDer Kernel konnte nicht gestartet werden. \n",
      "\u001b[1;31mDer Kernel „base (Python 3.9.7)“ kann aufgrund eines Verbindungstimeouts nicht gestartet werden. \n",
      "\u001b[1;31mWeitere Details finden Sie im Jupyter-<a href='command:jupyter.viewOutput'>Protokoll</a>."
     ]
    }
   ],
   "source": [
    "pca3 = PCA(n_components=2)"
   ]
  },
  {
   "cell_type": "code",
   "execution_count": null,
   "metadata": {},
   "outputs": [
    {
     "ename": "",
     "evalue": "",
     "output_type": "error",
     "traceback": [
      "\u001b[1;31mDer Kernel konnte nicht gestartet werden. \n",
      "\u001b[1;31mDer Kernel „base (Python 3.9.7)“ kann aufgrund eines Verbindungstimeouts nicht gestartet werden. \n",
      "\u001b[1;31mWeitere Details finden Sie im Jupyter-<a href='command:jupyter.viewOutput'>Protokoll</a>."
     ]
    }
   ],
   "source": [
    "df3 = pd.DataFrame(pca3.fit_transform(dogNoStr_df))\n",
    "df3['breuni_class'] = dogStr_df\n",
    "df3.head()"
   ]
  },
  {
   "cell_type": "code",
   "execution_count": null,
   "metadata": {},
   "outputs": [
    {
     "ename": "",
     "evalue": "",
     "output_type": "error",
     "traceback": [
      "\u001b[1;31mDer Kernel konnte nicht gestartet werden. \n",
      "\u001b[1;31mDer Kernel „base (Python 3.9.7)“ kann aufgrund eines Verbindungstimeouts nicht gestartet werden. \n",
      "\u001b[1;31mWeitere Details finden Sie im Jupyter-<a href='command:jupyter.viewOutput'>Protokoll</a>."
     ]
    }
   ],
   "source": [
    "df3.to_csv(r'C:\\Users\\nwbab\\OneDrive\\Dokumente\\GitHub\\Kohonen-maps_Projekt\\v3_data_dog_PCA-standardized.csv', index=False)"
   ]
  },
  {
   "cell_type": "markdown",
   "metadata": {},
   "source": [
    "<h1>Variante 4 \"Kohonan-Maps\" </h1>"
   ]
  },
  {
   "cell_type": "code",
   "execution_count": null,
   "metadata": {},
   "outputs": [
    {
     "ename": "",
     "evalue": "",
     "output_type": "error",
     "traceback": [
      "\u001b[1;31mDer Kernel konnte nicht gestartet werden. \n",
      "\u001b[1;31mDer Kernel „base (Python 3.9.7)“ kann aufgrund eines Verbindungstimeouts nicht gestartet werden. \n",
      "\u001b[1;31mWeitere Details finden Sie im Jupyter-<a href='command:jupyter.viewOutput'>Protokoll</a>."
     ]
    }
   ],
   "source": [
    "df4 = pd.read_csv('v4_data_dog_prepared.csv')\n",
    "df4 = df4.drop(columns=\"Unnamed: 0\")\n",
    "df4['breuni_class'] = dogStr_df\n",
    "df4.head()"
   ]
  },
  {
   "cell_type": "code",
   "execution_count": null,
   "metadata": {},
   "outputs": [
    {
     "ename": "",
     "evalue": "",
     "output_type": "error",
     "traceback": [
      "\u001b[1;31mDer Kernel konnte nicht gestartet werden. \n",
      "\u001b[1;31mDer Kernel „base (Python 3.9.7)“ kann aufgrund eines Verbindungstimeouts nicht gestartet werden. \n",
      "\u001b[1;31mWeitere Details finden Sie im Jupyter-<a href='command:jupyter.viewOutput'>Protokoll</a>."
     ]
    }
   ],
   "source": [
    "df4.to_csv(r'C:\\Users\\nwbab\\OneDrive\\Dokumente\\GitHub\\Kohonen-maps_Projekt\\v4_data_dog_KM.csv', index=False)"
   ]
  },
  {
   "cell_type": "code",
   "execution_count": null,
   "metadata": {},
   "outputs": [
    {
     "ename": "",
     "evalue": "",
     "output_type": "error",
     "traceback": [
      "\u001b[1;31mDer Kernel konnte nicht gestartet werden. \n",
      "\u001b[1;31mDer Kernel „base (Python 3.9.7)“ kann aufgrund eines Verbindungstimeouts nicht gestartet werden. \n",
      "\u001b[1;31mWeitere Details finden Sie im Jupyter-<a href='command:jupyter.viewOutput'>Protokoll</a>."
     ]
    }
   ],
   "source": [
    "df4 = pd.read_csv('v4_data_dog_prepared.csv')\n",
    "df4.head()"
   ]
  },
  {
   "cell_type": "markdown",
   "metadata": {},
   "source": [
    "<h1>Variante 5 \"Iso-Maps\" </h1>"
   ]
  },
  {
   "cell_type": "code",
   "execution_count": null,
   "metadata": {},
   "outputs": [
    {
     "ename": "",
     "evalue": "",
     "output_type": "error",
     "traceback": [
      "\u001b[1;31mDer Kernel konnte nicht gestartet werden. \n",
      "\u001b[1;31mDer Kernel „base (Python 3.9.7)“ kann aufgrund eines Verbindungstimeouts nicht gestartet werden. \n",
      "\u001b[1;31mWeitere Details finden Sie im Jupyter-<a href='command:jupyter.viewOutput'>Protokoll</a>."
     ]
    }
   ],
   "source": [
    "iso = Isomap(n_components=2)\n",
    "df5 = pd.DataFrame(iso.fit_transform(dogNoStr_df))\n",
    "df5['breuni_class'] = dogStr_df\n",
    "df5.head()"
   ]
  },
  {
   "cell_type": "code",
   "execution_count": null,
   "metadata": {},
   "outputs": [
    {
     "ename": "",
     "evalue": "",
     "output_type": "error",
     "traceback": [
      "\u001b[1;31mDer Kernel konnte nicht gestartet werden. \n",
      "\u001b[1;31mDer Kernel „base (Python 3.9.7)“ kann aufgrund eines Verbindungstimeouts nicht gestartet werden. \n",
      "\u001b[1;31mWeitere Details finden Sie im Jupyter-<a href='command:jupyter.viewOutput'>Protokoll</a>."
     ]
    }
   ],
   "source": [
    "df5.to_csv(r'C:\\Users\\nwbab\\OneDrive\\Dokumente\\GitHub\\Kohonen-maps_Projekt\\v5_data_dog_IsoMaps.csv', index=False)"
   ]
  },
  {
   "cell_type": "markdown",
   "metadata": {},
   "source": [
    "<h1>Variante 6 \"Locally Linear Embedding\" </h1>"
   ]
  },
  {
   "cell_type": "code",
   "execution_count": null,
   "metadata": {},
   "outputs": [
    {
     "ename": "",
     "evalue": "",
     "output_type": "error",
     "traceback": [
      "\u001b[1;31mDer Kernel konnte nicht gestartet werden. \n",
      "\u001b[1;31mDer Kernel „base (Python 3.9.7)“ kann aufgrund eines Verbindungstimeouts nicht gestartet werden. \n",
      "\u001b[1;31mWeitere Details finden Sie im Jupyter-<a href='command:jupyter.viewOutput'>Protokoll</a>."
     ]
    }
   ],
   "source": [
    "lle = LocallyLinearEmbedding(n_components=2)\n",
    "df6 = pd.DataFrame(lle.fit_transform(dogNoStr_df))\n",
    "df6['breuni_class'] = dogStr_df\n",
    "df6.head()"
   ]
  },
  {
   "cell_type": "code",
   "execution_count": null,
   "metadata": {},
   "outputs": [
    {
     "ename": "",
     "evalue": "",
     "output_type": "error",
     "traceback": [
      "\u001b[1;31mDer Kernel konnte nicht gestartet werden. \n",
      "\u001b[1;31mDer Kernel „base (Python 3.9.7)“ kann aufgrund eines Verbindungstimeouts nicht gestartet werden. \n",
      "\u001b[1;31mWeitere Details finden Sie im Jupyter-<a href='command:jupyter.viewOutput'>Protokoll</a>."
     ]
    }
   ],
   "source": [
    "df6.to_csv(r'C:\\Users\\nwbab\\OneDrive\\Dokumente\\GitHub\\Kohonen-maps_Projekt\\v6_data_dog_LLE.csv', index=False)"
   ]
  }
 ],
 "metadata": {
  "kernelspec": {
   "display_name": "Python 3.9.7 ('base')",
   "language": "python",
   "name": "python3"
  },
  "language_info": {
   "codemirror_mode": {
    "name": "ipython",
    "version": 3
   },
   "file_extension": ".py",
   "mimetype": "text/x-python",
   "name": "python",
   "nbconvert_exporter": "python",
   "pygments_lexer": "ipython3",
   "version": "3.9.7"
  },
  "orig_nbformat": 4,
  "vscode": {
   "interpreter": {
    "hash": "53ba14780de18afc6d3ba1d1c833f3946c675e288ab3ee7b657b4ff2d7f38778"
   }
  }
 },
 "nbformat": 4,
 "nbformat_minor": 2
}
