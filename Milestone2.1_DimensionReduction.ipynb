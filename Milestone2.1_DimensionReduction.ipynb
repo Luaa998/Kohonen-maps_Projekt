{
 "cells": [
  {
   "cell_type": "code",
   "execution_count": 1,
   "metadata": {},
   "outputs": [],
   "source": [
    "import matplotlib.pyplot as plt\n",
    "import numpy as np\n",
    "import pandas as pd\n",
    "import seaborn as sns\n",
    "from sklearn.base import BaseEstimator, TransformerMixin\n",
    "from sklearn.cluster import DBSCAN, KMeans\n",
    "from sklearn.compose import make_column_transformer\n",
    "from sklearn.datasets import load_sample_image, make_blobs\n",
    "from sklearn.decomposition import PCA\n",
    "from sklearn.ensemble import BaggingClassifier, BaggingRegressor, GradientBoostingClassifier, GradientBoostingRegressor, RandomForestClassifier, RandomForestRegressor, StackingClassifier, StackingRegressor\n",
    "from sklearn.impute import KNNImputer, SimpleImputer\n",
    "from sklearn.inspection import permutation_importance\n",
    "from sklearn.linear_model import Lasso, LinearRegression, LogisticRegression, Ridge\n",
    "from sklearn.manifold import Isomap, LocallyLinearEmbedding, MDS\n",
    "from sklearn.metrics import auc, confusion_matrix, ConfusionMatrixDisplay, davies_bouldin_score, rand_score, roc_auc_score, roc_curve, silhouette_samples, silhouette_score \n",
    "from sklearn.model_selection import train_test_split, cross_validate, GridSearchCV\n",
    "from sklearn.naive_bayes import GaussianNB\n",
    "from sklearn.neighbors import KNeighborsClassifier, KNeighborsRegressor\n",
    "from sklearn.pipeline import make_pipeline\n",
    "from sklearn.preprocessing import OneHotEncoder, OrdinalEncoder, PolynomialFeatures, StandardScaler\n",
    "from sklearn.svm import SVC\n",
    "from sklearn.tree import DecisionTreeClassifier, DecisionTreeRegressor, plot_tree\n",
    "import statsmodels.api as sm"
   ]
  },
  {
   "cell_type": "markdown",
   "metadata": {},
   "source": [
    "<h1>Variante 1 \"Garnichts machen\" </h1>"
   ]
  },
  {
   "cell_type": "code",
   "execution_count": 4,
   "metadata": {},
   "outputs": [
    {
     "data": {
      "text/html": [
       "<div>\n",
       "<style scoped>\n",
       "    .dataframe tbody tr th:only-of-type {\n",
       "        vertical-align: middle;\n",
       "    }\n",
       "\n",
       "    .dataframe tbody tr th {\n",
       "        vertical-align: top;\n",
       "    }\n",
       "\n",
       "    .dataframe thead th {\n",
       "        text-align: right;\n",
       "    }\n",
       "</style>\n",
       "<table border=\"1\" class=\"dataframe\">\n",
       "  <thead>\n",
       "    <tr style=\"text-align: right;\">\n",
       "      <th></th>\n",
       "      <th>size_dog</th>\n",
       "      <th>eye_circularity</th>\n",
       "      <th>skull_circularity</th>\n",
       "      <th>ear_size</th>\n",
       "      <th>eyes_distance</th>\n",
       "      <th>ear_form</th>\n",
       "      <th>hair_tone</th>\n",
       "      <th>nose_elongatedness</th>\n",
       "      <th>weight_dog</th>\n",
       "      <th>muzzle_form</th>\n",
       "      <th>skin_tone_main</th>\n",
       "      <th>skin_pattern_complexity</th>\n",
       "      <th>body_length</th>\n",
       "      <th>tail_length</th>\n",
       "      <th>hair_curlness</th>\n",
       "      <th>hair_length</th>\n",
       "      <th>leg_front_number</th>\n",
       "      <th>leg_back_number</th>\n",
       "      <th>breuni_class</th>\n",
       "    </tr>\n",
       "  </thead>\n",
       "  <tbody>\n",
       "    <tr>\n",
       "      <th>0</th>\n",
       "      <td>95.0</td>\n",
       "      <td>48.0</td>\n",
       "      <td>83.0</td>\n",
       "      <td>178.0</td>\n",
       "      <td>72.0</td>\n",
       "      <td>10.0</td>\n",
       "      <td>162.0</td>\n",
       "      <td>42.0</td>\n",
       "      <td>20.0</td>\n",
       "      <td>159.0</td>\n",
       "      <td>176.0</td>\n",
       "      <td>379.0</td>\n",
       "      <td>184.0</td>\n",
       "      <td>70.0</td>\n",
       "      <td>6.0</td>\n",
       "      <td>16.0</td>\n",
       "      <td>187.0</td>\n",
       "      <td>197.0</td>\n",
       "      <td>fashion_lifestyle_elite</td>\n",
       "    </tr>\n",
       "    <tr>\n",
       "      <th>1</th>\n",
       "      <td>91.0</td>\n",
       "      <td>41.0</td>\n",
       "      <td>84.0</td>\n",
       "      <td>141.0</td>\n",
       "      <td>57.0</td>\n",
       "      <td>9.0</td>\n",
       "      <td>149.0</td>\n",
       "      <td>45.0</td>\n",
       "      <td>19.0</td>\n",
       "      <td>143.0</td>\n",
       "      <td>170.0</td>\n",
       "      <td>330.0</td>\n",
       "      <td>158.0</td>\n",
       "      <td>72.0</td>\n",
       "      <td>9.0</td>\n",
       "      <td>14.0</td>\n",
       "      <td>189.0</td>\n",
       "      <td>199.0</td>\n",
       "      <td>fashion_lifestyle_elite</td>\n",
       "    </tr>\n",
       "    <tr>\n",
       "      <th>2</th>\n",
       "      <td>104.0</td>\n",
       "      <td>50.0</td>\n",
       "      <td>106.0</td>\n",
       "      <td>209.0</td>\n",
       "      <td>66.0</td>\n",
       "      <td>10.0</td>\n",
       "      <td>207.0</td>\n",
       "      <td>32.0</td>\n",
       "      <td>23.0</td>\n",
       "      <td>158.0</td>\n",
       "      <td>223.0</td>\n",
       "      <td>635.0</td>\n",
       "      <td>220.0</td>\n",
       "      <td>73.0</td>\n",
       "      <td>14.0</td>\n",
       "      <td>9.0</td>\n",
       "      <td>188.0</td>\n",
       "      <td>196.0</td>\n",
       "      <td>main_stream</td>\n",
       "    </tr>\n",
       "    <tr>\n",
       "      <th>3</th>\n",
       "      <td>93.0</td>\n",
       "      <td>41.0</td>\n",
       "      <td>82.0</td>\n",
       "      <td>159.0</td>\n",
       "      <td>63.0</td>\n",
       "      <td>9.0</td>\n",
       "      <td>144.0</td>\n",
       "      <td>46.0</td>\n",
       "      <td>19.0</td>\n",
       "      <td>143.0</td>\n",
       "      <td>160.0</td>\n",
       "      <td>309.0</td>\n",
       "      <td>127.0</td>\n",
       "      <td>63.0</td>\n",
       "      <td>6.0</td>\n",
       "      <td>10.0</td>\n",
       "      <td>199.0</td>\n",
       "      <td>207.0</td>\n",
       "      <td>fashion_lifestyle_elite</td>\n",
       "    </tr>\n",
       "    <tr>\n",
       "      <th>4</th>\n",
       "      <td>85.0</td>\n",
       "      <td>44.0</td>\n",
       "      <td>70.0</td>\n",
       "      <td>205.0</td>\n",
       "      <td>103.0</td>\n",
       "      <td>52.0</td>\n",
       "      <td>149.0</td>\n",
       "      <td>45.0</td>\n",
       "      <td>19.0</td>\n",
       "      <td>144.0</td>\n",
       "      <td>241.0</td>\n",
       "      <td>325.0</td>\n",
       "      <td>188.0</td>\n",
       "      <td>127.0</td>\n",
       "      <td>9.0</td>\n",
       "      <td>11.0</td>\n",
       "      <td>180.0</td>\n",
       "      <td>183.0</td>\n",
       "      <td>trendy</td>\n",
       "    </tr>\n",
       "  </tbody>\n",
       "</table>\n",
       "</div>"
      ],
      "text/plain": [
       "   size_dog  eye_circularity  skull_circularity  ear_size  eyes_distance  \\\n",
       "0      95.0             48.0               83.0     178.0           72.0   \n",
       "1      91.0             41.0               84.0     141.0           57.0   \n",
       "2     104.0             50.0              106.0     209.0           66.0   \n",
       "3      93.0             41.0               82.0     159.0           63.0   \n",
       "4      85.0             44.0               70.0     205.0          103.0   \n",
       "\n",
       "   ear_form  hair_tone  nose_elongatedness  weight_dog  muzzle_form  \\\n",
       "0      10.0      162.0                42.0        20.0        159.0   \n",
       "1       9.0      149.0                45.0        19.0        143.0   \n",
       "2      10.0      207.0                32.0        23.0        158.0   \n",
       "3       9.0      144.0                46.0        19.0        143.0   \n",
       "4      52.0      149.0                45.0        19.0        144.0   \n",
       "\n",
       "   skin_tone_main  skin_pattern_complexity  body_length  tail_length  \\\n",
       "0           176.0                    379.0        184.0         70.0   \n",
       "1           170.0                    330.0        158.0         72.0   \n",
       "2           223.0                    635.0        220.0         73.0   \n",
       "3           160.0                    309.0        127.0         63.0   \n",
       "4           241.0                    325.0        188.0        127.0   \n",
       "\n",
       "   hair_curlness  hair_length  leg_front_number  leg_back_number  \\\n",
       "0            6.0         16.0             187.0            197.0   \n",
       "1            9.0         14.0             189.0            199.0   \n",
       "2           14.0          9.0             188.0            196.0   \n",
       "3            6.0         10.0             199.0            207.0   \n",
       "4            9.0         11.0             180.0            183.0   \n",
       "\n",
       "              breuni_class  \n",
       "0  fashion_lifestyle_elite  \n",
       "1  fashion_lifestyle_elite  \n",
       "2              main_stream  \n",
       "3  fashion_lifestyle_elite  \n",
       "4                   trendy  "
      ]
     },
     "execution_count": 4,
     "metadata": {},
     "output_type": "execute_result"
    }
   ],
   "source": [
    "df1 = pd.read_csv('v1_data_dog_normal.csv')\n",
    "df1.head()"
   ]
  },
  {
   "cell_type": "code",
   "execution_count": null,
   "metadata": {},
   "outputs": [
    {
     "ename": "",
     "evalue": "",
     "output_type": "error",
     "traceback": [
      "\u001b[1;31mDer Kernel konnte nicht gestartet werden. \n",
      "\u001b[1;31mDer Kernel „base (Python 3.9.7)“ kann aufgrund eines Verbindungstimeouts nicht gestartet werden. \n",
      "\u001b[1;31mWeitere Details finden Sie im Jupyter-<a href='command:jupyter.viewOutput'>Protokoll</a>."
     ]
    }
   ],
   "source": [
    "dogStr_df = df1[['breuni_class']]\n",
    "dogStr_df.head()"
   ]
  },
  {
   "cell_type": "code",
   "execution_count": null,
   "metadata": {},
   "outputs": [
    {
     "ename": "",
     "evalue": "",
     "output_type": "error",
     "traceback": [
      "\u001b[1;31mDer Kernel konnte nicht gestartet werden. \n",
      "\u001b[1;31mDer Kernel „base (Python 3.9.7)“ kann aufgrund eines Verbindungstimeouts nicht gestartet werden. \n",
      "\u001b[1;31mWeitere Details finden Sie im Jupyter-<a href='command:jupyter.viewOutput'>Protokoll</a>."
     ]
    }
   ],
   "source": [
    "dogNoStr_df = df1.drop(columns='breuni_class')\n",
    "dogNoStr_df.head()"
   ]
  },
  {
   "cell_type": "markdown",
   "metadata": {},
   "source": [
    "<h1>Variante 2 \"PCA mit Standardisierung\" </h1>"
   ]
  },
  {
   "cell_type": "code",
   "execution_count": null,
   "metadata": {},
   "outputs": [
    {
     "ename": "",
     "evalue": "",
     "output_type": "error",
     "traceback": [
      "\u001b[1;31mDer Kernel konnte nicht gestartet werden. \n",
      "\u001b[1;31mDer Kernel „base (Python 3.9.7)“ kann aufgrund eines Verbindungstimeouts nicht gestartet werden. \n",
      "\u001b[1;31mWeitere Details finden Sie im Jupyter-<a href='command:jupyter.viewOutput'>Protokoll</a>."
     ]
    }
   ],
   "source": [
    "pca2= make_pipeline(\n",
    "    StandardScaler(),PCA(n_components=18)\n",
    "    \n",
    ")\n",
    "pca2.fit_transform(dogNoStr_df)\n",
    "pca2['pca'].explained_variance_ratio_"
   ]
  },
  {
   "cell_type": "code",
   "execution_count": null,
   "metadata": {},
   "outputs": [
    {
     "ename": "",
     "evalue": "",
     "output_type": "error",
     "traceback": [
      "\u001b[1;31mDer Kernel konnte nicht gestartet werden. \n",
      "\u001b[1;31mDer Kernel „base (Python 3.9.7)“ kann aufgrund eines Verbindungstimeouts nicht gestartet werden. \n",
      "\u001b[1;31mWeitere Details finden Sie im Jupyter-<a href='command:jupyter.viewOutput'>Protokoll</a>."
     ]
    }
   ],
   "source": [
    "pca2['pca'].components_"
   ]
  },
  {
   "cell_type": "code",
   "execution_count": null,
   "metadata": {},
   "outputs": [
    {
     "ename": "",
     "evalue": "",
     "output_type": "error",
     "traceback": [
      "\u001b[1;31mDer Kernel konnte nicht gestartet werden. \n",
      "\u001b[1;31mDer Kernel „base (Python 3.9.7)“ kann aufgrund eines Verbindungstimeouts nicht gestartet werden. \n",
      "\u001b[1;31mWeitere Details finden Sie im Jupyter-<a href='command:jupyter.viewOutput'>Protokoll</a>."
     ]
    }
   ],
   "source": [
    "pca2= make_pipeline(\n",
    "    StandardScaler(),PCA(n_components=5)\n",
    "    \n",
    ")\n",
    "pca2.fit_transform(dogNoStr_df)\n",
    "pca2['pca'].explained_variance_ratio_"
   ]
  },
  {
   "cell_type": "code",
   "execution_count": null,
   "metadata": {},
   "outputs": [
    {
     "ename": "",
     "evalue": "",
     "output_type": "error",
     "traceback": [
      "\u001b[1;31mDer Kernel konnte nicht gestartet werden. \n",
      "\u001b[1;31mDer Kernel „base (Python 3.9.7)“ kann aufgrund eines Verbindungstimeouts nicht gestartet werden. \n",
      "\u001b[1;31mWeitere Details finden Sie im Jupyter-<a href='command:jupyter.viewOutput'>Protokoll</a>."
     ]
    }
   ],
   "source": [
    "df2 = pd.DataFrame(pca2.fit_transform(dogNoStr_df))\n",
    "df2['breuni_class'] = dogStr_df\n",
    "df2.head()"
   ]
  },
  {
   "cell_type": "code",
   "execution_count": null,
   "metadata": {},
   "outputs": [
    {
     "ename": "",
     "evalue": "",
     "output_type": "error",
     "traceback": [
      "\u001b[1;31mDer Kernel konnte nicht gestartet werden. \n",
      "\u001b[1;31mDer Kernel „base (Python 3.9.7)“ kann aufgrund eines Verbindungstimeouts nicht gestartet werden. \n",
      "\u001b[1;31mWeitere Details finden Sie im Jupyter-<a href='command:jupyter.viewOutput'>Protokoll</a>."
     ]
    }
   ],
   "source": [
    "df2.to_csv(r'C:\\Users\\nwbab\\OneDrive\\Dokumente\\GitHub\\Kohonen-maps_Projekt\\v2_data_dog_PCA+standardized.csv', index=False)"
   ]
  },
  {
   "cell_type": "markdown",
   "metadata": {},
   "source": [
    "<h1>Variante 3 \"PCA ohne Standardisierung\" </h1>"
   ]
  },
  {
   "cell_type": "code",
   "execution_count": null,
   "metadata": {},
   "outputs": [
    {
     "ename": "",
     "evalue": "",
     "output_type": "error",
     "traceback": [
      "\u001b[1;31mDer Kernel konnte nicht gestartet werden. \n",
      "\u001b[1;31mDer Kernel „base (Python 3.9.7)“ kann aufgrund eines Verbindungstimeouts nicht gestartet werden. \n",
      "\u001b[1;31mWeitere Details finden Sie im Jupyter-<a href='command:jupyter.viewOutput'>Protokoll</a>."
     ]
    }
   ],
   "source": [
    "pca3 = PCA(n_components=18)"
   ]
  },
  {
   "cell_type": "code",
   "execution_count": null,
   "metadata": {},
   "outputs": [
    {
     "ename": "",
     "evalue": "",
     "output_type": "error",
     "traceback": [
      "\u001b[1;31mDer Kernel konnte nicht gestartet werden. \n",
      "\u001b[1;31mDer Kernel „base (Python 3.9.7)“ kann aufgrund eines Verbindungstimeouts nicht gestartet werden. \n",
      "\u001b[1;31mWeitere Details finden Sie im Jupyter-<a href='command:jupyter.viewOutput'>Protokoll</a>."
     ]
    }
   ],
   "source": [
    "pca3.fit_transform(dogNoStr_df)\n",
    "pca3.explained_variance_ratio_"
   ]
  },
  {
   "cell_type": "markdown",
   "metadata": {},
   "source": [
    "1. 95,92%\n",
    "2. 1,79%\n",
    "3. 1,19%\n",
    "4. 0,39%"
   ]
  },
  {
   "cell_type": "code",
   "execution_count": null,
   "metadata": {},
   "outputs": [
    {
     "ename": "",
     "evalue": "",
     "output_type": "error",
     "traceback": [
      "\u001b[1;31mDer Kernel konnte nicht gestartet werden. \n",
      "\u001b[1;31mDer Kernel „base (Python 3.9.7)“ kann aufgrund eines Verbindungstimeouts nicht gestartet werden. \n",
      "\u001b[1;31mWeitere Details finden Sie im Jupyter-<a href='command:jupyter.viewOutput'>Protokoll</a>."
     ]
    }
   ],
   "source": [
    "pca3 = PCA(n_components=2)"
   ]
  },
  {
   "cell_type": "code",
   "execution_count": null,
   "metadata": {},
   "outputs": [
    {
     "ename": "",
     "evalue": "",
     "output_type": "error",
     "traceback": [
      "\u001b[1;31mDer Kernel konnte nicht gestartet werden. \n",
      "\u001b[1;31mDer Kernel „base (Python 3.9.7)“ kann aufgrund eines Verbindungstimeouts nicht gestartet werden. \n",
      "\u001b[1;31mWeitere Details finden Sie im Jupyter-<a href='command:jupyter.viewOutput'>Protokoll</a>."
     ]
    }
   ],
   "source": [
    "df3 = pd.DataFrame(pca3.fit_transform(dogNoStr_df))\n",
    "df3['breuni_class'] = dogStr_df\n",
    "df3.head()"
   ]
  },
  {
   "cell_type": "code",
   "execution_count": null,
   "metadata": {},
   "outputs": [
    {
     "ename": "",
     "evalue": "",
     "output_type": "error",
     "traceback": [
      "\u001b[1;31mDer Kernel konnte nicht gestartet werden. \n",
      "\u001b[1;31mDer Kernel „base (Python 3.9.7)“ kann aufgrund eines Verbindungstimeouts nicht gestartet werden. \n",
      "\u001b[1;31mWeitere Details finden Sie im Jupyter-<a href='command:jupyter.viewOutput'>Protokoll</a>."
     ]
    }
   ],
   "source": [
    "df3.to_csv(r'C:\\Users\\nwbab\\OneDrive\\Dokumente\\GitHub\\Kohonen-maps_Projekt\\v3_data_dog_PCA-standardized.csv', index=False)"
   ]
  },
  {
   "cell_type": "markdown",
   "metadata": {},
   "source": [
    "<h1>Variante 4 \"Kohonan-Maps\" </h1>"
   ]
  },
  {
   "cell_type": "code",
   "execution_count": null,
   "metadata": {},
   "outputs": [
    {
     "ename": "",
     "evalue": "",
     "output_type": "error",
     "traceback": [
      "\u001b[1;31mDer Kernel konnte nicht gestartet werden. \n",
      "\u001b[1;31mDer Kernel „base (Python 3.9.7)“ kann aufgrund eines Verbindungstimeouts nicht gestartet werden. \n",
      "\u001b[1;31mWeitere Details finden Sie im Jupyter-<a href='command:jupyter.viewOutput'>Protokoll</a>."
     ]
    }
   ],
   "source": [
    "df4 = pd.read_csv('v4_data_dog_prepared.csv')\n",
    "df4 = df4.drop(columns=\"Unnamed: 0\")\n",
    "df4['breuni_class'] = dogStr_df\n",
    "df4.head()"
   ]
  },
  {
   "cell_type": "code",
   "execution_count": null,
   "metadata": {},
   "outputs": [
    {
     "ename": "",
     "evalue": "",
     "output_type": "error",
     "traceback": [
      "\u001b[1;31mDer Kernel konnte nicht gestartet werden. \n",
      "\u001b[1;31mDer Kernel „base (Python 3.9.7)“ kann aufgrund eines Verbindungstimeouts nicht gestartet werden. \n",
      "\u001b[1;31mWeitere Details finden Sie im Jupyter-<a href='command:jupyter.viewOutput'>Protokoll</a>."
     ]
    }
   ],
   "source": [
    "df4.to_csv(r'C:\\Users\\nwbab\\OneDrive\\Dokumente\\GitHub\\Kohonen-maps_Projekt\\v4_data_dog_KM.csv', index=False)"
   ]
  },
  {
   "cell_type": "code",
   "execution_count": null,
   "metadata": {},
   "outputs": [
    {
     "ename": "",
     "evalue": "",
     "output_type": "error",
     "traceback": [
      "\u001b[1;31mDer Kernel konnte nicht gestartet werden. \n",
      "\u001b[1;31mDer Kernel „base (Python 3.9.7)“ kann aufgrund eines Verbindungstimeouts nicht gestartet werden. \n",
      "\u001b[1;31mWeitere Details finden Sie im Jupyter-<a href='command:jupyter.viewOutput'>Protokoll</a>."
     ]
    }
   ],
   "source": [
    "df4 = pd.read_csv('v4_data_dog_prepared.csv')\n",
    "df4.head()"
   ]
  },
  {
   "cell_type": "markdown",
   "metadata": {},
   "source": [
    "<h1>Variante 5 \"Iso-Maps\" </h1>"
   ]
  },
  {
   "cell_type": "code",
   "execution_count": null,
   "metadata": {},
   "outputs": [
    {
     "ename": "",
     "evalue": "",
     "output_type": "error",
     "traceback": [
      "\u001b[1;31mDer Kernel konnte nicht gestartet werden. \n",
      "\u001b[1;31mDer Kernel „base (Python 3.9.7)“ kann aufgrund eines Verbindungstimeouts nicht gestartet werden. \n",
      "\u001b[1;31mWeitere Details finden Sie im Jupyter-<a href='command:jupyter.viewOutput'>Protokoll</a>."
     ]
    }
   ],
   "source": [
    "iso = Isomap(n_components=2)\n",
    "df5 = pd.DataFrame(iso.fit_transform(dogNoStr_df))\n",
    "df5['breuni_class'] = dogStr_df\n",
    "df5.head()"
   ]
  },
  {
   "cell_type": "code",
   "execution_count": null,
   "metadata": {},
   "outputs": [
    {
     "ename": "",
     "evalue": "",
     "output_type": "error",
     "traceback": [
      "\u001b[1;31mDer Kernel konnte nicht gestartet werden. \n",
      "\u001b[1;31mDer Kernel „base (Python 3.9.7)“ kann aufgrund eines Verbindungstimeouts nicht gestartet werden. \n",
      "\u001b[1;31mWeitere Details finden Sie im Jupyter-<a href='command:jupyter.viewOutput'>Protokoll</a>."
     ]
    }
   ],
   "source": [
    "df5.to_csv(r'C:\\Users\\nwbab\\OneDrive\\Dokumente\\GitHub\\Kohonen-maps_Projekt\\v5_data_dog_IsoMaps.csv', index=False)"
   ]
  },
  {
   "cell_type": "markdown",
   "metadata": {},
   "source": [
    "<h1>Variante 6 \"Locally Linear Embedding\" </h1>"
   ]
  },
  {
   "cell_type": "code",
   "execution_count": null,
   "metadata": {},
   "outputs": [
    {
     "ename": "",
     "evalue": "",
     "output_type": "error",
     "traceback": [
      "\u001b[1;31mDer Kernel konnte nicht gestartet werden. \n",
      "\u001b[1;31mDer Kernel „base (Python 3.9.7)“ kann aufgrund eines Verbindungstimeouts nicht gestartet werden. \n",
      "\u001b[1;31mWeitere Details finden Sie im Jupyter-<a href='command:jupyter.viewOutput'>Protokoll</a>."
     ]
    }
   ],
   "source": [
    "lle = LocallyLinearEmbedding(n_components=2)\n",
    "df6 = pd.DataFrame(lle.fit_transform(dogNoStr_df))\n",
    "df6['breuni_class'] = dogStr_df\n",
    "df6.head()"
   ]
  },
  {
   "cell_type": "code",
   "execution_count": null,
   "metadata": {},
   "outputs": [
    {
     "ename": "",
     "evalue": "",
     "output_type": "error",
     "traceback": [
      "\u001b[1;31mDer Kernel konnte nicht gestartet werden. \n",
      "\u001b[1;31mDer Kernel „base (Python 3.9.7)“ kann aufgrund eines Verbindungstimeouts nicht gestartet werden. \n",
      "\u001b[1;31mWeitere Details finden Sie im Jupyter-<a href='command:jupyter.viewOutput'>Protokoll</a>."
     ]
    }
   ],
   "source": [
    "df6.to_csv(r'C:\\Users\\nwbab\\OneDrive\\Dokumente\\GitHub\\Kohonen-maps_Projekt\\v6_data_dog_LLE.csv', index=False)"
   ]
  }
 ],
 "metadata": {
  "kernelspec": {
   "display_name": "Python 3.10.7 64-bit",
   "language": "python",
   "name": "python3"
  },
  "language_info": {
   "codemirror_mode": {
    "name": "ipython",
    "version": 3
   },
   "file_extension": ".py",
   "mimetype": "text/x-python",
   "name": "python",
   "nbconvert_exporter": "python",
   "pygments_lexer": "ipython3",
   "version": "3.10.7"
  },
  "orig_nbformat": 4,
  "vscode": {
   "interpreter": {
    "hash": "6890afbb1b86a193ffc1a3893801634c5431b895e798e683ada4f1b7048038ab"
   }
  }
 },
 "nbformat": 4,
 "nbformat_minor": 2
}
