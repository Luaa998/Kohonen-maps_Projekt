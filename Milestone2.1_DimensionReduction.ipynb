{
 "cells": [
  {
   "cell_type": "code",
   "execution_count": 12,
   "metadata": {},
   "outputs": [],
   "source": [
    "import pandas as pd\n",
    "import numpy as np\n",
    "import seaborn as sns; sns.set_theme()\n",
    "import matplotlib.pyplot as plt\n",
    "from sklearn.decomposition import PCA\n",
    "from sklearn.manifold import Isomap, LocallyLinearEmbedding\n",
    "from sklearn.pipeline import make_pipeline\n",
    "from sklearn.preprocessing import StandardScaler"
   ]
  },
  {
   "cell_type": "markdown",
   "metadata": {},
   "source": [
    "<h1>Variante 1 \"Garnichts machen\" </h1>"
   ]
  },
  {
   "cell_type": "code",
   "execution_count": 2,
   "metadata": {},
   "outputs": [
    {
     "data": {
      "text/html": [
       "<div>\n",
       "<style scoped>\n",
       "    .dataframe tbody tr th:only-of-type {\n",
       "        vertical-align: middle;\n",
       "    }\n",
       "\n",
       "    .dataframe tbody tr th {\n",
       "        vertical-align: top;\n",
       "    }\n",
       "\n",
       "    .dataframe thead th {\n",
       "        text-align: right;\n",
       "    }\n",
       "</style>\n",
       "<table border=\"1\" class=\"dataframe\">\n",
       "  <thead>\n",
       "    <tr style=\"text-align: right;\">\n",
       "      <th></th>\n",
       "      <th>size_dog</th>\n",
       "      <th>eye_circularity</th>\n",
       "      <th>skull_circularity</th>\n",
       "      <th>ear_size</th>\n",
       "      <th>eyes_distance</th>\n",
       "      <th>ear_form</th>\n",
       "      <th>hair_tone</th>\n",
       "      <th>nose_elongatedness</th>\n",
       "      <th>weight_dog</th>\n",
       "      <th>muzzle_form</th>\n",
       "      <th>skin_tone_main</th>\n",
       "      <th>skin_pattern_complexity</th>\n",
       "      <th>body_length</th>\n",
       "      <th>tail_length</th>\n",
       "      <th>hair_curlness</th>\n",
       "      <th>hair_length</th>\n",
       "      <th>leg_front_number</th>\n",
       "      <th>leg_back_number</th>\n",
       "      <th>breuni_class</th>\n",
       "    </tr>\n",
       "  </thead>\n",
       "  <tbody>\n",
       "    <tr>\n",
       "      <th>0</th>\n",
       "      <td>95.0</td>\n",
       "      <td>48.0</td>\n",
       "      <td>83.0</td>\n",
       "      <td>178.0</td>\n",
       "      <td>72.0</td>\n",
       "      <td>10.0</td>\n",
       "      <td>162.0</td>\n",
       "      <td>42.0</td>\n",
       "      <td>20.0</td>\n",
       "      <td>159.0</td>\n",
       "      <td>176.0</td>\n",
       "      <td>379.0</td>\n",
       "      <td>184.0</td>\n",
       "      <td>70.0</td>\n",
       "      <td>6.0</td>\n",
       "      <td>16.0</td>\n",
       "      <td>187.0</td>\n",
       "      <td>197.0</td>\n",
       "      <td>fashion_lifestyle_elite</td>\n",
       "    </tr>\n",
       "    <tr>\n",
       "      <th>1</th>\n",
       "      <td>91.0</td>\n",
       "      <td>41.0</td>\n",
       "      <td>84.0</td>\n",
       "      <td>141.0</td>\n",
       "      <td>57.0</td>\n",
       "      <td>9.0</td>\n",
       "      <td>149.0</td>\n",
       "      <td>45.0</td>\n",
       "      <td>19.0</td>\n",
       "      <td>143.0</td>\n",
       "      <td>170.0</td>\n",
       "      <td>330.0</td>\n",
       "      <td>158.0</td>\n",
       "      <td>72.0</td>\n",
       "      <td>9.0</td>\n",
       "      <td>14.0</td>\n",
       "      <td>189.0</td>\n",
       "      <td>199.0</td>\n",
       "      <td>fashion_lifestyle_elite</td>\n",
       "    </tr>\n",
       "    <tr>\n",
       "      <th>2</th>\n",
       "      <td>104.0</td>\n",
       "      <td>50.0</td>\n",
       "      <td>106.0</td>\n",
       "      <td>209.0</td>\n",
       "      <td>66.0</td>\n",
       "      <td>10.0</td>\n",
       "      <td>207.0</td>\n",
       "      <td>32.0</td>\n",
       "      <td>23.0</td>\n",
       "      <td>158.0</td>\n",
       "      <td>223.0</td>\n",
       "      <td>635.0</td>\n",
       "      <td>220.0</td>\n",
       "      <td>73.0</td>\n",
       "      <td>14.0</td>\n",
       "      <td>9.0</td>\n",
       "      <td>188.0</td>\n",
       "      <td>196.0</td>\n",
       "      <td>main_stream</td>\n",
       "    </tr>\n",
       "    <tr>\n",
       "      <th>3</th>\n",
       "      <td>93.0</td>\n",
       "      <td>41.0</td>\n",
       "      <td>82.0</td>\n",
       "      <td>159.0</td>\n",
       "      <td>63.0</td>\n",
       "      <td>9.0</td>\n",
       "      <td>144.0</td>\n",
       "      <td>46.0</td>\n",
       "      <td>19.0</td>\n",
       "      <td>143.0</td>\n",
       "      <td>160.0</td>\n",
       "      <td>309.0</td>\n",
       "      <td>127.0</td>\n",
       "      <td>63.0</td>\n",
       "      <td>6.0</td>\n",
       "      <td>10.0</td>\n",
       "      <td>199.0</td>\n",
       "      <td>207.0</td>\n",
       "      <td>fashion_lifestyle_elite</td>\n",
       "    </tr>\n",
       "    <tr>\n",
       "      <th>4</th>\n",
       "      <td>85.0</td>\n",
       "      <td>44.0</td>\n",
       "      <td>70.0</td>\n",
       "      <td>205.0</td>\n",
       "      <td>103.0</td>\n",
       "      <td>52.0</td>\n",
       "      <td>149.0</td>\n",
       "      <td>45.0</td>\n",
       "      <td>19.0</td>\n",
       "      <td>144.0</td>\n",
       "      <td>241.0</td>\n",
       "      <td>325.0</td>\n",
       "      <td>188.0</td>\n",
       "      <td>127.0</td>\n",
       "      <td>9.0</td>\n",
       "      <td>11.0</td>\n",
       "      <td>180.0</td>\n",
       "      <td>183.0</td>\n",
       "      <td>trendy</td>\n",
       "    </tr>\n",
       "  </tbody>\n",
       "</table>\n",
       "</div>"
      ],
      "text/plain": [
       "   size_dog  eye_circularity  skull_circularity  ear_size  eyes_distance  \\\n",
       "0      95.0             48.0               83.0     178.0           72.0   \n",
       "1      91.0             41.0               84.0     141.0           57.0   \n",
       "2     104.0             50.0              106.0     209.0           66.0   \n",
       "3      93.0             41.0               82.0     159.0           63.0   \n",
       "4      85.0             44.0               70.0     205.0          103.0   \n",
       "\n",
       "   ear_form  hair_tone  nose_elongatedness  weight_dog  muzzle_form  \\\n",
       "0      10.0      162.0                42.0        20.0        159.0   \n",
       "1       9.0      149.0                45.0        19.0        143.0   \n",
       "2      10.0      207.0                32.0        23.0        158.0   \n",
       "3       9.0      144.0                46.0        19.0        143.0   \n",
       "4      52.0      149.0                45.0        19.0        144.0   \n",
       "\n",
       "   skin_tone_main  skin_pattern_complexity  body_length  tail_length  \\\n",
       "0           176.0                    379.0        184.0         70.0   \n",
       "1           170.0                    330.0        158.0         72.0   \n",
       "2           223.0                    635.0        220.0         73.0   \n",
       "3           160.0                    309.0        127.0         63.0   \n",
       "4           241.0                    325.0        188.0        127.0   \n",
       "\n",
       "   hair_curlness  hair_length  leg_front_number  leg_back_number  \\\n",
       "0            6.0         16.0             187.0            197.0   \n",
       "1            9.0         14.0             189.0            199.0   \n",
       "2           14.0          9.0             188.0            196.0   \n",
       "3            6.0         10.0             199.0            207.0   \n",
       "4            9.0         11.0             180.0            183.0   \n",
       "\n",
       "              breuni_class  \n",
       "0  fashion_lifestyle_elite  \n",
       "1  fashion_lifestyle_elite  \n",
       "2              main_stream  \n",
       "3  fashion_lifestyle_elite  \n",
       "4                   trendy  "
      ]
     },
     "execution_count": 2,
     "metadata": {},
     "output_type": "execute_result"
    }
   ],
   "source": [
    "df1 = pd.read_csv('data/test_and_training_data/v1_data_dog_normal.csv')\n",
    "df1.head()"
   ]
  },
  {
   "cell_type": "code",
   "execution_count": 3,
   "metadata": {},
   "outputs": [
    {
     "data": {
      "text/html": [
       "<div>\n",
       "<style scoped>\n",
       "    .dataframe tbody tr th:only-of-type {\n",
       "        vertical-align: middle;\n",
       "    }\n",
       "\n",
       "    .dataframe tbody tr th {\n",
       "        vertical-align: top;\n",
       "    }\n",
       "\n",
       "    .dataframe thead th {\n",
       "        text-align: right;\n",
       "    }\n",
       "</style>\n",
       "<table border=\"1\" class=\"dataframe\">\n",
       "  <thead>\n",
       "    <tr style=\"text-align: right;\">\n",
       "      <th></th>\n",
       "      <th>breuni_class</th>\n",
       "    </tr>\n",
       "  </thead>\n",
       "  <tbody>\n",
       "    <tr>\n",
       "      <th>0</th>\n",
       "      <td>fashion_lifestyle_elite</td>\n",
       "    </tr>\n",
       "    <tr>\n",
       "      <th>1</th>\n",
       "      <td>fashion_lifestyle_elite</td>\n",
       "    </tr>\n",
       "    <tr>\n",
       "      <th>2</th>\n",
       "      <td>main_stream</td>\n",
       "    </tr>\n",
       "    <tr>\n",
       "      <th>3</th>\n",
       "      <td>fashion_lifestyle_elite</td>\n",
       "    </tr>\n",
       "    <tr>\n",
       "      <th>4</th>\n",
       "      <td>trendy</td>\n",
       "    </tr>\n",
       "  </tbody>\n",
       "</table>\n",
       "</div>"
      ],
      "text/plain": [
       "              breuni_class\n",
       "0  fashion_lifestyle_elite\n",
       "1  fashion_lifestyle_elite\n",
       "2              main_stream\n",
       "3  fashion_lifestyle_elite\n",
       "4                   trendy"
      ]
     },
     "execution_count": 3,
     "metadata": {},
     "output_type": "execute_result"
    }
   ],
   "source": [
    "dogStr_df = df1[['breuni_class']]\n",
    "dogStr_df.head()"
   ]
  },
  {
   "cell_type": "code",
   "execution_count": 4,
   "metadata": {},
   "outputs": [
    {
     "data": {
      "text/html": [
       "<div>\n",
       "<style scoped>\n",
       "    .dataframe tbody tr th:only-of-type {\n",
       "        vertical-align: middle;\n",
       "    }\n",
       "\n",
       "    .dataframe tbody tr th {\n",
       "        vertical-align: top;\n",
       "    }\n",
       "\n",
       "    .dataframe thead th {\n",
       "        text-align: right;\n",
       "    }\n",
       "</style>\n",
       "<table border=\"1\" class=\"dataframe\">\n",
       "  <thead>\n",
       "    <tr style=\"text-align: right;\">\n",
       "      <th></th>\n",
       "      <th>size_dog</th>\n",
       "      <th>eye_circularity</th>\n",
       "      <th>skull_circularity</th>\n",
       "      <th>ear_size</th>\n",
       "      <th>eyes_distance</th>\n",
       "      <th>ear_form</th>\n",
       "      <th>hair_tone</th>\n",
       "      <th>nose_elongatedness</th>\n",
       "      <th>weight_dog</th>\n",
       "      <th>muzzle_form</th>\n",
       "      <th>skin_tone_main</th>\n",
       "      <th>skin_pattern_complexity</th>\n",
       "      <th>body_length</th>\n",
       "      <th>tail_length</th>\n",
       "      <th>hair_curlness</th>\n",
       "      <th>hair_length</th>\n",
       "      <th>leg_front_number</th>\n",
       "      <th>leg_back_number</th>\n",
       "    </tr>\n",
       "  </thead>\n",
       "  <tbody>\n",
       "    <tr>\n",
       "      <th>0</th>\n",
       "      <td>95.0</td>\n",
       "      <td>48.0</td>\n",
       "      <td>83.0</td>\n",
       "      <td>178.0</td>\n",
       "      <td>72.0</td>\n",
       "      <td>10.0</td>\n",
       "      <td>162.0</td>\n",
       "      <td>42.0</td>\n",
       "      <td>20.0</td>\n",
       "      <td>159.0</td>\n",
       "      <td>176.0</td>\n",
       "      <td>379.0</td>\n",
       "      <td>184.0</td>\n",
       "      <td>70.0</td>\n",
       "      <td>6.0</td>\n",
       "      <td>16.0</td>\n",
       "      <td>187.0</td>\n",
       "      <td>197.0</td>\n",
       "    </tr>\n",
       "    <tr>\n",
       "      <th>1</th>\n",
       "      <td>91.0</td>\n",
       "      <td>41.0</td>\n",
       "      <td>84.0</td>\n",
       "      <td>141.0</td>\n",
       "      <td>57.0</td>\n",
       "      <td>9.0</td>\n",
       "      <td>149.0</td>\n",
       "      <td>45.0</td>\n",
       "      <td>19.0</td>\n",
       "      <td>143.0</td>\n",
       "      <td>170.0</td>\n",
       "      <td>330.0</td>\n",
       "      <td>158.0</td>\n",
       "      <td>72.0</td>\n",
       "      <td>9.0</td>\n",
       "      <td>14.0</td>\n",
       "      <td>189.0</td>\n",
       "      <td>199.0</td>\n",
       "    </tr>\n",
       "    <tr>\n",
       "      <th>2</th>\n",
       "      <td>104.0</td>\n",
       "      <td>50.0</td>\n",
       "      <td>106.0</td>\n",
       "      <td>209.0</td>\n",
       "      <td>66.0</td>\n",
       "      <td>10.0</td>\n",
       "      <td>207.0</td>\n",
       "      <td>32.0</td>\n",
       "      <td>23.0</td>\n",
       "      <td>158.0</td>\n",
       "      <td>223.0</td>\n",
       "      <td>635.0</td>\n",
       "      <td>220.0</td>\n",
       "      <td>73.0</td>\n",
       "      <td>14.0</td>\n",
       "      <td>9.0</td>\n",
       "      <td>188.0</td>\n",
       "      <td>196.0</td>\n",
       "    </tr>\n",
       "    <tr>\n",
       "      <th>3</th>\n",
       "      <td>93.0</td>\n",
       "      <td>41.0</td>\n",
       "      <td>82.0</td>\n",
       "      <td>159.0</td>\n",
       "      <td>63.0</td>\n",
       "      <td>9.0</td>\n",
       "      <td>144.0</td>\n",
       "      <td>46.0</td>\n",
       "      <td>19.0</td>\n",
       "      <td>143.0</td>\n",
       "      <td>160.0</td>\n",
       "      <td>309.0</td>\n",
       "      <td>127.0</td>\n",
       "      <td>63.0</td>\n",
       "      <td>6.0</td>\n",
       "      <td>10.0</td>\n",
       "      <td>199.0</td>\n",
       "      <td>207.0</td>\n",
       "    </tr>\n",
       "    <tr>\n",
       "      <th>4</th>\n",
       "      <td>85.0</td>\n",
       "      <td>44.0</td>\n",
       "      <td>70.0</td>\n",
       "      <td>205.0</td>\n",
       "      <td>103.0</td>\n",
       "      <td>52.0</td>\n",
       "      <td>149.0</td>\n",
       "      <td>45.0</td>\n",
       "      <td>19.0</td>\n",
       "      <td>144.0</td>\n",
       "      <td>241.0</td>\n",
       "      <td>325.0</td>\n",
       "      <td>188.0</td>\n",
       "      <td>127.0</td>\n",
       "      <td>9.0</td>\n",
       "      <td>11.0</td>\n",
       "      <td>180.0</td>\n",
       "      <td>183.0</td>\n",
       "    </tr>\n",
       "  </tbody>\n",
       "</table>\n",
       "</div>"
      ],
      "text/plain": [
       "   size_dog  eye_circularity  skull_circularity  ear_size  eyes_distance  \\\n",
       "0      95.0             48.0               83.0     178.0           72.0   \n",
       "1      91.0             41.0               84.0     141.0           57.0   \n",
       "2     104.0             50.0              106.0     209.0           66.0   \n",
       "3      93.0             41.0               82.0     159.0           63.0   \n",
       "4      85.0             44.0               70.0     205.0          103.0   \n",
       "\n",
       "   ear_form  hair_tone  nose_elongatedness  weight_dog  muzzle_form  \\\n",
       "0      10.0      162.0                42.0        20.0        159.0   \n",
       "1       9.0      149.0                45.0        19.0        143.0   \n",
       "2      10.0      207.0                32.0        23.0        158.0   \n",
       "3       9.0      144.0                46.0        19.0        143.0   \n",
       "4      52.0      149.0                45.0        19.0        144.0   \n",
       "\n",
       "   skin_tone_main  skin_pattern_complexity  body_length  tail_length  \\\n",
       "0           176.0                    379.0        184.0         70.0   \n",
       "1           170.0                    330.0        158.0         72.0   \n",
       "2           223.0                    635.0        220.0         73.0   \n",
       "3           160.0                    309.0        127.0         63.0   \n",
       "4           241.0                    325.0        188.0        127.0   \n",
       "\n",
       "   hair_curlness  hair_length  leg_front_number  leg_back_number  \n",
       "0            6.0         16.0             187.0            197.0  \n",
       "1            9.0         14.0             189.0            199.0  \n",
       "2           14.0          9.0             188.0            196.0  \n",
       "3            6.0         10.0             199.0            207.0  \n",
       "4            9.0         11.0             180.0            183.0  "
      ]
     },
     "execution_count": 4,
     "metadata": {},
     "output_type": "execute_result"
    }
   ],
   "source": [
    "dogNoStr_df = df1.drop(columns='breuni_class')\n",
    "dogNoStr_df.head()"
   ]
  },
  {
   "cell_type": "code",
   "execution_count": 5,
   "metadata": {},
   "outputs": [
    {
     "data": {
      "image/png": "[encoded data removed]",
      "text/plain": [
       "<Figure size 2000x500 with 1 Axes>"
      ]
     },
     "metadata": {},
     "output_type": "display_data"
    }
   ],
   "source": [
    "plt.figure(figsize=(20,5))\n",
    "sns.scatterplot(data=df1, x =\"size_dog\",y=\"body_length\",hue='breuni_class')\n",
    "sns.rugplot(data=df1, x =\"size_dog\",y=\"body_length\",hue='breuni_class')\n",
    "plt.show()\n",
    "\n"
   ]
  },
  {
   "cell_type": "markdown",
   "metadata": {},
   "source": [
    "<h1>Variante 2 \"PCA mit Standardisierung\" </h1>"
   ]
  },
  {
   "cell_type": "code",
   "execution_count": 6,
   "metadata": {},
   "outputs": [
    {
     "data": {
      "text/plain": [
       "array([5.23842715e-01, 1.67922206e-01, 1.05489449e-01, 6.54626098e-02,\n",
       "       5.07963290e-02, 2.96175664e-02, 1.97685972e-02, 1.22336746e-02,\n",
       "       8.76239809e-03, 5.05408102e-03, 3.50247758e-03, 2.44109126e-03,\n",
       "       1.94607302e-03, 1.18993618e-03, 8.85813314e-04, 7.20022354e-04,\n",
       "       3.44709645e-04, 2.02501932e-05])"
      ]
     },
     "execution_count": 6,
     "metadata": {},
     "output_type": "execute_result"
    }
   ],
   "source": [
    "pca2= make_pipeline(\n",
    "    StandardScaler(),PCA(n_components=18)\n",
    ")\n",
    "pca2.fit_transform(dogNoStr_df)\n",
    "pca2['pca'].explained_variance_ratio_"
   ]
  },
  {
   "cell_type": "code",
   "execution_count": 7,
   "metadata": {},
   "outputs": [
    {
     "data": {
      "text/plain": [
       "array([[ 2.74831771e-01,  2.95010714e-01,  3.04449087e-01,\n",
       "         2.67736007e-01,  8.05023115e-02,  9.67344418e-02,\n",
       "         3.16974201e-01, -3.13578155e-01,  3.13919564e-01,\n",
       "         2.82333728e-01,  3.09412520e-01,  3.14367158e-01,\n",
       "         2.71718519e-01, -2.11828921e-02,  4.14663527e-02,\n",
       "         5.76364277e-02,  2.94889050e-02,  7.35592120e-02],\n",
       "       [-1.27658782e-01,  1.30073139e-01, -7.48089621e-02,\n",
       "        -1.88895631e-01, -1.21175308e-01,  1.10227254e-02,\n",
       "         4.71040360e-02,  1.33882597e-02,  5.99504212e-02,\n",
       "         1.15678806e-01,  6.19071507e-02,  5.16105865e-02,\n",
       "         2.08657818e-01,  4.89069068e-01, -5.70936548e-02,\n",
       "        -1.24691532e-01, -5.40654749e-01, -5.39434552e-01],\n",
       "       [-1.19287990e-01, -2.99793011e-02, -5.54364072e-02,\n",
       "         2.74808687e-01,  6.42808859e-01,  5.92125977e-01,\n",
       "        -9.63548068e-02,  5.65554126e-02, -1.09164899e-01,\n",
       "        -1.70186147e-02,  5.67570534e-02, -1.07764904e-01,\n",
       "        -3.12995047e-02,  2.85044378e-01, -1.15755322e-01,\n",
       "        -7.48883917e-02,  9.24840119e-03,  4.01888078e-02],\n",
       "       [ 7.82639231e-02,  1.84803079e-01, -7.07782693e-02,\n",
       "        -4.26380683e-02,  3.50405126e-02,  3.08078427e-02,\n",
       "        -9.48810320e-02,  8.35933651e-02, -9.20824946e-02,\n",
       "         1.85335804e-01, -1.16248931e-01, -9.16590669e-02,\n",
       "         1.99260164e-01, -6.51313076e-02,  6.06264191e-01,\n",
       "        -6.67193571e-01,  1.05390963e-01,  4.71864384e-02],\n",
       "       [ 6.83507874e-02, -8.28509319e-02,  4.03254021e-02,\n",
       "        -4.53179952e-02, -4.24420301e-02,  2.14419660e-01,\n",
       "        -1.67235256e-02,  7.69757968e-02,  4.76891277e-04,\n",
       "        -5.87928602e-02, -2.66347323e-04, -1.92120603e-02,\n",
       "        -5.97676059e-02,  1.44905257e-01,  7.27997801e-01,\n",
       "         6.00846025e-01, -1.02145260e-01, -3.12388709e-02],\n",
       "       [ 1.35069871e-01, -2.81611680e-01, -1.35600777e-01,\n",
       "         2.55838765e-01,  2.46960650e-01, -4.35585254e-01,\n",
       "         1.13230280e-01, -1.43022855e-01,  9.17539257e-02,\n",
       "        -4.65512381e-01,  2.33618240e-01,  1.49986839e-01,\n",
       "        -1.32880088e-01,  2.37762529e-01,  2.05261197e-01,\n",
       "        -1.78246413e-01,  1.52965220e-01, -2.46829302e-01],\n",
       "       [ 4.61888203e-01, -2.40783719e-01,  6.71491552e-02,\n",
       "        -1.69783148e-01, -3.90610309e-01,  4.89446030e-01,\n",
       "         6.75765862e-02,  1.00465076e-02,  9.86343596e-02,\n",
       "        -1.23613325e-01,  1.24152417e-01,  8.42061925e-02,\n",
       "        -3.85707208e-01,  1.18026760e-01, -7.44564160e-02,\n",
       "        -2.86888115e-01,  2.16697434e-02,  3.71685419e-03],\n",
       "       [-5.71112705e-01, -1.74180341e-01,  4.32158777e-01,\n",
       "         1.00251741e-01, -7.74111735e-02,  1.63915134e-01,\n",
       "         1.02913780e-01, -2.21003460e-01,  6.71627059e-02,\n",
       "        -2.49514025e-01,  5.64772291e-02,  3.62234908e-02,\n",
       "        -1.16102049e-01, -3.34151684e-01,  1.56218307e-01,\n",
       "        -2.09098689e-01, -2.98148457e-01, -3.09770361e-02],\n",
       "       [-4.73244692e-01, -1.48899774e-03, -1.80019300e-01,\n",
       "        -2.23344146e-01, -2.82257815e-01,  1.48440941e-01,\n",
       "         6.11034979e-02, -1.56456634e-01,  1.32084286e-02,\n",
       "        -7.53718653e-02,  2.95246607e-01,  7.30583961e-02,\n",
       "         2.40230918e-01,  3.27452919e-01,  2.07461251e-02,\n",
       "         9.90998015e-03,  5.19519378e-01,  1.73500475e-01],\n",
       "       [-2.57223220e-01,  8.18001040e-02, -2.02991360e-01,\n",
       "        -4.90418553e-02,  1.09313430e-01, -1.25507373e-01,\n",
       "         1.65649258e-01, -1.51398577e-01,  1.92886553e-01,\n",
       "         4.84017810e-01, -1.20876373e-01,  1.43371303e-01,\n",
       "        -6.81144130e-01,  1.35759573e-01,  9.90741815e-02,\n",
       "        -3.45663287e-02,  2.10463714e-02,  7.06065014e-02],\n",
       "       [ 4.71285364e-02, -1.26364564e-02,  7.08403115e-01,\n",
       "        -1.18726537e-01,  4.04533779e-02, -2.57926796e-01,\n",
       "        -1.64573286e-01, -4.94672035e-02, -2.70336798e-01,\n",
       "         1.47648881e-01,  8.67309133e-02, -2.52015127e-01,\n",
       "        -1.41436775e-01,  4.15635098e-01, -1.49506438e-02,\n",
       "        -3.03229916e-02,  1.26138649e-01,  9.09245047e-02],\n",
       "       [-3.06942869e-02,  1.14463711e-01,  3.43053414e-02,\n",
       "         1.44351800e-01, -8.76123267e-02,  1.32418891e-01,\n",
       "        -1.04841245e-01, -5.61759179e-02, -2.06769531e-01,\n",
       "         1.95300126e-01,  1.78884195e-01, -1.23708369e-01,\n",
       "        -1.50012811e-01, -2.91935523e-01, -4.25367063e-03,\n",
       "         8.49692890e-02,  3.98895899e-01, -7.22702165e-01],\n",
       "       [-1.64505738e-01,  5.09800564e-02,  2.18493566e-01,\n",
       "         6.59881955e-02,  9.63869895e-03, -5.16549520e-02,\n",
       "        -2.66318540e-02,  8.32362253e-01,  2.96601066e-01,\n",
       "         1.26050106e-02,  1.55765578e-01,  2.91971000e-01,\n",
       "        -5.46616205e-02,  3.49023700e-03, -8.43219219e-03,\n",
       "        -3.77489948e-02,  1.32689545e-01, -4.69463872e-02],\n",
       "       [-4.63357051e-02,  1.65475999e-01, -1.96968576e-01,\n",
       "         6.01661825e-01, -3.93557376e-01, -7.25726839e-02,\n",
       "        -9.73802075e-02,  1.05740938e-01, -2.88197151e-01,\n",
       "         5.49382250e-02,  3.66351766e-01, -1.35851052e-01,\n",
       "        -1.40560569e-01,  9.38710765e-02,  1.94097147e-02,\n",
       "        -2.01512109e-02, -2.50064133e-01,  2.41308946e-01],\n",
       "       [ 3.63127914e-02, -3.89363291e-01, -1.31722716e-01,\n",
       "        -3.49545763e-01,  2.33129067e-01, -8.03658301e-02,\n",
       "        -7.31187424e-02,  4.68728186e-02, -8.88897445e-02,\n",
       "         3.08681232e-01,  6.45813085e-01, -4.77228762e-02,\n",
       "         5.34523334e-02, -2.58861564e-01,  3.00748076e-02,\n",
       "        -6.78140062e-03, -1.96159102e-01,  8.57928598e-02],\n",
       "       [-3.91862302e-02, -6.79052269e-01,  2.20587423e-02,\n",
       "         3.63644053e-01, -1.78880712e-01, -3.71813559e-03,\n",
       "        -1.24501740e-02,  8.59183482e-03,  1.90976263e-01,\n",
       "         4.09922170e-01, -2.64388494e-01, -9.56524570e-02,\n",
       "         2.57310703e-01,  1.10001666e-01, -1.22245116e-02,\n",
       "        -1.40023199e-02,  8.37802860e-02, -5.61722229e-02],\n",
       "       [ 6.22993043e-03,  1.53693199e-01, -3.51047664e-02,\n",
       "         3.95250597e-03, -1.28227067e-02, -2.19396869e-02,\n",
       "        -3.61938169e-01, -9.27041458e-02,  6.96963768e-01,\n",
       "        -8.61653075e-02,  1.50627964e-01, -5.62547738e-01,\n",
       "        -4.93642253e-02, -7.71893041e-03, -2.26691998e-05,\n",
       "         2.00936048e-03, -9.32569651e-04,  4.42051331e-03],\n",
       "       [ 2.07442902e-04, -1.54916864e-02,  1.08421303e-02,\n",
       "         3.01119632e-02, -2.49311596e-02,  9.27800838e-03,\n",
       "        -7.96756656e-01, -2.19323747e-01,  2.07076018e-02,\n",
       "         2.74385182e-02, -3.27195980e-02,  5.57610400e-01,\n",
       "        -6.58038887e-03,  1.12227772e-02,  3.86455028e-03,\n",
       "         7.09216761e-03, -3.77723394e-02,  1.61592213e-02]])"
      ]
     },
     "execution_count": 7,
     "metadata": {},
     "output_type": "execute_result"
    }
   ],
   "source": [
    "pca2['pca'].components_"
   ]
  },
  {
   "cell_type": "code",
   "execution_count": 8,
   "metadata": {},
   "outputs": [
    {
     "data": {
      "text/plain": [
       "array([0.52384272, 0.16792221, 0.10548945, 0.06546261, 0.05079633])"
      ]
     },
     "execution_count": 8,
     "metadata": {},
     "output_type": "execute_result"
    }
   ],
   "source": [
    "pca2= make_pipeline(\n",
    "    StandardScaler(),PCA(n_components=5)\n",
    "    \n",
    ")\n",
    "pca2.fit_transform(dogNoStr_df)\n",
    "pca2['pca'].explained_variance_ratio_"
   ]
  },
  {
   "cell_type": "code",
   "execution_count": 9,
   "metadata": {},
   "outputs": [
    {
     "data": {
      "text/html": [
       "<div>\n",
       "<style scoped>\n",
       "    .dataframe tbody tr th:only-of-type {\n",
       "        vertical-align: middle;\n",
       "    }\n",
       "\n",
       "    .dataframe tbody tr th {\n",
       "        vertical-align: top;\n",
       "    }\n",
       "\n",
       "    .dataframe thead th {\n",
       "        text-align: right;\n",
       "    }\n",
       "</style>\n",
       "<table border=\"1\" class=\"dataframe\">\n",
       "  <thead>\n",
       "    <tr style=\"text-align: right;\">\n",
       "      <th></th>\n",
       "      <th>0</th>\n",
       "      <th>1</th>\n",
       "      <th>2</th>\n",
       "      <th>3</th>\n",
       "      <th>4</th>\n",
       "      <th>breuni_class</th>\n",
       "    </tr>\n",
       "  </thead>\n",
       "  <tbody>\n",
       "    <tr>\n",
       "      <th>0</th>\n",
       "      <td>0.329746</td>\n",
       "      <td>-0.215835</td>\n",
       "      <td>0.997248</td>\n",
       "      <td>0.171485</td>\n",
       "      <td>0.081947</td>\n",
       "      <td>fashion_lifestyle_elite</td>\n",
       "    </tr>\n",
       "    <tr>\n",
       "      <th>1</th>\n",
       "      <td>-1.594478</td>\n",
       "      <td>-0.422979</td>\n",
       "      <td>-0.370002</td>\n",
       "      <td>0.231497</td>\n",
       "      <td>0.691322</td>\n",
       "      <td>fashion_lifestyle_elite</td>\n",
       "    </tr>\n",
       "    <tr>\n",
       "      <th>2</th>\n",
       "      <td>3.760799</td>\n",
       "      <td>0.186851</td>\n",
       "      <td>0.087971</td>\n",
       "      <td>1.202770</td>\n",
       "      <td>0.729704</td>\n",
       "      <td>main_stream</td>\n",
       "    </tr>\n",
       "    <tr>\n",
       "      <th>3</th>\n",
       "      <td>-1.742311</td>\n",
       "      <td>-2.825632</td>\n",
       "      <td>0.111181</td>\n",
       "      <td>0.374927</td>\n",
       "      <td>-0.370714</td>\n",
       "      <td>fashion_lifestyle_elite</td>\n",
       "    </tr>\n",
       "    <tr>\n",
       "      <th>4</th>\n",
       "      <td>0.549668</td>\n",
       "      <td>4.764098</td>\n",
       "      <td>11.689234</td>\n",
       "      <td>0.163830</td>\n",
       "      <td>3.257210</td>\n",
       "      <td>trendy</td>\n",
       "    </tr>\n",
       "  </tbody>\n",
       "</table>\n",
       "</div>"
      ],
      "text/plain": [
       "          0         1          2         3         4             breuni_class\n",
       "0  0.329746 -0.215835   0.997248  0.171485  0.081947  fashion_lifestyle_elite\n",
       "1 -1.594478 -0.422979  -0.370002  0.231497  0.691322  fashion_lifestyle_elite\n",
       "2  3.760799  0.186851   0.087971  1.202770  0.729704              main_stream\n",
       "3 -1.742311 -2.825632   0.111181  0.374927 -0.370714  fashion_lifestyle_elite\n",
       "4  0.549668  4.764098  11.689234  0.163830  3.257210                   trendy"
      ]
     },
     "execution_count": 9,
     "metadata": {},
     "output_type": "execute_result"
    }
   ],
   "source": [
    "df2 = pd.DataFrame(pca2.fit_transform(dogNoStr_df))\n",
    "df2['breuni_class'] = dogStr_df\n",
    "df2.head()"
   ]
  },
  {
   "cell_type": "code",
   "execution_count": 9,
   "metadata": {},
   "outputs": [],
   "source": [
    "df2.to_csv('data/test_and_training_data/v2_data_dog_PCA+standardized.csv', index=False)"
   ]
  },
  {
   "cell_type": "code",
   "execution_count": 17,
   "metadata": {},
   "outputs": [
    {
     "data": {
      "text/plain": [
       "<AxesSubplot: >"
      ]
     },
     "execution_count": 17,
     "metadata": {},
     "output_type": "execute_result"
    },
    {
     "data": {
      "image/png": "[encoded data removed]",
      "text/plain": [
       "<Figure size 640x480 with 1 Axes>"
      ]
     },
     "metadata": {},
     "output_type": "display_data"
    }
   ],
   "source": [
    "#sns.pairplot(data=df2)\n",
    "#plt.show()\n",
    "sns.rugplot(data=df2, height=0.025, expand_margins=True, palette=None, hue_order=None, hue_norm=None, legend=True, ax=None)"
   ]
  },
  {
   "cell_type": "markdown",
   "metadata": {},
   "source": [
    "<h1>Variante 3 \"PCA ohne Standardisierung\" </h1>"
   ]
  },
  {
   "cell_type": "code",
   "execution_count": 12,
   "metadata": {},
   "outputs": [],
   "source": [
    "pca3 = PCA(n_components=18)"
   ]
  },
  {
   "cell_type": "code",
   "execution_count": 13,
   "metadata": {},
   "outputs": [
    {
     "data": {
      "text/plain": [
       "array([9.59254724e-01, 1.79839369e-02, 1.19578103e-02, 3.93789057e-03,\n",
       "       1.96638556e-03, 1.33164194e-03, 1.14732207e-03, 7.72773169e-04,\n",
       "       6.25803575e-04, 3.26260692e-04, 2.59883176e-04, 1.63508071e-04,\n",
       "       1.29184631e-04, 6.82487246e-05, 4.65151738e-05, 1.93942985e-05,\n",
       "       6.73580871e-06, 1.98111044e-06])"
      ]
     },
     "execution_count": 13,
     "metadata": {},
     "output_type": "execute_result"
    }
   ],
   "source": [
    "pca3.fit_transform(dogNoStr_df)\n",
    "pca3.explained_variance_ratio_"
   ]
  },
  {
   "cell_type": "markdown",
   "metadata": {},
   "source": [
    "1. 95,92%\n",
    "2. 1,79%\n",
    "3. 1,19%\n",
    "4. 0,39%"
   ]
  },
  {
   "cell_type": "code",
   "execution_count": 14,
   "metadata": {},
   "outputs": [],
   "source": [
    "pca3 = PCA(n_components=1)"
   ]
  },
  {
   "cell_type": "code",
   "execution_count": 15,
   "metadata": {},
   "outputs": [
    {
     "data": {
      "text/html": [
       "<div>\n",
       "<style scoped>\n",
       "    .dataframe tbody tr th:only-of-type {\n",
       "        vertical-align: middle;\n",
       "    }\n",
       "\n",
       "    .dataframe tbody tr th {\n",
       "        vertical-align: top;\n",
       "    }\n",
       "\n",
       "    .dataframe thead th {\n",
       "        text-align: right;\n",
       "    }\n",
       "</style>\n",
       "<table border=\"1\" class=\"dataframe\">\n",
       "  <thead>\n",
       "    <tr style=\"text-align: right;\">\n",
       "      <th></th>\n",
       "      <th>0</th>\n",
       "      <th>breuni_class</th>\n",
       "    </tr>\n",
       "  </thead>\n",
       "  <tbody>\n",
       "    <tr>\n",
       "      <th>0</th>\n",
       "      <td>-57.332839</td>\n",
       "      <td>fashion_lifestyle_elite</td>\n",
       "    </tr>\n",
       "    <tr>\n",
       "      <th>1</th>\n",
       "      <td>-116.911811</td>\n",
       "      <td>fashion_lifestyle_elite</td>\n",
       "    </tr>\n",
       "    <tr>\n",
       "      <th>2</th>\n",
       "      <td>211.526976</td>\n",
       "      <td>main_stream</td>\n",
       "    </tr>\n",
       "    <tr>\n",
       "      <th>3</th>\n",
       "      <td>-141.291488</td>\n",
       "      <td>fashion_lifestyle_elite</td>\n",
       "    </tr>\n",
       "    <tr>\n",
       "      <th>4</th>\n",
       "      <td>-98.423682</td>\n",
       "      <td>trendy</td>\n",
       "    </tr>\n",
       "  </tbody>\n",
       "</table>\n",
       "</div>"
      ],
      "text/plain": [
       "            0             breuni_class\n",
       "0  -57.332839  fashion_lifestyle_elite\n",
       "1 -116.911811  fashion_lifestyle_elite\n",
       "2  211.526976              main_stream\n",
       "3 -141.291488  fashion_lifestyle_elite\n",
       "4  -98.423682                   trendy"
      ]
     },
     "execution_count": 15,
     "metadata": {},
     "output_type": "execute_result"
    }
   ],
   "source": [
    "df3 = pd.DataFrame(pca3.fit_transform(dogNoStr_df))\n",
    "df3['breuni_class'] = dogStr_df\n",
    "df3.head()"
   ]
  },
  {
   "cell_type": "code",
   "execution_count": 16,
   "metadata": {},
   "outputs": [],
   "source": [
    "df3.to_csv('data/test_and_training_data/v3_data_dog_PCA-standardized.csv', index=False)"
   ]
  },
  {
   "cell_type": "markdown",
   "metadata": {},
   "source": [
    "<h1>Variante 4 \"Iso Maps\" </h1>"
   ]
  },
  {
   "cell_type": "code",
   "execution_count": 36,
   "metadata": {},
   "outputs": [],
   "source": [
    "iso = Isomap(n_components=1)\n",
    "df4 = pd.DataFrame(iso.fit_transform(dogNoStr_df))\n",
    "df4['breuni_class'] = dogStr_df\n",
    "df4.head()\n",
    "df4.to_csv('data/test_and_training_data/v4.1_data_dog_IsoMaps.csv', index=False)"
   ]
  },
  {
   "cell_type": "code",
   "execution_count": 37,
   "metadata": {},
   "outputs": [],
   "source": [
    "iso = Isomap(n_components=2)\n",
    "df4 = pd.DataFrame(iso.fit_transform(dogNoStr_df))\n",
    "df4['breuni_class'] = dogStr_df\n",
    "df4.head()\n",
    "df4.to_csv('data/test_and_training_data/v4.2_data_dog_IsoMaps.csv', index=False)"
   ]
  },
  {
   "cell_type": "code",
   "execution_count": 38,
   "metadata": {},
   "outputs": [],
   "source": [
    "iso = Isomap(n_components=3)\n",
    "df4 = pd.DataFrame(iso.fit_transform(dogNoStr_df))\n",
    "df4['breuni_class'] = dogStr_df\n",
    "df4.head()\n",
    "df4.to_csv('data/test_and_training_data/v4.3_data_dog_IsoMaps.csv', index=False)"
   ]
  },
  {
   "cell_type": "code",
   "execution_count": 39,
   "metadata": {},
   "outputs": [],
   "source": [
    "iso = Isomap(n_components=4)\n",
    "df4 = pd.DataFrame(iso.fit_transform(dogNoStr_df))\n",
    "df4['breuni_class'] = dogStr_df\n",
    "df4.head()\n",
    "df4.to_csv('data/test_and_training_data/v4.4_data_dog_IsoMaps.csv', index=False)"
   ]
  },
  {
   "cell_type": "code",
   "execution_count": 40,
   "metadata": {},
   "outputs": [],
   "source": [
    "iso = Isomap(n_components=5)\n",
    "df4 = pd.DataFrame(iso.fit_transform(dogNoStr_df))\n",
    "df4['breuni_class'] = dogStr_df\n",
    "df4.head()\n",
    "df4.to_csv('data/test_and_training_data/v4.5_data_dog_IsoMaps.csv', index=False)"
   ]
  },
  {
   "cell_type": "markdown",
   "metadata": {},
   "source": [
    "<h1>Variante 5 \"Locally Linear Embedding\" </h1>"
   ]
  },
  {
   "cell_type": "code",
   "execution_count": 49,
   "metadata": {},
   "outputs": [],
   "source": [
    "lle = LocallyLinearEmbedding(n_components=1)\n",
    "df5 = pd.DataFrame(lle.fit_transform(dogNoStr_df))\n",
    "df5['breuni_class'] = dogStr_df\n",
    "df5.head()\n",
    "df5.to_csv('data/test_and_training_data/v5.1_data_dog_LLE.csv', index=False)"
   ]
  },
  {
   "cell_type": "code",
   "execution_count": 50,
   "metadata": {},
   "outputs": [],
   "source": [
    "lle = LocallyLinearEmbedding(n_components=2)\n",
    "df5 = pd.DataFrame(lle.fit_transform(dogNoStr_df))\n",
    "df5['breuni_class'] = dogStr_df\n",
    "df5.head()\n",
    "df5.to_csv('data/test_and_training_data/v5.2_data_dog_LLE.csv', index=False)"
   ]
  },
  {
   "cell_type": "code",
   "execution_count": 51,
   "metadata": {},
   "outputs": [],
   "source": [
    "lle = LocallyLinearEmbedding(n_components=3)\n",
    "df5 = pd.DataFrame(lle.fit_transform(dogNoStr_df))\n",
    "df5['breuni_class'] = dogStr_df\n",
    "df5.head()\n",
    "df5.to_csv('data/test_and_training_data/v5.3_data_dog_LLE.csv', index=False)"
   ]
  },
  {
   "cell_type": "code",
   "execution_count": 52,
   "metadata": {},
   "outputs": [],
   "source": [
    "lle = LocallyLinearEmbedding(n_components=4)\n",
    "df5 = pd.DataFrame(lle.fit_transform(dogNoStr_df))\n",
    "df5['breuni_class'] = dogStr_df\n",
    "df5.head()\n",
    "df5.to_csv('data/test_and_training_data/v5.4_data_dog_LLE.csv', index=False)"
   ]
  },
  {
   "cell_type": "code",
   "execution_count": 53,
   "metadata": {},
   "outputs": [],
   "source": [
    "lle = LocallyLinearEmbedding(n_components=5)\n",
    "df5 = pd.DataFrame(lle.fit_transform(dogNoStr_df))\n",
    "df5['breuni_class'] = dogStr_df\n",
    "df5.head()\n",
    "df5.to_csv('data/test_and_training_data/v5.5_data_dog_LLE.csv', index=False)"
   ]
  }
 ],
 "metadata": {
  "kernelspec": {
   "display_name": "Python 3.10.7 64-bit",
   "language": "python",
   "name": "python3"
  },
  "language_info": {
   "codemirror_mode": {
    "name": "ipython",
    "version": 3
   },
   "file_extension": ".py",
   "mimetype": "text/x-python",
   "name": "python",
   "nbconvert_exporter": "python",
   "pygments_lexer": "ipython3",
   "version": "3.10.7"
  },
  "orig_nbformat": 4,
  "vscode": {
   "interpreter": {
    "hash": "6890afbb1b86a193ffc1a3893801634c5431b895e798e683ada4f1b7048038ab"
   }
  }
 },
 "nbformat": 4,
 "nbformat_minor": 2
}
